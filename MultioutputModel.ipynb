{
  "cells": [
    {
      "cell_type": "markdown",
      "metadata": {
        "id": "view-in-github",
        "colab_type": "text"
      },
      "source": [
        "<a href=\"https://colab.research.google.com/github/mikulicmateo/StockPrediction/blob/main/MultioutputModel.ipynb\" target=\"_parent\"><img src=\"https://colab.research.google.com/assets/colab-badge.svg\" alt=\"Open In Colab\"/></a>"
      ]
    },
    {
      "cell_type": "code",
      "execution_count": 1,
      "metadata": {
        "id": "4zAHeEuPuXAm"
      },
      "outputs": [],
      "source": [
        "import numpy as np\n",
        "import json\n",
        "from tensorflow.keras.models import Sequential\n",
        "from tensorflow.keras.optimizers import Adam\n",
        "from tensorflow.keras.layers import Input, BatchNormalization\n",
        "from keras.layers.core import Dense, Dropout\n",
        "from keras.regularizers import l2\n",
        "from keras.callbacks import ReduceLROnPlateau\n",
        "from matplotlib import pyplot\n",
        "from datetime import datetime\n",
        "import tensorflow as tf"
      ]
    },
    {
      "cell_type": "code",
      "execution_count": 2,
      "metadata": {
        "id": "RwviWsIVuo4Q"
      },
      "outputs": [],
      "source": [
        "\n",
        "def calculate_typical_price(row):\n",
        "    typical_price = (row[1] + row[2] + row[3])/3\n",
        "    return typical_price"
      ]
    },
    {
      "cell_type": "code",
      "execution_count": 3,
      "metadata": {
        "id": "HHwlhXp7uuWn"
      },
      "outputs": [],
      "source": [
        "with open(\"/content/drive/MyDrive/dataset-extendedv3.json\") as json_file:\n",
        "    dataset = json.loads(json_file.read())"
      ]
    },
    {
      "cell_type": "code",
      "execution_count": 4,
      "metadata": {
        "id": "544l8ceUBI6W"
      },
      "outputs": [],
      "source": [
        "num_given_days = 60\n",
        "num_predicted_days = 30\n",
        "data_per_day = 8\n",
        "\n",
        "seq_len_x = num_given_days * data_per_day\n",
        "seq_stride_x = num_predicted_days * data_per_day\n",
        "seq_len_y = num_predicted_days\n",
        "seq_stride_y = num_given_days"
      ]
    },
    {
      "cell_type": "code",
      "execution_count": 5,
      "metadata": {
        "id": "PHREEi9TzHiL"
      },
      "outputs": [],
      "source": [
        "def make_y(data):\n",
        "  new_data = []\n",
        "  for i in range(len(data)):\n",
        "    if i % data_per_day != 0:\n",
        "      continue\n",
        "    new_data.append(calculate_typical_price(data[i:i+data_per_day]))\n",
        "  return new_data"
      ]
    },
    {
      "cell_type": "code",
      "execution_count": 6,
      "metadata": {
        "id": "rJCNbAMCu4Ni"
      },
      "outputs": [],
      "source": [
        "ds_train_x = None\n",
        "ds_train_y = None\n",
        "\n",
        "ds_valid_x = None\n",
        "ds_valid_y = None\n",
        "\n",
        "ds_test_x = None\n",
        "ds_test_y = None\n",
        "\n",
        "def load_from_d(dataset):\n",
        "  global ds_train_x\n",
        "  global ds_train_y\n",
        "  global ds_valid_x\n",
        "  global ds_valid_y\n",
        "  global ds_test_x   \n",
        "  global ds_test_y   \n",
        "  for j in dataset.keys():\n",
        "    data_train = []\n",
        "    data_valid = []\n",
        "    data_test = []\n",
        "    for i in dataset[j]:\n",
        "      date_string = i.get('date')\n",
        "      if date_string < \"2018-01-01\":\n",
        "          data_train = data_train + ([float(i.get('open')), float(i.get('high')), float(i.get('low')), float(i.get('close')), \\\n",
        "              float(i.get('volume')), float(i.get('rsi')), float(i.get('sma')), float(i.get('ema'))])\n",
        "      elif date_string < \"2020-01-01\":\n",
        "          data_valid = data_valid + ([float(i.get('open')), float(i.get('high')), float(i.get('low')), float(i.get('close')), \\\n",
        "              float(i.get('volume')), float(i.get('rsi')), float(i.get('sma')), float(i.get('ema'))])\n",
        "      else:\n",
        "          data_test = data_test + ([float(i.get('open')), float(i.get('high')), float(i.get('low')), float(i.get('close')), \\\n",
        "              float(i.get('volume')), float(i.get('rsi')), float(i.get('sma')), float(i.get('ema'))])\n",
        "\n",
        "    if len(data_train) >= seq_len_x:\n",
        "      \n",
        "      target_train = make_y(data_train)\n",
        "\n",
        "      x_train_dataset = tf.keras.preprocessing.timeseries_dataset_from_array(\n",
        "          data_train,\n",
        "          None,\n",
        "          sequence_length=seq_len_x,\n",
        "          sequence_stride=seq_stride_x,\n",
        "          sampling_rate=1,\n",
        "          batch_size=None,\n",
        "          end_index=len(data_train)-seq_stride_x\n",
        "      )\n",
        "\n",
        "      y_train_dataset = tf.keras.preprocessing.timeseries_dataset_from_array(\n",
        "          target_train,\n",
        "          None,\n",
        "          sequence_length=seq_len_y,\n",
        "          sequence_stride=seq_stride_y,\n",
        "          sampling_rate=1,\n",
        "          batch_size=None,\n",
        "          start_index=num_given_days,\n",
        "      )\n",
        "\n",
        "    if len(data_valid) >= seq_len_x:\n",
        "\n",
        "      target_valid = make_y(data_valid)\n",
        "      x_valid_dataset = tf.keras.preprocessing.timeseries_dataset_from_array(\n",
        "          data_valid,\n",
        "          None,\n",
        "          sequence_length=seq_len_x,\n",
        "          sequence_stride=seq_stride_x,\n",
        "          sampling_rate=1,\n",
        "          batch_size=None,\n",
        "          end_index=len(data_valid)-seq_stride_x\n",
        "      )\n",
        "\n",
        "      y_valid_dataset = tf.keras.preprocessing.timeseries_dataset_from_array(\n",
        "          target_valid,\n",
        "          None,\n",
        "          sequence_length=seq_len_y,\n",
        "          sequence_stride=seq_stride_y,\n",
        "          sampling_rate=1,\n",
        "          batch_size=None,\n",
        "          start_index=num_given_days,\n",
        "      )\n",
        "\n",
        "    if len(data_test) >= seq_len_x:\n",
        "\n",
        "      target_test = make_y(data_test)\n",
        "      x_test_dataset = tf.keras.preprocessing.timeseries_dataset_from_array(\n",
        "          data_test,\n",
        "          None,\n",
        "          sequence_length=seq_len_x,\n",
        "          sequence_stride=seq_stride_x,\n",
        "          sampling_rate=1,\n",
        "          batch_size=None,\n",
        "          end_index=len(data_test)-seq_stride_x\n",
        "      )\n",
        "\n",
        "      y_test_dataset = tf.keras.preprocessing.timeseries_dataset_from_array(\n",
        "          data_test,\n",
        "          None,\n",
        "          sequence_length=seq_len_y,\n",
        "          sequence_stride=seq_stride_y,\n",
        "          sampling_rate=1,\n",
        "          batch_size=None,\n",
        "          start_index=num_given_days,\n",
        "      )\n",
        "\n",
        "    if not ds_train_x:\n",
        "      ds_train_x = x_train_dataset\n",
        "      ds_train_y = y_train_dataset\n",
        "      ds_valid_x = x_valid_dataset\n",
        "      ds_valid_y = y_valid_dataset\n",
        "      ds_test_x = x_test_dataset\n",
        "      ds_test_y = y_test_dataset\n",
        "    else:\n",
        "      ds_train_x = ds_train_x.concatenate(x_train_dataset)\n",
        "      ds_train_y = ds_train_y.concatenate(y_train_dataset)\n",
        "      ds_valid_x = ds_valid_x.concatenate(x_valid_dataset)\n",
        "      ds_valid_y = ds_valid_y.concatenate(y_valid_dataset)\n",
        "      ds_test_x = ds_test_x.concatenate(x_test_dataset)\n",
        "      ds_test_y = ds_test_y.concatenate(y_test_dataset)"
      ]
    },
    {
      "cell_type": "code",
      "execution_count": 7,
      "metadata": {
        "id": "4o3ItgUf_-QY"
      },
      "outputs": [],
      "source": [
        "load_from_d(dataset)"
      ]
    },
    {
      "cell_type": "code",
      "execution_count": 8,
      "metadata": {
        "id": "x6fDHmzezHXe"
      },
      "outputs": [],
      "source": [
        "def create_model():\n",
        "  l_model = Sequential()\n",
        "  l_model.add(Input(480))\n",
        "#  l_model.add(Dense(960, activation=\"relu\"))\n",
        "#  l_model.add(Dense(480, activation=\"softplus\"))\n",
        "  l_model.add(Dense(240, activation=\"relu\"))\n",
        "  l_model.add(Dense(120, activation=\"softplus\"))\n",
        "#  l_model.add(Dropout(0.5))\n",
        "  l_model.add(Dense(60, activation=\"linear\"))\n",
        "  l_model.add(Dense(30, activation=\"softplus\"))\n",
        "  l_model.compile(Adam(learning_rate=0.001), loss=\"msle\", metrics=[\"mse\", \"mae\", \"msle\"])\n",
        "  return l_model"
      ]
    },
    {
      "cell_type": "code",
      "execution_count": 9,
      "metadata": {
        "id": "sfHmwUODg3az"
      },
      "outputs": [],
      "source": [
        "ds_train = tf.data.Dataset.zip((ds_train_x , ds_train_y)).batch(32)"
      ]
    },
    {
      "cell_type": "code",
      "execution_count": 10,
      "metadata": {
        "id": "lVwbjymJkHo8"
      },
      "outputs": [],
      "source": [
        "ds_valid = tf.data.Dataset.zip((ds_valid_x, ds_valid_y)).batch(8)"
      ]
    },
    {
      "cell_type": "code",
      "execution_count": 11,
      "metadata": {
        "colab": {
          "base_uri": "https://localhost:8080/"
        },
        "id": "3EiSZhZwidRU",
        "outputId": "7d59ad17-0074-4059-a3e4-a6979a0459e5"
      },
      "outputs": [
        {
          "output_type": "stream",
          "name": "stdout",
          "text": [
            "(8, 480)\n",
            "(8, 30)\n"
          ]
        }
      ],
      "source": [
        "for x,y in ds_valid:\n",
        "  print(x.shape)\n",
        "  print(y.shape)\n",
        "  break"
      ]
    },
    {
      "cell_type": "code",
      "execution_count": 12,
      "metadata": {
        "colab": {
          "base_uri": "https://localhost:8080/"
        },
        "id": "barJ4WCQEOt9",
        "outputId": "35a6f2b6-84b7-4105-a277-c0366ca99155"
      },
      "outputs": [
        {
          "output_type": "stream",
          "name": "stdout",
          "text": [
            "(32, 480)\n",
            "(32, 30)\n"
          ]
        }
      ],
      "source": [
        "for x,y in ds_train:\n",
        "  print(x.shape)\n",
        "  print(y.shape)\n",
        "  break"
      ]
    },
    {
      "cell_type": "code",
      "execution_count": 13,
      "metadata": {
        "id": "6GqMqs5ieqMp"
      },
      "outputs": [],
      "source": [
        "learning_rate_reduction = ReduceLROnPlateau(monitor='val_loss',\n",
        "                                            patience=3,\n",
        "                                            verbose=1,\n",
        "                                            factor=0.5,\n",
        "                                            min_lr=0.00001)"
      ]
    },
    {
      "cell_type": "code",
      "execution_count": 14,
      "metadata": {
        "colab": {
          "base_uri": "https://localhost:8080/"
        },
        "id": "RU7WDobi8FAF",
        "outputId": "18d5b28d-5e7b-41ee-82c8-14aad65f5093"
      },
      "outputs": [
        {
          "output_type": "stream",
          "name": "stdout",
          "text": [
            "Model: \"sequential\"\n",
            "_________________________________________________________________\n",
            " Layer (type)                Output Shape              Param #   \n",
            "=================================================================\n",
            " dense (Dense)               (None, 240)               115440    \n",
            "                                                                 \n",
            " dense_1 (Dense)             (None, 120)               28920     \n",
            "                                                                 \n",
            " dense_2 (Dense)             (None, 60)                7260      \n",
            "                                                                 \n",
            " dense_3 (Dense)             (None, 30)                1830      \n",
            "                                                                 \n",
            "=================================================================\n",
            "Total params: 153,450\n",
            "Trainable params: 153,450\n",
            "Non-trainable params: 0\n",
            "_________________________________________________________________\n",
            "Epoch 1/30\n",
            "245/245 [==============================] - 19s 62ms/step - loss: 13.0346 - mse: 45198557184.0000 - mae: 9574.4033 - msle: 13.0346 - val_loss: 14.0981 - val_mse: 32680.0938 - val_mae: 73.7751 - val_msle: 14.0981 - lr: 0.0010\n",
            "Epoch 2/30\n",
            "245/245 [==============================] - 15s 60ms/step - loss: 12.6030 - mse: 5569.5103 - mae: 44.4937 - msle: 12.6030 - val_loss: 14.0984 - val_mse: 32746.9551 - val_mae: 73.8279 - val_msle: 14.0984 - lr: 0.0010\n",
            "Epoch 3/30\n",
            "245/245 [==============================] - 14s 59ms/step - loss: 12.6029 - mse: 4797.2349 - mae: 44.4364 - msle: 12.6029 - val_loss: 14.0984 - val_mse: 32746.9863 - val_mae: 73.8279 - val_msle: 14.0984 - lr: 0.0010\n",
            "Epoch 4/30\n",
            "243/245 [============================>.] - ETA: 0s - loss: 12.6056 - mse: 4811.8706 - mae: 44.4782 - msle: 12.6056\n",
            "Epoch 4: ReduceLROnPlateau reducing learning rate to 0.0005000000237487257.\n",
            "245/245 [==============================] - 16s 65ms/step - loss: 12.6029 - mse: 4797.2349 - mae: 44.4364 - msle: 12.6029 - val_loss: 14.0984 - val_mse: 32746.9863 - val_mae: 73.8279 - val_msle: 14.0984 - lr: 0.0010\n",
            "Epoch 5/30\n",
            "245/245 [==============================] - 16s 64ms/step - loss: 12.6029 - mse: 4797.2349 - mae: 44.4364 - msle: 12.6029 - val_loss: 14.0984 - val_mse: 32746.9863 - val_mae: 73.8279 - val_msle: 14.0984 - lr: 5.0000e-04\n",
            "Epoch 6/30\n",
            "245/245 [==============================] - 15s 62ms/step - loss: 12.6029 - mse: 4797.2349 - mae: 44.4364 - msle: 12.6029 - val_loss: 14.0984 - val_mse: 32746.9863 - val_mae: 73.8279 - val_msle: 14.0984 - lr: 5.0000e-04\n",
            "Epoch 7/30\n",
            "242/245 [============================>.] - ETA: 0s - loss: 12.5863 - mse: 4814.8135 - mae: 44.4001 - msle: 12.5863\n",
            "Epoch 7: ReduceLROnPlateau reducing learning rate to 0.0002500000118743628.\n",
            "245/245 [==============================] - 16s 65ms/step - loss: 12.6029 - mse: 4797.2349 - mae: 44.4364 - msle: 12.6029 - val_loss: 14.0984 - val_mse: 32746.9863 - val_mae: 73.8279 - val_msle: 14.0984 - lr: 5.0000e-04\n",
            "Epoch 8/30\n",
            "245/245 [==============================] - 15s 61ms/step - loss: 12.6029 - mse: 4797.2349 - mae: 44.4364 - msle: 12.6029 - val_loss: 14.0984 - val_mse: 32746.9863 - val_mae: 73.8279 - val_msle: 14.0984 - lr: 2.5000e-04\n",
            "Epoch 9/30\n",
            "245/245 [==============================] - 15s 62ms/step - loss: 12.6029 - mse: 4797.2349 - mae: 44.4364 - msle: 12.6029 - val_loss: 14.0984 - val_mse: 32746.9863 - val_mae: 73.8279 - val_msle: 14.0984 - lr: 2.5000e-04\n",
            "Epoch 10/30\n",
            "244/245 [============================>.] - ETA: 0s - loss: 12.6077 - mse: 4801.3613 - mae: 44.4639 - msle: 12.6077\n",
            "Epoch 10: ReduceLROnPlateau reducing learning rate to 0.0001250000059371814.\n",
            "245/245 [==============================] - 16s 66ms/step - loss: 12.6029 - mse: 4797.2349 - mae: 44.4364 - msle: 12.6029 - val_loss: 14.0984 - val_mse: 32746.9863 - val_mae: 73.8279 - val_msle: 14.0984 - lr: 2.5000e-04\n",
            "Epoch 11/30\n",
            "245/245 [==============================] - 16s 65ms/step - loss: 12.6029 - mse: 4797.2349 - mae: 44.4364 - msle: 12.6029 - val_loss: 14.0984 - val_mse: 32746.9863 - val_mae: 73.8279 - val_msle: 14.0984 - lr: 1.2500e-04\n",
            "Epoch 12/30\n",
            "245/245 [==============================] - 15s 61ms/step - loss: 12.6029 - mse: 4797.2349 - mae: 44.4364 - msle: 12.6029 - val_loss: 14.0984 - val_mse: 32746.9863 - val_mae: 73.8279 - val_msle: 14.0984 - lr: 1.2500e-04\n",
            "Epoch 13/30\n",
            "242/245 [============================>.] - ETA: 0s - loss: 12.5863 - mse: 4814.8135 - mae: 44.4001 - msle: 12.5863\n",
            "Epoch 13: ReduceLROnPlateau reducing learning rate to 6.25000029685907e-05.\n",
            "245/245 [==============================] - 16s 66ms/step - loss: 12.6029 - mse: 4797.2349 - mae: 44.4364 - msle: 12.6029 - val_loss: 14.0984 - val_mse: 32746.9863 - val_mae: 73.8279 - val_msle: 14.0984 - lr: 1.2500e-04\n",
            "Epoch 14/30\n",
            "245/245 [==============================] - 16s 64ms/step - loss: 12.6029 - mse: 4797.2349 - mae: 44.4364 - msle: 12.6029 - val_loss: 14.0984 - val_mse: 32746.9863 - val_mae: 73.8279 - val_msle: 14.0984 - lr: 6.2500e-05\n",
            "Epoch 15/30\n",
            "245/245 [==============================] - 15s 61ms/step - loss: 12.6029 - mse: 4797.2349 - mae: 44.4364 - msle: 12.6029 - val_loss: 14.0984 - val_mse: 32746.9863 - val_mae: 73.8279 - val_msle: 14.0984 - lr: 6.2500e-05\n",
            "Epoch 16/30\n",
            "243/245 [============================>.] - ETA: 0s - loss: 12.6056 - mse: 4811.8706 - mae: 44.4782 - msle: 12.6056\n",
            "Epoch 16: ReduceLROnPlateau reducing learning rate to 3.125000148429535e-05.\n",
            "245/245 [==============================] - 16s 65ms/step - loss: 12.6029 - mse: 4797.2349 - mae: 44.4364 - msle: 12.6029 - val_loss: 14.0984 - val_mse: 32746.9863 - val_mae: 73.8279 - val_msle: 14.0984 - lr: 6.2500e-05\n",
            "Epoch 17/30\n",
            "245/245 [==============================] - 15s 62ms/step - loss: 12.6029 - mse: 4797.2349 - mae: 44.4364 - msle: 12.6029 - val_loss: 14.0984 - val_mse: 32746.9863 - val_mae: 73.8279 - val_msle: 14.0984 - lr: 3.1250e-05\n",
            "Epoch 18/30\n",
            "245/245 [==============================] - 15s 59ms/step - loss: 12.6029 - mse: 4797.2349 - mae: 44.4364 - msle: 12.6029 - val_loss: 14.0984 - val_mse: 32746.9863 - val_mae: 73.8279 - val_msle: 14.0984 - lr: 3.1250e-05\n",
            "Epoch 19/30\n",
            "244/245 [============================>.] - ETA: 0s - loss: 12.6077 - mse: 4801.3613 - mae: 44.4639 - msle: 12.6077\n",
            "Epoch 19: ReduceLROnPlateau reducing learning rate to 1.5625000742147677e-05.\n",
            "245/245 [==============================] - 16s 65ms/step - loss: 12.6029 - mse: 4797.2349 - mae: 44.4364 - msle: 12.6029 - val_loss: 14.0984 - val_mse: 32746.9863 - val_mae: 73.8279 - val_msle: 14.0984 - lr: 3.1250e-05\n",
            "Epoch 20/30\n",
            "245/245 [==============================] - 16s 64ms/step - loss: 12.6029 - mse: 4797.2349 - mae: 44.4364 - msle: 12.6029 - val_loss: 14.0984 - val_mse: 32746.9863 - val_mae: 73.8279 - val_msle: 14.0984 - lr: 1.5625e-05\n",
            "Epoch 21/30\n",
            "245/245 [==============================] - 15s 61ms/step - loss: 12.6029 - mse: 4797.2349 - mae: 44.4364 - msle: 12.6029 - val_loss: 14.0984 - val_mse: 32746.9863 - val_mae: 73.8279 - val_msle: 14.0984 - lr: 1.5625e-05\n",
            "Epoch 22/30\n",
            "243/245 [============================>.] - ETA: 0s - loss: 12.6056 - mse: 4811.8706 - mae: 44.4782 - msle: 12.6056\n",
            "Epoch 22: ReduceLROnPlateau reducing learning rate to 1e-05.\n",
            "245/245 [==============================] - 16s 64ms/step - loss: 12.6029 - mse: 4797.2349 - mae: 44.4364 - msle: 12.6029 - val_loss: 14.0984 - val_mse: 32746.9863 - val_mae: 73.8279 - val_msle: 14.0984 - lr: 1.5625e-05\n",
            "Epoch 23/30\n",
            "245/245 [==============================] - 15s 62ms/step - loss: 12.6029 - mse: 4797.2349 - mae: 44.4364 - msle: 12.6029 - val_loss: 14.0984 - val_mse: 32746.9863 - val_mae: 73.8279 - val_msle: 14.0984 - lr: 1.0000e-05\n",
            "Epoch 24/30\n",
            "245/245 [==============================] - 15s 60ms/step - loss: 12.6029 - mse: 4797.2349 - mae: 44.4364 - msle: 12.6029 - val_loss: 14.0984 - val_mse: 32746.9863 - val_mae: 73.8279 - val_msle: 14.0984 - lr: 1.0000e-05\n",
            "Epoch 25/30\n",
            "245/245 [==============================] - 16s 65ms/step - loss: 12.6029 - mse: 4797.2349 - mae: 44.4364 - msle: 12.6029 - val_loss: 14.0984 - val_mse: 32746.9863 - val_mae: 73.8279 - val_msle: 14.0984 - lr: 1.0000e-05\n",
            "Epoch 26/30\n",
            "245/245 [==============================] - 15s 62ms/step - loss: 12.6029 - mse: 4797.2349 - mae: 44.4364 - msle: 12.6029 - val_loss: 14.0984 - val_mse: 32746.9863 - val_mae: 73.8279 - val_msle: 14.0984 - lr: 1.0000e-05\n",
            "Epoch 27/30\n",
            "245/245 [==============================] - 16s 64ms/step - loss: 12.6029 - mse: 4797.2349 - mae: 44.4364 - msle: 12.6029 - val_loss: 14.0984 - val_mse: 32746.9863 - val_mae: 73.8279 - val_msle: 14.0984 - lr: 1.0000e-05\n",
            "Epoch 28/30\n",
            "245/245 [==============================] - 16s 66ms/step - loss: 12.6029 - mse: 4797.2349 - mae: 44.4364 - msle: 12.6029 - val_loss: 14.0984 - val_mse: 32746.9863 - val_mae: 73.8279 - val_msle: 14.0984 - lr: 1.0000e-05\n",
            "Epoch 29/30\n",
            "245/245 [==============================] - 15s 63ms/step - loss: 12.6029 - mse: 4797.2349 - mae: 44.4364 - msle: 12.6029 - val_loss: 14.0984 - val_mse: 32746.9863 - val_mae: 73.8279 - val_msle: 14.0984 - lr: 1.0000e-05\n",
            "Epoch 30/30\n",
            "245/245 [==============================] - 15s 60ms/step - loss: 12.6029 - mse: 4797.2349 - mae: 44.4364 - msle: 12.6029 - val_loss: 14.0984 - val_mse: 32746.9863 - val_mae: 73.8279 - val_msle: 14.0984 - lr: 1.0000e-05\n"
          ]
        }
      ],
      "source": [
        "model = create_model()\n",
        "model.summary()\n",
        "history = model.fit(ds_train, validation_data=ds_valid, epochs=30, verbose=1, shuffle=True, callbacks=[learning_rate_reduction])"
      ]
    },
    {
      "cell_type": "code",
      "execution_count": 15,
      "metadata": {
        "colab": {
          "base_uri": "https://localhost:8080/"
        },
        "id": "hxprbF_FBC_S",
        "outputId": "0588f812-f6ec-4058-f72e-1cf733e6d64e"
      },
      "outputs": [
        {
          "output_type": "stream",
          "name": "stdout",
          "text": [
            "111/111 [==============================] - 11s 23ms/step - loss: 14.0984 - mse: 32746.9863 - mae: 73.8279 - msle: 14.0984\n",
            "[14.098374366760254, 32746.986328125, 73.82787322998047, 14.098374366760254]\n"
          ]
        }
      ],
      "source": [
        "results = model.evaluate(ds_valid)\n",
        "print(results)"
      ]
    },
    {
      "cell_type": "code",
      "execution_count": 23,
      "metadata": {
        "colab": {
          "base_uri": "https://localhost:8080/"
        },
        "id": "Mr3JJ-ydUTut",
        "outputId": "4a676269-6e95-4201-bf16-e5a67111b368"
      },
      "outputs": [
        {
          "output_type": "stream",
          "name": "stdout",
          "text": [
            "(8, 480)\n"
          ]
        }
      ],
      "source": [
        "ds_test_xx = ds_test_x.batch(8)\n",
        "for x in ds_test_xx:\n",
        "  print(x.shape)\n",
        "  break"
      ]
    },
    {
      "cell_type": "code",
      "execution_count": 24,
      "metadata": {
        "colab": {
          "base_uri": "https://localhost:8080/"
        },
        "id": "SQU-yXd9UGb3",
        "outputId": "c92f458e-b5b2-48f4-deda-601f1131d26d"
      },
      "outputs": [
        {
          "output_type": "stream",
          "name": "stdout",
          "text": [
            "[[0. 0. 0. ... 0. 0. 0.]\n",
            " [0. 0. 0. ... 0. 0. 0.]\n",
            " [0. 0. 0. ... 0. 0. 0.]\n",
            " ...\n",
            " [0. 0. 0. ... 0. 0. 0.]\n",
            " [0. 0. 0. ... 0. 0. 0.]\n",
            " [0. 0. 0. ... 0. 0. 0.]]\n"
          ]
        }
      ],
      "source": [
        "predictions = model.predict(ds_test_xx)\n",
        "print(predictions)"
      ]
    },
    {
      "cell_type": "code",
      "source": [
        "ds_test_yy = ds_test_y.batch(8)"
      ],
      "metadata": {
        "id": "9gvYoVFkqSPN"
      },
      "execution_count": 58,
      "outputs": []
    },
    {
      "cell_type": "code",
      "execution_count": 57,
      "metadata": {
        "colab": {
          "base_uri": "https://localhost:8080/",
          "height": 276
        },
        "id": "KY1MkjyaUomF",
        "outputId": "bc008383-8c6a-4ec0-e467-88d9170266b9"
      },
      "outputs": [
        {
          "output_type": "display_data",
          "data": {
            "text/plain": [
              "<Figure size 432x288 with 1 Axes>"
            ],
            "image/png": "[encoded data removed]"
          },
          "metadata": {
            "needs_background": "light"
          }
        }
      ],
      "source": [
        "pyplot.plot(list(ds_test_y), linestyle='solid', color='r')\n",
        "pyplot.plot(predictions, linestyle='dashed', color='b')\n",
        "pyplot.legend(['Actual','Predicted'], loc='best')\n",
        "pyplot.grid(color = 'y', linewidth='0.5')\n",
        "pyplot.show()"
      ]
    }
  ],
  "metadata": {
    "accelerator": "GPU",
    "colab": {
      "collapsed_sections": [],
      "name": "MultioutputModel.ipynb",
      "provenance": [],
      "mount_file_id": "1mNQWD6W77rtcYL2TXqoEq0Z4WCNMHfJn",
      "authorship_tag": "ABX9TyNEVd9ggtBBRIasPLdW8Jup",
      "include_colab_link": true
    },
    "kernelspec": {
      "display_name": "Python 3",
      "name": "python3"
    },
    "language_info": {
      "name": "python"
    }
  },
  "nbformat": 4,
  "nbformat_minor": 0
}