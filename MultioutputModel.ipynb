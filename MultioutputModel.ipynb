{
  "cells": [
    {
      "cell_type": "markdown",
      "metadata": {
        "id": "view-in-github",
        "colab_type": "text"
      },
      "source": [
        "<a href=\"https://colab.research.google.com/github/mikulicmateo/StockPrediction/blob/main/MultioutputModel.ipynb\" target=\"_parent\"><img src=\"https://colab.research.google.com/assets/colab-badge.svg\" alt=\"Open In Colab\"/></a>"
      ]
    },
    {
      "cell_type": "code",
      "execution_count": 26,
      "metadata": {
        "id": "4zAHeEuPuXAm"
      },
      "outputs": [],
      "source": [
        "import numpy as np\n",
        "import json\n",
        "from tensorflow.keras.models import Sequential\n",
        "from tensorflow.keras.optimizers import Adam\n",
        "from tensorflow.keras.layers import Input, BatchNormalization\n",
        "from keras.layers.core import Dense, Dropout\n",
        "from keras.regularizers import l2\n",
        "from keras.callbacks import ReduceLROnPlateau\n",
        "from matplotlib import pyplot\n",
        "from datetime import datetime\n",
        "import tensorflow as tf"
      ]
    },
    {
      "cell_type": "code",
      "execution_count": 27,
      "metadata": {
        "id": "RwviWsIVuo4Q"
      },
      "outputs": [],
      "source": [
        "\n",
        "def calculate_typical_price(row):\n",
        "    typical_price = (row[1] + row[2] + row[3])/3\n",
        "    return typical_price"
      ]
    },
    {
      "cell_type": "code",
      "execution_count": 28,
      "metadata": {
        "id": "HHwlhXp7uuWn"
      },
      "outputs": [],
      "source": [
        "with open(\"/content/drive/MyDrive/dataset-amd.json\") as json_file:\n",
        "    dataset = json.loads(json_file.read())"
      ]
    },
    {
      "cell_type": "code",
      "execution_count": 29,
      "metadata": {
        "id": "544l8ceUBI6W"
      },
      "outputs": [],
      "source": [
        "num_given_days = 60\n",
        "num_predicted_days = 30\n",
        "data_per_day = 8\n",
        "\n",
        "seq_len_x = num_given_days * data_per_day\n",
        "seq_stride_x = data_per_day\n",
        "seq_len_y = num_predicted_days\n",
        "seq_stride_y = 1"
      ]
    },
    {
      "cell_type": "code",
      "execution_count": 30,
      "metadata": {
        "id": "PHREEi9TzHiL"
      },
      "outputs": [],
      "source": [
        "def make_y(data):\n",
        "  new_data = []\n",
        "  for i in range(len(data)):\n",
        "    if i % data_per_day != 0:\n",
        "      continue\n",
        "    new_data.append(calculate_typical_price(data[i:i+data_per_day]))\n",
        "  return new_data"
      ]
    },
    {
      "cell_type": "code",
      "execution_count": 111,
      "metadata": {
        "id": "rJCNbAMCu4Ni"
      },
      "outputs": [],
      "source": [
        "ds_train_x = None\n",
        "ds_train_y = None\n",
        "\n",
        "ds_valid_x = None\n",
        "ds_valid_y = None\n",
        "\n",
        "ds_test_x = None\n",
        "ds_test_y = None\n",
        "\n",
        "def load_from_d(dataset):\n",
        "  global ds_train_x\n",
        "  global ds_train_y\n",
        "  global ds_valid_x\n",
        "  global ds_valid_y\n",
        "  global ds_test_x   \n",
        "  global ds_test_y   \n",
        "  for j in dataset.keys():\n",
        "    data_train = []\n",
        "    data_valid = []\n",
        "    data_test = []\n",
        "    for i in dataset[j]:\n",
        "      date_string = i.get('date')\n",
        "      if date_string < \"2018-01-01\":\n",
        "          data_train = data_train + ([float(i.get('open')), float(i.get('high')), float(i.get('low')), float(i.get('close')), \\\n",
        "              float(i.get('volume')), float(i.get('rsi')), float(i.get('sma')), float(i.get('ema'))])\n",
        "      elif date_string < \"2020-01-01\":\n",
        "          data_valid = data_valid + ([float(i.get('open')), float(i.get('high')), float(i.get('low')), float(i.get('close')), \\\n",
        "              float(i.get('volume')), float(i.get('rsi')), float(i.get('sma')), float(i.get('ema'))])\n",
        "      else:\n",
        "          data_test = data_test + ([float(i.get('open')), float(i.get('high')), float(i.get('low')), float(i.get('close')), \\\n",
        "              float(i.get('volume')), float(i.get('rsi')), float(i.get('sma')), float(i.get('ema'))])\n",
        "\n",
        "    if len(data_train) >= seq_len_x:\n",
        "      \n",
        "      target_train = make_y(data_train)\n",
        "\n",
        "      x_train_dataset = tf.keras.preprocessing.timeseries_dataset_from_array(\n",
        "          data_train,\n",
        "          None,\n",
        "          sequence_length=seq_len_x,\n",
        "          sequence_stride=seq_stride_x,\n",
        "          sampling_rate=1,\n",
        "          batch_size=None,\n",
        "          end_index=len(data_train)-(data_per_day * num_predicted_days)\n",
        "      )\n",
        "\n",
        "      y_train_dataset = tf.keras.preprocessing.timeseries_dataset_from_array(\n",
        "          target_train,\n",
        "          None,\n",
        "          sequence_length=seq_len_y,\n",
        "          sequence_stride=seq_stride_y,\n",
        "          sampling_rate=1,\n",
        "          batch_size=None,\n",
        "          start_index=num_given_days,\n",
        "      )\n",
        "\n",
        "    if len(data_valid) >= seq_len_x:\n",
        "\n",
        "      target_valid = make_y(data_valid)\n",
        "      x_valid_dataset = tf.keras.preprocessing.timeseries_dataset_from_array(\n",
        "          data_valid,\n",
        "          None,\n",
        "          sequence_length=seq_len_x,\n",
        "          sequence_stride=seq_stride_x,\n",
        "          sampling_rate=1,\n",
        "          batch_size=None,\n",
        "          end_index=len(data_valid)-(data_per_day * num_predicted_days)\n",
        "      )\n",
        "\n",
        "      y_valid_dataset = tf.keras.preprocessing.timeseries_dataset_from_array(\n",
        "          target_valid,\n",
        "          None,\n",
        "          sequence_length=seq_len_y,\n",
        "          sequence_stride=seq_stride_y,\n",
        "          sampling_rate=1,\n",
        "          batch_size=None,\n",
        "          start_index=num_given_days,\n",
        "      )\n",
        "\n",
        "    if len(data_test) >= seq_len_x:\n",
        "\n",
        "      target_test = make_y(data_test)\n",
        "      x_test_dataset = tf.keras.preprocessing.timeseries_dataset_from_array(\n",
        "          data_test,\n",
        "          None,\n",
        "          sequence_length=seq_len_x,\n",
        "          sequence_stride=seq_stride_x,\n",
        "          sampling_rate=1,\n",
        "          batch_size=None,\n",
        "          end_index=len(data_test)-(data_per_day * num_predicted_days)\n",
        "      )\n",
        "\n",
        "      y_test_dataset = tf.keras.preprocessing.timeseries_dataset_from_array(\n",
        "          target_test,\n",
        "          None,\n",
        "          sequence_length=seq_len_y,\n",
        "          sequence_stride=seq_stride_y,\n",
        "          sampling_rate=1,\n",
        "          batch_size=None,\n",
        "          start_index=num_given_days,\n",
        "      )\n",
        "\n",
        "    if not ds_train_x:\n",
        "      ds_train_x = x_train_dataset\n",
        "      ds_train_y = y_train_dataset\n",
        "      ds_valid_x = x_valid_dataset\n",
        "      ds_valid_y = y_valid_dataset\n",
        "      ds_test_x = x_test_dataset\n",
        "      ds_test_y = y_test_dataset\n",
        "    else:\n",
        "      ds_train_x = ds_train_x.concatenate(x_train_dataset)\n",
        "      ds_train_y = ds_train_y.concatenate(y_train_dataset)\n",
        "      ds_valid_x = ds_valid_x.concatenate(x_valid_dataset)\n",
        "      ds_valid_y = ds_valid_y.concatenate(y_valid_dataset)\n",
        "      ds_test_x = ds_test_x.concatenate(x_test_dataset)\n",
        "      ds_test_y = ds_test_y.concatenate(y_test_dataset)"
      ]
    },
    {
      "cell_type": "code",
      "execution_count": 112,
      "metadata": {
        "id": "4o3ItgUf_-QY"
      },
      "outputs": [],
      "source": [
        "load_from_d(dataset)"
      ]
    },
    {
      "cell_type": "code",
      "execution_count": 154,
      "metadata": {
        "id": "x6fDHmzezHXe"
      },
      "outputs": [],
      "source": [
        "def create_model():\n",
        "  l_model = Sequential()\n",
        "  l_model.add(Input(480))\n",
        "#  l_model.add(Dense(960, activation=\"relu\"))\n",
        "#  l_model.add(Dense(480, activation=\"softplus\"))\n",
        "  l_model.add(Dense(240, activation=\"relu\"))\n",
        "  l_model.add(Dense(120, activation=\"softplus\"))\n",
        "#  l_model.add(Dropout(0.5))\n",
        "  l_model.add(Dense(60, activation=\"linear\"))\n",
        "  l_model.add(Dense(30, activation=\"softplus\"))\n",
        "  l_model.compile(Adam(learning_rate=0.001), loss=\"msle\", metrics=[\"mse\", \"mae\", \"msle\"])\n",
        "  return l_model"
      ]
    },
    {
      "cell_type": "code",
      "execution_count": 137,
      "metadata": {
        "id": "sfHmwUODg3az"
      },
      "outputs": [],
      "source": [
        "ds_train = tf.data.Dataset.zip((ds_train_x , ds_train_y)).batch(32)"
      ]
    },
    {
      "cell_type": "code",
      "execution_count": 138,
      "metadata": {
        "id": "lVwbjymJkHo8"
      },
      "outputs": [],
      "source": [
        "ds_valid = tf.data.Dataset.zip((ds_valid_x, ds_valid_y)).batch(32)"
      ]
    },
    {
      "cell_type": "code",
      "execution_count": 152,
      "metadata": {
        "colab": {
          "base_uri": "https://localhost:8080/"
        },
        "id": "3EiSZhZwidRU",
        "outputId": "808334c6-9738-4cb8-89ce-88f49a66c843"
      },
      "outputs": [
        {
          "output_type": "stream",
          "name": "stdout",
          "text": [
            "(32, 480)\n",
            "(32, 30)\n"
          ]
        }
      ],
      "source": [
        "for x,y in ds_valid:\n",
        "  print(x.shape)\n",
        "  print(y.shape)\n",
        "  break\n",
        " "
      ]
    },
    {
      "cell_type": "code",
      "execution_count": 153,
      "metadata": {
        "colab": {
          "base_uri": "https://localhost:8080/"
        },
        "id": "barJ4WCQEOt9",
        "outputId": "869d42d1-22e8-4a36-bdac-2305043ae5ce"
      },
      "outputs": [
        {
          "output_type": "stream",
          "name": "stdout",
          "text": [
            "(32, 480)\n",
            "(32, 30)\n"
          ]
        }
      ],
      "source": [
        "for x,y in ds_train:\n",
        "  print(x.shape)\n",
        "  print(y.shape)\n",
        "  break"
      ]
    },
    {
      "cell_type": "code",
      "execution_count": 143,
      "metadata": {
        "id": "6GqMqs5ieqMp"
      },
      "outputs": [],
      "source": [
        "learning_rate_reduction = ReduceLROnPlateau(monitor='val_loss',\n",
        "                                            patience=3,\n",
        "                                            verbose=1,\n",
        "                                            factor=0.5,\n",
        "                                            min_lr=0.000001)"
      ]
    },
    {
      "cell_type": "code",
      "execution_count": 155,
      "metadata": {
        "colab": {
          "base_uri": "https://localhost:8080/"
        },
        "id": "RU7WDobi8FAF",
        "outputId": "cde7ff36-00c6-41e7-c523-b08f833bf77c"
      },
      "outputs": [
        {
          "output_type": "stream",
          "name": "stdout",
          "text": [
            "Model: \"sequential_8\"\n",
            "_________________________________________________________________\n",
            " Layer (type)                Output Shape              Param #   \n",
            "=================================================================\n",
            " dense_32 (Dense)            (None, 240)               115440    \n",
            "                                                                 \n",
            " dense_33 (Dense)            (None, 120)               28920     \n",
            "                                                                 \n",
            " dense_34 (Dense)            (None, 60)                7260      \n",
            "                                                                 \n",
            " dense_35 (Dense)            (None, 30)                1830      \n",
            "                                                                 \n",
            "=================================================================\n",
            "Total params: 153,450\n",
            "Trainable params: 153,450\n",
            "Non-trainable params: 0\n",
            "_________________________________________________________________\n",
            "Epoch 1/50\n",
            "140/140 [==============================] - 2s 9ms/step - loss: 10.6953 - mse: 13159536525312.0000 - mae: 424836.2812 - msle: 10.6953 - val_loss: 9.5354 - val_mse: 527.7215 - val_mae: 21.7777 - val_msle: 9.5354 - lr: 0.0010\n",
            "Epoch 2/50\n",
            "140/140 [==============================] - 1s 8ms/step - loss: 5.7887 - mse: 332.8122 - mae: 12.4321 - msle: 5.7887 - val_loss: 9.5354 - val_mse: 527.7215 - val_mae: 21.7777 - val_msle: 9.5354 - lr: 0.0010\n",
            "Epoch 3/50\n",
            "140/140 [==============================] - 1s 7ms/step - loss: 5.7887 - mse: 332.8122 - mae: 12.4321 - msle: 5.7887 - val_loss: 9.5354 - val_mse: 527.7215 - val_mae: 21.7777 - val_msle: 9.5354 - lr: 0.0010\n",
            "Epoch 4/50\n",
            "139/140 [============================>.] - ETA: 0s - loss: 5.7756 - mse: 331.3372 - mae: 12.3919 - msle: 5.7756\n",
            "Epoch 4: ReduceLROnPlateau reducing learning rate to 0.0005000000237487257.\n",
            "140/140 [==============================] - 1s 8ms/step - loss: 5.7887 - mse: 332.8122 - mae: 12.4321 - msle: 5.7887 - val_loss: 9.5354 - val_mse: 527.7215 - val_mae: 21.7777 - val_msle: 9.5354 - lr: 0.0010\n",
            "Epoch 5/50\n",
            "140/140 [==============================] - 1s 8ms/step - loss: 5.7887 - mse: 332.8122 - mae: 12.4321 - msle: 5.7887 - val_loss: 9.5354 - val_mse: 527.7215 - val_mae: 21.7777 - val_msle: 9.5354 - lr: 5.0000e-04\n",
            "Epoch 6/50\n",
            "140/140 [==============================] - 1s 8ms/step - loss: 5.7887 - mse: 332.8122 - mae: 12.4321 - msle: 5.7887 - val_loss: 9.5354 - val_mse: 527.7215 - val_mae: 21.7777 - val_msle: 9.5354 - lr: 5.0000e-04\n",
            "Epoch 7/50\n",
            "129/140 [==========================>...] - ETA: 0s - loss: 5.1706 - mse: 156.9942 - mae: 9.9525 - msle: 5.1706\n",
            "Epoch 7: ReduceLROnPlateau reducing learning rate to 0.0002500000118743628.\n",
            "140/140 [==============================] - 1s 8ms/step - loss: 5.7887 - mse: 332.8122 - mae: 12.4321 - msle: 5.7887 - val_loss: 9.5354 - val_mse: 527.7215 - val_mae: 21.7777 - val_msle: 9.5354 - lr: 5.0000e-04\n",
            "Epoch 8/50\n",
            "140/140 [==============================] - 1s 8ms/step - loss: 5.7887 - mse: 332.8122 - mae: 12.4321 - msle: 5.7887 - val_loss: 9.5354 - val_mse: 527.7215 - val_mae: 21.7777 - val_msle: 9.5354 - lr: 2.5000e-04\n",
            "Epoch 9/50\n",
            "140/140 [==============================] - 1s 8ms/step - loss: 5.7887 - mse: 332.8122 - mae: 12.4321 - msle: 5.7887 - val_loss: 9.5354 - val_mse: 527.7215 - val_mae: 21.7777 - val_msle: 9.5354 - lr: 2.5000e-04\n",
            "Epoch 10/50\n",
            "132/140 [===========================>..] - ETA: 0s - loss: 5.2710 - mse: 164.2468 - mae: 10.2126 - msle: 5.2710\n",
            "Epoch 10: ReduceLROnPlateau reducing learning rate to 0.0001250000059371814.\n",
            "140/140 [==============================] - 1s 8ms/step - loss: 5.7887 - mse: 332.8122 - mae: 12.4321 - msle: 5.7887 - val_loss: 9.5354 - val_mse: 527.7215 - val_mae: 21.7777 - val_msle: 9.5354 - lr: 2.5000e-04\n",
            "Epoch 11/50\n",
            "140/140 [==============================] - 1s 8ms/step - loss: 5.7887 - mse: 332.8122 - mae: 12.4321 - msle: 5.7887 - val_loss: 9.5354 - val_mse: 527.7215 - val_mae: 21.7777 - val_msle: 9.5354 - lr: 1.2500e-04\n",
            "Epoch 12/50\n",
            "140/140 [==============================] - 1s 8ms/step - loss: 5.7887 - mse: 332.8122 - mae: 12.4321 - msle: 5.7887 - val_loss: 9.5354 - val_mse: 527.7215 - val_mae: 21.7777 - val_msle: 9.5354 - lr: 1.2500e-04\n",
            "Epoch 13/50\n",
            "134/140 [===========================>..] - ETA: 0s - loss: 5.3494 - mse: 172.4469 - mae: 10.4383 - msle: 5.3494\n",
            "Epoch 13: ReduceLROnPlateau reducing learning rate to 6.25000029685907e-05.\n",
            "140/140 [==============================] - 1s 8ms/step - loss: 5.7887 - mse: 332.8122 - mae: 12.4321 - msle: 5.7887 - val_loss: 9.5354 - val_mse: 527.7215 - val_mae: 21.7777 - val_msle: 9.5354 - lr: 1.2500e-04\n",
            "Epoch 14/50\n",
            "140/140 [==============================] - 1s 8ms/step - loss: 5.7887 - mse: 332.8122 - mae: 12.4321 - msle: 5.7887 - val_loss: 9.5354 - val_mse: 527.7215 - val_mae: 21.7777 - val_msle: 9.5354 - lr: 6.2500e-05\n",
            "Epoch 15/50\n",
            "140/140 [==============================] - 1s 8ms/step - loss: 5.7887 - mse: 332.8122 - mae: 12.4321 - msle: 5.7887 - val_loss: 9.5354 - val_mse: 527.7215 - val_mae: 21.7777 - val_msle: 9.5354 - lr: 6.2500e-05\n",
            "Epoch 16/50\n",
            "131/140 [===========================>..] - ETA: 0s - loss: 5.2479 - mse: 163.2618 - mae: 10.1613 - msle: 5.2479\n",
            "Epoch 16: ReduceLROnPlateau reducing learning rate to 3.125000148429535e-05.\n",
            "140/140 [==============================] - 1s 8ms/step - loss: 5.7887 - mse: 332.8122 - mae: 12.4321 - msle: 5.7887 - val_loss: 9.5354 - val_mse: 527.7215 - val_mae: 21.7777 - val_msle: 9.5354 - lr: 6.2500e-05\n",
            "Epoch 17/50\n",
            "140/140 [==============================] - 1s 8ms/step - loss: 5.7887 - mse: 332.8122 - mae: 12.4321 - msle: 5.7887 - val_loss: 9.5354 - val_mse: 527.7215 - val_mae: 21.7777 - val_msle: 9.5354 - lr: 3.1250e-05\n",
            "Epoch 18/50\n",
            "140/140 [==============================] - 1s 8ms/step - loss: 5.7887 - mse: 332.8122 - mae: 12.4321 - msle: 5.7887 - val_loss: 9.5354 - val_mse: 527.7215 - val_mae: 21.7777 - val_msle: 9.5354 - lr: 3.1250e-05\n",
            "Epoch 19/50\n",
            "137/140 [============================>.] - ETA: 0s - loss: 5.6437 - mse: 302.0837 - mae: 11.8885 - msle: 5.6437\n",
            "Epoch 19: ReduceLROnPlateau reducing learning rate to 1.5625000742147677e-05.\n",
            "140/140 [==============================] - 1s 8ms/step - loss: 5.7887 - mse: 332.8122 - mae: 12.4321 - msle: 5.7887 - val_loss: 9.5354 - val_mse: 527.7215 - val_mae: 21.7777 - val_msle: 9.5354 - lr: 3.1250e-05\n",
            "Epoch 20/50\n",
            "140/140 [==============================] - 1s 8ms/step - loss: 5.7887 - mse: 332.8122 - mae: 12.4321 - msle: 5.7887 - val_loss: 9.5354 - val_mse: 527.7215 - val_mae: 21.7777 - val_msle: 9.5354 - lr: 1.5625e-05\n",
            "Epoch 21/50\n",
            "140/140 [==============================] - 1s 8ms/step - loss: 5.7887 - mse: 332.8122 - mae: 12.4321 - msle: 5.7887 - val_loss: 9.5354 - val_mse: 527.7215 - val_mae: 21.7777 - val_msle: 9.5354 - lr: 1.5625e-05\n",
            "Epoch 22/50\n",
            "140/140 [==============================] - ETA: 0s - loss: 5.7887 - mse: 332.8122 - mae: 12.4321 - msle: 5.7887\n",
            "Epoch 22: ReduceLROnPlateau reducing learning rate to 7.812500371073838e-06.\n",
            "140/140 [==============================] - 1s 8ms/step - loss: 5.7887 - mse: 332.8122 - mae: 12.4321 - msle: 5.7887 - val_loss: 9.5354 - val_mse: 527.7215 - val_mae: 21.7777 - val_msle: 9.5354 - lr: 1.5625e-05\n",
            "Epoch 23/50\n",
            "140/140 [==============================] - 1s 8ms/step - loss: 5.7887 - mse: 332.8122 - mae: 12.4321 - msle: 5.7887 - val_loss: 9.5354 - val_mse: 527.7215 - val_mae: 21.7777 - val_msle: 9.5354 - lr: 7.8125e-06\n",
            "Epoch 24/50\n",
            "140/140 [==============================] - 1s 8ms/step - loss: 5.7887 - mse: 332.8122 - mae: 12.4321 - msle: 5.7887 - val_loss: 9.5354 - val_mse: 527.7215 - val_mae: 21.7777 - val_msle: 9.5354 - lr: 7.8125e-06\n",
            "Epoch 25/50\n",
            "136/140 [============================>.] - ETA: 0s - loss: 5.5429 - mse: 255.6508 - mae: 11.3814 - msle: 5.5429\n",
            "Epoch 25: ReduceLROnPlateau reducing learning rate to 3.906250185536919e-06.\n",
            "140/140 [==============================] - 1s 8ms/step - loss: 5.7887 - mse: 332.8122 - mae: 12.4321 - msle: 5.7887 - val_loss: 9.5354 - val_mse: 527.7215 - val_mae: 21.7777 - val_msle: 9.5354 - lr: 7.8125e-06\n",
            "Epoch 26/50\n",
            "140/140 [==============================] - 1s 8ms/step - loss: 5.7887 - mse: 332.8122 - mae: 12.4321 - msle: 5.7887 - val_loss: 9.5354 - val_mse: 527.7215 - val_mae: 21.7777 - val_msle: 9.5354 - lr: 3.9063e-06\n",
            "Epoch 27/50\n",
            "140/140 [==============================] - 1s 8ms/step - loss: 5.7887 - mse: 332.8122 - mae: 12.4321 - msle: 5.7887 - val_loss: 9.5354 - val_mse: 527.7215 - val_mae: 21.7777 - val_msle: 9.5354 - lr: 3.9063e-06\n",
            "Epoch 28/50\n",
            "140/140 [==============================] - ETA: 0s - loss: 5.7887 - mse: 332.8122 - mae: 12.4321 - msle: 5.7887\n",
            "Epoch 28: ReduceLROnPlateau reducing learning rate to 1.9531250927684596e-06.\n",
            "140/140 [==============================] - 1s 8ms/step - loss: 5.7887 - mse: 332.8122 - mae: 12.4321 - msle: 5.7887 - val_loss: 9.5354 - val_mse: 527.7215 - val_mae: 21.7777 - val_msle: 9.5354 - lr: 3.9063e-06\n",
            "Epoch 29/50\n",
            "140/140 [==============================] - 1s 8ms/step - loss: 5.7887 - mse: 332.8122 - mae: 12.4321 - msle: 5.7887 - val_loss: 9.5354 - val_mse: 527.7215 - val_mae: 21.7777 - val_msle: 9.5354 - lr: 1.9531e-06\n",
            "Epoch 30/50\n",
            "140/140 [==============================] - 1s 8ms/step - loss: 5.7887 - mse: 332.8122 - mae: 12.4321 - msle: 5.7887 - val_loss: 9.5354 - val_mse: 527.7215 - val_mae: 21.7777 - val_msle: 9.5354 - lr: 1.9531e-06\n",
            "Epoch 31/50\n",
            "135/140 [===========================>..] - ETA: 0s - loss: 5.4374 - mse: 204.3451 - mae: 10.8393 - msle: 5.4374\n",
            "Epoch 31: ReduceLROnPlateau reducing learning rate to 1e-06.\n",
            "140/140 [==============================] - 1s 10ms/step - loss: 5.7887 - mse: 332.8122 - mae: 12.4321 - msle: 5.7887 - val_loss: 9.5354 - val_mse: 527.7215 - val_mae: 21.7777 - val_msle: 9.5354 - lr: 1.9531e-06\n",
            "Epoch 32/50\n",
            "140/140 [==============================] - 2s 11ms/step - loss: 5.7887 - mse: 332.8122 - mae: 12.4321 - msle: 5.7887 - val_loss: 9.5354 - val_mse: 527.7215 - val_mae: 21.7777 - val_msle: 9.5354 - lr: 1.0000e-06\n",
            "Epoch 33/50\n",
            "140/140 [==============================] - 1s 8ms/step - loss: 5.7887 - mse: 332.8122 - mae: 12.4321 - msle: 5.7887 - val_loss: 9.5354 - val_mse: 527.7215 - val_mae: 21.7777 - val_msle: 9.5354 - lr: 1.0000e-06\n",
            "Epoch 34/50\n",
            "140/140 [==============================] - 1s 8ms/step - loss: 5.7887 - mse: 332.8122 - mae: 12.4321 - msle: 5.7887 - val_loss: 9.5354 - val_mse: 527.7215 - val_mae: 21.7777 - val_msle: 9.5354 - lr: 1.0000e-06\n",
            "Epoch 35/50\n",
            "140/140 [==============================] - 1s 8ms/step - loss: 5.7887 - mse: 332.8122 - mae: 12.4321 - msle: 5.7887 - val_loss: 9.5354 - val_mse: 527.7215 - val_mae: 21.7777 - val_msle: 9.5354 - lr: 1.0000e-06\n",
            "Epoch 36/50\n",
            "140/140 [==============================] - 1s 8ms/step - loss: 5.7887 - mse: 332.8122 - mae: 12.4321 - msle: 5.7887 - val_loss: 9.5354 - val_mse: 527.7215 - val_mae: 21.7777 - val_msle: 9.5354 - lr: 1.0000e-06\n",
            "Epoch 37/50\n",
            "140/140 [==============================] - 1s 8ms/step - loss: 5.7887 - mse: 332.8122 - mae: 12.4321 - msle: 5.7887 - val_loss: 9.5354 - val_mse: 527.7215 - val_mae: 21.7777 - val_msle: 9.5354 - lr: 1.0000e-06\n",
            "Epoch 38/50\n",
            "140/140 [==============================] - 1s 8ms/step - loss: 5.7887 - mse: 332.8122 - mae: 12.4321 - msle: 5.7887 - val_loss: 9.5354 - val_mse: 527.7215 - val_mae: 21.7777 - val_msle: 9.5354 - lr: 1.0000e-06\n",
            "Epoch 39/50\n",
            "140/140 [==============================] - 1s 8ms/step - loss: 5.7887 - mse: 332.8122 - mae: 12.4321 - msle: 5.7887 - val_loss: 9.5354 - val_mse: 527.7215 - val_mae: 21.7777 - val_msle: 9.5354 - lr: 1.0000e-06\n",
            "Epoch 40/50\n",
            "140/140 [==============================] - 1s 8ms/step - loss: 5.7887 - mse: 332.8122 - mae: 12.4321 - msle: 5.7887 - val_loss: 9.5354 - val_mse: 527.7215 - val_mae: 21.7777 - val_msle: 9.5354 - lr: 1.0000e-06\n",
            "Epoch 41/50\n",
            "140/140 [==============================] - 1s 8ms/step - loss: 5.7887 - mse: 332.8122 - mae: 12.4321 - msle: 5.7887 - val_loss: 9.5354 - val_mse: 527.7215 - val_mae: 21.7777 - val_msle: 9.5354 - lr: 1.0000e-06\n",
            "Epoch 42/50\n",
            "140/140 [==============================] - 1s 8ms/step - loss: 5.7887 - mse: 332.8122 - mae: 12.4321 - msle: 5.7887 - val_loss: 9.5354 - val_mse: 527.7215 - val_mae: 21.7777 - val_msle: 9.5354 - lr: 1.0000e-06\n",
            "Epoch 43/50\n",
            "140/140 [==============================] - 1s 8ms/step - loss: 5.7887 - mse: 332.8122 - mae: 12.4321 - msle: 5.7887 - val_loss: 9.5354 - val_mse: 527.7215 - val_mae: 21.7777 - val_msle: 9.5354 - lr: 1.0000e-06\n",
            "Epoch 44/50\n",
            "140/140 [==============================] - 1s 8ms/step - loss: 5.7887 - mse: 332.8122 - mae: 12.4321 - msle: 5.7887 - val_loss: 9.5354 - val_mse: 527.7215 - val_mae: 21.7777 - val_msle: 9.5354 - lr: 1.0000e-06\n",
            "Epoch 45/50\n",
            "140/140 [==============================] - 1s 8ms/step - loss: 5.7887 - mse: 332.8122 - mae: 12.4321 - msle: 5.7887 - val_loss: 9.5354 - val_mse: 527.7215 - val_mae: 21.7777 - val_msle: 9.5354 - lr: 1.0000e-06\n",
            "Epoch 46/50\n",
            "140/140 [==============================] - 1s 8ms/step - loss: 5.7887 - mse: 332.8122 - mae: 12.4321 - msle: 5.7887 - val_loss: 9.5354 - val_mse: 527.7215 - val_mae: 21.7777 - val_msle: 9.5354 - lr: 1.0000e-06\n",
            "Epoch 47/50\n",
            "140/140 [==============================] - 1s 8ms/step - loss: 5.7887 - mse: 332.8122 - mae: 12.4321 - msle: 5.7887 - val_loss: 9.5354 - val_mse: 527.7215 - val_mae: 21.7777 - val_msle: 9.5354 - lr: 1.0000e-06\n",
            "Epoch 48/50\n",
            "140/140 [==============================] - 1s 8ms/step - loss: 5.7887 - mse: 332.8122 - mae: 12.4321 - msle: 5.7887 - val_loss: 9.5354 - val_mse: 527.7215 - val_mae: 21.7777 - val_msle: 9.5354 - lr: 1.0000e-06\n",
            "Epoch 49/50\n",
            "140/140 [==============================] - 1s 8ms/step - loss: 5.7887 - mse: 332.8122 - mae: 12.4321 - msle: 5.7887 - val_loss: 9.5354 - val_mse: 527.7215 - val_mae: 21.7777 - val_msle: 9.5354 - lr: 1.0000e-06\n",
            "Epoch 50/50\n",
            "140/140 [==============================] - 1s 8ms/step - loss: 5.7887 - mse: 332.8122 - mae: 12.4321 - msle: 5.7887 - val_loss: 9.5354 - val_mse: 527.7215 - val_mae: 21.7777 - val_msle: 9.5354 - lr: 1.0000e-06\n"
          ]
        }
      ],
      "source": [
        "model = create_model()\n",
        "model.summary()\n",
        "history = model.fit(ds_train, validation_data=ds_valid, epochs=50, verbose=1, shuffle=True, callbacks=[learning_rate_reduction])"
      ]
    },
    {
      "cell_type": "code",
      "execution_count": 156,
      "metadata": {
        "colab": {
          "base_uri": "https://localhost:8080/"
        },
        "id": "hxprbF_FBC_S",
        "outputId": "7b081027-54d7-4326-953f-e94fa6af2f65"
      },
      "outputs": [
        {
          "output_type": "stream",
          "name": "stdout",
          "text": [
            "13/13 [==============================] - 0s 6ms/step - loss: 9.5354 - mse: 527.7215 - mae: 21.7777 - msle: 9.5354\n",
            "[9.53542423248291, 527.7214965820312, 21.77768898010254, 9.53542423248291]\n"
          ]
        }
      ],
      "source": [
        "results = model.evaluate(ds_valid)\n",
        "print(results)"
      ]
    },
    {
      "cell_type": "code",
      "execution_count": 158,
      "metadata": {
        "colab": {
          "base_uri": "https://localhost:8080/"
        },
        "id": "Mr3JJ-ydUTut",
        "outputId": "a1bb4815-dbda-4f13-ad0a-2fb5bd4b63a7"
      },
      "outputs": [
        {
          "output_type": "stream",
          "name": "stdout",
          "text": [
            "(32, 480)\n"
          ]
        }
      ],
      "source": [
        "ds_test_xx = ds_test_x.batch(32)\n",
        "for x in ds_test_xx:\n",
        "  print(x.shape)\n",
        "  break"
      ]
    },
    {
      "cell_type": "code",
      "execution_count": 159,
      "metadata": {
        "colab": {
          "base_uri": "https://localhost:8080/"
        },
        "id": "SQU-yXd9UGb3",
        "outputId": "8ac400f1-e31c-4748-b4bb-452d3d1f2e76"
      },
      "outputs": [
        {
          "output_type": "stream",
          "name": "stdout",
          "text": [
            "[[0. 0. 0. ... 0. 0. 0.]\n",
            " [0. 0. 0. ... 0. 0. 0.]\n",
            " [0. 0. 0. ... 0. 0. 0.]\n",
            " ...\n",
            " [0. 0. 0. ... 0. 0. 0.]\n",
            " [0. 0. 0. ... 0. 0. 0.]\n",
            " [0. 0. 0. ... 0. 0. 0.]]\n"
          ]
        }
      ],
      "source": [
        "predictions = model.predict(ds_test_xx)\n",
        "print(predictions)"
      ]
    },
    {
      "cell_type": "code",
      "source": [
        "ds_test_yy = ds_test_y.batch(32)"
      ],
      "metadata": {
        "id": "9gvYoVFkqSPN"
      },
      "execution_count": 161,
      "outputs": []
    },
    {
      "cell_type": "code",
      "execution_count": 162,
      "metadata": {
        "colab": {
          "base_uri": "https://localhost:8080/",
          "height": 265
        },
        "id": "KY1MkjyaUomF",
        "outputId": "3fb29b76-c511-40aa-fa31-42621d384596"
      },
      "outputs": [
        {
          "output_type": "display_data",
          "data": {
            "text/plain": [
              "<Figure size 432x288 with 1 Axes>"
            ],
            "image/png": "[encoded data removed]"
          },
          "metadata": {
            "needs_background": "light"
          }
        }
      ],
      "source": [
        "pyplot.plot(list(ds_test_y), linestyle='solid', color='r')\n",
        "pyplot.plot(predictions, linestyle='dashed', color='b')\n",
        "pyplot.legend(['Actual','Predicted'], loc='best')\n",
        "pyplot.grid(color = 'y', linewidth='0.5')\n",
        "pyplot.show()"
      ]
    },
    {
      "cell_type": "code",
      "source": [
        "print(len(list(ds_test_y)))\n",
        "print(len(predictions))"
      ],
      "metadata": {
        "colab": {
          "base_uri": "https://localhost:8080/"
        },
        "id": "__dwt2iipm8G",
        "outputId": "f70d4ab7-caea-4b17-cf22-ff911d7110b0"
      },
      "execution_count": 163,
      "outputs": [
        {
          "output_type": "stream",
          "name": "stdout",
          "text": [
            "445\n",
            "445\n"
          ]
        }
      ]
    }
  ],
  "metadata": {
    "accelerator": "GPU",
    "colab": {
      "collapsed_sections": [],
      "name": "MultioutputModel.ipynb",
      "provenance": [],
      "mount_file_id": "1mNQWD6W77rtcYL2TXqoEq0Z4WCNMHfJn",
      "authorship_tag": "ABX9TyOe2SOHLD9JTJT9jghYjIZD",
      "include_colab_link": true
    },
    "kernelspec": {
      "display_name": "Python 3",
      "name": "python3"
    },
    "language_info": {
      "name": "python"
    }
  },
  "nbformat": 4,
  "nbformat_minor": 0
}