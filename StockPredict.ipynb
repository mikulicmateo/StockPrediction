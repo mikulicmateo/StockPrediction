{
  "nbformat": 4,
  "nbformat_minor": 0,
  "metadata": {
    "colab": {
      "name": "StockPredict.ipynb",
      "provenance": [],
      "collapsed_sections": [],
      "mount_file_id": "1ie-Kv4b2wUgosfvoBqtOvBBpvoRQXTc4",
      "authorship_tag": "ABX9TyOVFN6eFH46vEQ0Ma9uohT7",
      "include_colab_link": true
    },
    "kernelspec": {
      "name": "python3",
      "display_name": "Python 3"
    },
    "language_info": {
      "name": "python"
    },
    "accelerator": "GPU"
  },
  "cells": [
    {
      "cell_type": "markdown",
      "metadata": {
        "id": "view-in-github",
        "colab_type": "text"
      },
      "source": [
        "<a href=\"https://colab.research.google.com/github/mikulicmateo/StockPrediction/blob/main/StockPredict.ipynb\" target=\"_parent\"><img src=\"https://colab.research.google.com/assets/colab-badge.svg\" alt=\"Open In Colab\"/></a>"
      ]
    },
    {
      "cell_type": "code",
      "execution_count": 17,
      "metadata": {
        "id": "FOXLfLrBWtCn"
      },
      "outputs": [],
      "source": [
        "import numpy as np\n",
        "import json\n",
        "from tensorflow.keras.models import Sequential\n",
        "from tensorflow.keras.optimizers import Adam\n",
        "from tensorflow.keras.layers import Dense\n",
        "from tensorflow.keras.layers import Input\n",
        "from tensorflow.keras.layers import Dropout\n",
        "#from tensorflow.keras.callbacks import EarlyStopping\n",
        "from matplotlib import pyplot\n",
        "\n",
        "\n",
        "def create_model():\n",
        "    l_model = Sequential()\n",
        "    l_model.add(Input(32))\n",
        "    l_model.add(Dense(128, activation=\"linear\"))\n",
        "    l_model.add(Dropout(0.5))\n",
        "    l_model.add(Dense(128, activation=\"relu\"))\n",
        "    l_model.add(Dense(64, activation=\"linear\"))\n",
        "    l_model.add(Dense(32, activation=\"relu\"))\n",
        "    l_model.add(Dense(16, activation=\"linear\"))\n",
        "    l_model.add(Dense(8, activation=\"relu\"))\n",
        "    l_model.add(Dense(4, activation=\"linear\"))\n",
        "    l_model.add(Dense(2, activation=\"relu\"))\n",
        "    l_model.add(Dropout(0.5))\n",
        "    l_model.add(Dense(1, activation=\"linear\"))\n",
        "    l_model.compile(Adam(learning_rate=0.0001), loss=\"mean_squared_error\", metrics=['mse', 'mae','msle'])\n",
        "    l_model.summary()\n",
        "    return l_model\n",
        "\n",
        "\n",
        "def calculate_typical_price(row):\n",
        "    typical_price = (row[1] + row[2] + row[3])/3\n",
        "    return typical_price\n"
      ]
    },
    {
      "cell_type": "code",
      "source": [
        "def load_from_dictionary(dataset):\n",
        "  arr = []\n",
        "  data = np.empty(shape=(0, 8))\n",
        "  listOfArrays = []\n",
        "  for j in dataset.keys():\n",
        "    print(\"************** \", str(j))\n",
        "    for i in dataset[j]:\n",
        "        arr = float(i.get('open')), float(i.get('high')), float(i.get('low')), float(i.get('close')), \\\n",
        "              float(i.get('volume')), float(i.get('rsi')), float(i.get('sma')), float(i.get('ema'))\n",
        "        data = np.append(data, [arr], axis=0)\n",
        "    print(data.shape)\n",
        "    listOfArrays.append(data)\n",
        "  \n",
        "  return listOfArrays\n"
      ],
      "metadata": {
        "id": "lQtEXSrhh_eM"
      },
      "execution_count": 2,
      "outputs": []
    },
    {
      "cell_type": "code",
      "source": [
        "def to_np_arr_for_N_days(listOfArrays):\n",
        "  input_data = np.empty((0,32))\n",
        "  output_data = np.empty((0,))\n",
        "  for company in listOfArrays:\n",
        "    num_rows, _ = company.shape\n",
        "    for i in range(num_rows):\n",
        "        if i + 4 > num_rows-1:\n",
        "            print(company[i])\n",
        "            break\n",
        "        add = np.array([company[i], company[i + 1], company[i + 2], company[i + 3]]).reshape(1,32)\n",
        "        input_data=np.append(input_data, add, axis=0)\n",
        "        add = np.array([calculate_typical_price(company[i + 4])])\n",
        "        output_data=np.append(output_data, add, axis=0)\n",
        "  \n",
        "  return input_data,output_data"
      ],
      "metadata": {
        "id": "NMUnETq3ik7T"
      },
      "execution_count": 3,
      "outputs": []
    },
    {
      "cell_type": "code",
      "source": [
        "with open(\"/content/drive/MyDrive/dataset.json\") as json_file:\n",
        "    dataset = json.loads(json_file.read())"
      ],
      "metadata": {
        "id": "YrgdJmmpN_hQ"
      },
      "execution_count": 4,
      "outputs": []
    },
    {
      "cell_type": "code",
      "source": [
        "arrayList = load_from_dictionary(dataset)"
      ],
      "metadata": {
        "colab": {
          "base_uri": "https://localhost:8080/"
        },
        "id": "2SWBBhc4jURG",
        "outputId": "908403c9-9093-4ba3-933f-031a51c9f0f9"
      },
      "execution_count": 5,
      "outputs": [
        {
          "output_type": "stream",
          "name": "stdout",
          "text": [
            "**************  IBM\n",
            "(5549, 8)\n",
            "**************  AMD\n",
            "(11098, 8)\n",
            "**************  TSLA\n",
            "(13967, 8)\n",
            "**************  PFE\n",
            "(19516, 8)\n",
            "**************  MRK\n",
            "(25065, 8)\n",
            "**************  F\n",
            "(30614, 8)\n",
            "**************  CROX\n",
            "(34587, 8)\n",
            "**************  DNA\n",
            "(34737, 8)\n",
            "**************  JD\n",
            "(36625, 8)\n",
            "**************  JBLU\n",
            "(41562, 8)\n",
            "**************  OXY\n",
            "(47111, 8)\n",
            "**************  X\n",
            "(52660, 8)\n",
            "**************  KO\n",
            "(58209, 8)\n",
            "**************  NCLH\n",
            "(60434, 8)\n",
            "**************  AMZN\n",
            "(65983, 8)\n",
            "**************  BBD\n",
            "(71015, 8)\n",
            "**************  BAC\n",
            "(76564, 8)\n",
            "**************  NIO\n",
            "(77367, 8)\n"
          ]
        }
      ]
    },
    {
      "cell_type": "code",
      "source": [
        "train_input, train_output = to_np_arr_for_N_days(arrayList)"
      ],
      "metadata": {
        "colab": {
          "base_uri": "https://localhost:8080/"
        },
        "id": "q0JS0EbWjrJh",
        "outputId": "ea98c698-e2c0-4ef1-aa7b-bc2cb30c5f58"
      },
      "execution_count": 6,
      "outputs": [
        {
          "output_type": "stream",
          "name": "stdout",
          "text": [
            "[1.11620e+02 1.11940e+02 1.07560e+02 1.09000e+02 1.25888e+07 5.87323e+01\n",
            " 5.96682e+01 6.00730e+01]\n",
            "[2.93800e+01 2.96300e+01 2.81300e+01 2.92500e+01 3.10280e+06 6.48830e+01\n",
            " 1.36140e+01 1.34457e+01]\n",
            "[1.99000e+01 1.99800e+01 1.94500e+01 1.96000e+01 8.12700e+05 4.08265e+01\n",
            " 3.94660e+00 4.01680e+00]\n",
            "[3.36300e+01 3.42500e+01 3.33800e+01 3.38800e+01 1.02609e+07 3.58435e+01\n",
            " 1.56701e+01 1.57471e+01]\n",
            "[7.16900e+01 7.26900e+01 7.08800e+01 7.14400e+01 5.28720e+06 3.64842e+01\n",
            " 3.24296e+01 3.22271e+01]\n",
            "[5.006000e+01 5.019000e+01 4.856000e+01 4.894000e+01 4.320687e+06\n",
            " 3.488940e+01 2.190790e+01 2.188320e+01]\n",
            "[2.30000e+01 2.32500e+01 2.20300e+01 2.20600e+01 8.90500e+05 3.09939e+01\n",
            " 1.30380e+01 1.29099e+01]\n",
            "[9.89000e+00 9.89000e+00 9.86000e+00 9.88000e+00 7.57434e+05 3.92852e+01\n",
            " 1.00256e+01 1.00225e+01]\n",
            "[3.04000e+01 3.04100e+01 2.85000e+01 2.89600e+01 6.10820e+06 6.72822e+01\n",
            " 2.69360e+01 2.66881e+01]\n",
            "[4.37000e+01 4.44900e+01 4.35500e+01 4.44000e+01 5.36300e+04 4.91709e+01\n",
            " 1.38475e+01 1.36840e+01]\n",
            "[1.96300e+01 2.00600e+01 1.94400e+01 1.99400e+01 9.43500e+05 3.76307e+01\n",
            " 5.38410e+00 5.30340e+00]\n",
            "[2.85000e+01 2.99400e+01 2.84400e+01 2.95000e+01 8.62900e+05 6.74340e+01\n",
            " 1.95255e+01 1.98262e+01]\n",
            "[6.25000e+01 6.33800e+01 6.21300e+01 6.32500e+01 5.85950e+06 5.64785e+01\n",
            " 1.70794e+01 1.68862e+01]\n",
            "[3.05000e+01 3.16800e+01 3.02600e+01 3.09900e+01 6.88200e+05 7.02469e+01\n",
            " 2.89211e+01 2.89315e+01]\n",
            "[1.11400e+02 1.12000e+02 1.04400e+02 1.06700e+02 1.49290e+07 7.01830e+01\n",
            " 8.27600e+01 8.31418e+01]\n",
            "[2.75400e+01 2.75400e+01 2.68000e+01 2.71000e+01 4.77000e+04 5.88445e+01\n",
            " 4.31100e-01 4.35800e-01]\n",
            "[5.20000e+01 5.45000e+01 5.20000e+01 5.36300e+01 8.03650e+06 3.69862e+01\n",
            " 1.63148e+01 1.60576e+01]\n",
            "[7.6800000e+00 7.6850000e+00 7.0000000e+00 7.0300000e+00 1.2758537e+07\n",
            " 5.1030900e+01 7.3252000e+00 7.5432000e+00]\n"
          ]
        }
      ]
    },
    {
      "cell_type": "code",
      "source": [
        "print(train_input.shape)\n",
        "print(train_output.shape)"
      ],
      "metadata": {
        "colab": {
          "base_uri": "https://localhost:8080/"
        },
        "id": "IKUPpHylPoFl",
        "outputId": "7546786f-7228-403c-bc43-6d8e6f80c597"
      },
      "execution_count": 7,
      "outputs": [
        {
          "output_type": "stream",
          "name": "stdout",
          "text": [
            "(762591, 32)\n",
            "(762591,)\n"
          ]
        }
      ]
    },
    {
      "cell_type": "code",
      "source": [
        "model = create_model()\n",
        "history = model.fit(x=train_input, y=train_output, batch_size=512,validation_split=0.1, epochs=265, verbose=1, shuffle=True)#, callbacks=EarlyStopping(monitor='loss', patience=3))"
      ],
      "metadata": {
        "id": "y4rUpdOuE_kB",
        "colab": {
          "base_uri": "https://localhost:8080/"
        },
        "outputId": "ec718223-f129-48d3-d74c-0881a04206b1"
      },
      "execution_count": 18,
      "outputs": [
        {
          "output_type": "stream",
          "name": "stdout",
          "text": [
            "Model: \"sequential_1\"\n",
            "_________________________________________________________________\n",
            " Layer (type)                Output Shape              Param #   \n",
            "=================================================================\n",
            " dense_9 (Dense)             (None, 128)               4224      \n",
            "                                                                 \n",
            " dropout (Dropout)           (None, 128)               0         \n",
            "                                                                 \n",
            " dense_10 (Dense)            (None, 128)               16512     \n",
            "                                                                 \n",
            " dense_11 (Dense)            (None, 64)                8256      \n",
            "                                                                 \n",
            " dense_12 (Dense)            (None, 32)                2080      \n",
            "                                                                 \n",
            " dense_13 (Dense)            (None, 16)                528       \n",
            "                                                                 \n",
            " dense_14 (Dense)            (None, 8)                 136       \n",
            "                                                                 \n",
            " dense_15 (Dense)            (None, 4)                 36        \n",
            "                                                                 \n",
            " dense_16 (Dense)            (None, 2)                 10        \n",
            "                                                                 \n",
            " dropout_1 (Dropout)         (None, 2)                 0         \n",
            "                                                                 \n",
            " dense_17 (Dense)            (None, 1)                 3         \n",
            "                                                                 \n",
            "=================================================================\n",
            "Total params: 31,785\n",
            "Trainable params: 31,785\n",
            "Non-trainable params: 0\n",
            "_________________________________________________________________\n",
            "Epoch 1/265\n",
            "1341/1341 [==============================] - 9s 6ms/step - loss: 846751137792.0000 - mse: 846751137792.0000 - mae: 83362.5234 - msle: 15.2405 - val_loss: 252797.1875 - val_mse: 252797.1875 - val_mae: 92.0553 - val_msle: 13.8541\n",
            "Epoch 2/265\n",
            "1341/1341 [==============================] - 8s 6ms/step - loss: 3607654912.0000 - mse: 3607654912.0000 - mae: 605.5947 - msle: 14.1403 - val_loss: 95929.5078 - val_mse: 95929.5078 - val_mae: 89.3777 - val_msle: 13.8508\n",
            "Epoch 3/265\n",
            "1341/1341 [==============================] - 8s 6ms/step - loss: 311777376.0000 - mse: 311777376.0000 - mae: 175.5344 - msle: 14.1234 - val_loss: 95929.4688 - val_mse: 95929.4688 - val_mae: 89.3774 - val_msle: 13.8490\n",
            "Epoch 4/265\n",
            "1341/1341 [==============================] - 8s 6ms/step - loss: 91400032.0000 - mse: 91400032.0000 - mae: 121.8953 - msle: 14.1187 - val_loss: 95929.3906 - val_mse: 95929.3906 - val_mae: 89.3769 - val_msle: 13.8452\n",
            "Epoch 5/265\n",
            "1341/1341 [==============================] - 8s 6ms/step - loss: 147170464.0000 - mse: 147170464.0000 - mae: 119.9711 - msle: 14.1155 - val_loss: 95929.2578 - val_mse: 95929.2578 - val_mae: 89.3762 - val_msle: 13.8405\n",
            "Epoch 6/265\n",
            "1341/1341 [==============================] - 8s 6ms/step - loss: 25455814.0000 - mse: 25455814.0000 - mae: 86.4142 - msle: 14.1057 - val_loss: 95928.9688 - val_mse: 95928.9688 - val_mae: 89.3746 - val_msle: 13.8290\n",
            "Epoch 7/265\n",
            "1341/1341 [==============================] - 8s 6ms/step - loss: 1529361.8750 - mse: 1529361.8750 - mae: 77.5425 - msle: 14.0907 - val_loss: 95928.4531 - val_mse: 95928.4531 - val_mae: 89.3718 - val_msle: 13.8090\n",
            "Epoch 8/265\n",
            "1341/1341 [==============================] - 8s 6ms/step - loss: 2412599.5000 - mse: 2412599.5000 - mae: 77.7684 - msle: 14.0613 - val_loss: 95927.4375 - val_mse: 95927.4375 - val_mae: 89.3661 - val_msle: 13.7688\n",
            "Epoch 9/265\n",
            "1341/1341 [==============================] - 8s 6ms/step - loss: 52717.9609 - mse: 52717.9609 - mae: 75.4250 - msle: 14.0049 - val_loss: 95925.4766 - val_mse: 95925.4766 - val_mae: 89.3552 - val_msle: 13.6941\n",
            "Epoch 10/265\n",
            "1341/1341 [==============================] - 8s 6ms/step - loss: 87394.7109 - mse: 87394.7109 - mae: 75.6806 - msle: 13.8987 - val_loss: 95921.7578 - val_mse: 95921.7578 - val_mae: 89.3343 - val_msle: 13.5520\n",
            "Epoch 11/265\n",
            "1341/1341 [==============================] - 9s 7ms/step - loss: 103197.9453 - mse: 103197.9453 - mae: 75.5147 - msle: 13.7008 - val_loss: 95914.6641 - val_mse: 95914.6641 - val_mae: 89.2947 - val_msle: 13.2935\n",
            "Epoch 12/265\n",
            "1341/1341 [==============================] - 8s 6ms/step - loss: 844739.8125 - mse: 844739.8125 - mae: 76.2597 - msle: 13.3612 - val_loss: 95902.6719 - val_mse: 95902.6719 - val_mae: 89.2274 - val_msle: 12.8801\n",
            "Epoch 13/265\n",
            "1341/1341 [==============================] - 8s 6ms/step - loss: 4558488.5000 - mse: 4558488.5000 - mae: 77.6522 - msle: 12.8955 - val_loss: 95888.0078 - val_mse: 95888.0078 - val_mae: 89.1451 - val_msle: 12.4154\n",
            "Epoch 14/265\n",
            "1341/1341 [==============================] - 8s 6ms/step - loss: 43021.0703 - mse: 43021.0703 - mae: 74.9995 - msle: 12.4176 - val_loss: 95870.0781 - val_mse: 95870.0781 - val_mae: 89.0447 - val_msle: 11.8996\n",
            "Epoch 15/265\n",
            "1341/1341 [==============================] - 8s 6ms/step - loss: 43004.2656 - mse: 43004.2656 - mae: 74.8873 - msle: 11.8652 - val_loss: 95848.5312 - val_mse: 95848.5312 - val_mae: 88.9235 - val_msle: 11.3407\n",
            "Epoch 16/265\n",
            "1341/1341 [==============================] - 8s 6ms/step - loss: 42985.3750 - mse: 42985.3750 - mae: 74.7613 - msle: 11.3093 - val_loss: 95825.4609 - val_mse: 95825.4609 - val_mae: 88.7937 - val_msle: 10.8064\n",
            "Epoch 17/265\n",
            "1341/1341 [==============================] - 8s 6ms/step - loss: 42965.8008 - mse: 42965.8008 - mae: 74.6301 - msle: 10.7914 - val_loss: 95802.0000 - val_mse: 95802.0000 - val_mae: 88.6615 - val_msle: 10.3184\n",
            "Epoch 18/265\n",
            "1341/1341 [==============================] - 8s 6ms/step - loss: 42946.0391 - mse: 42946.0391 - mae: 74.4973 - msle: 10.3202 - val_loss: 95778.5000 - val_mse: 95778.5000 - val_mae: 88.5289 - val_msle: 9.8764\n",
            "Epoch 19/265\n",
            "1341/1341 [==============================] - 8s 6ms/step - loss: 42926.3203 - mse: 42926.3203 - mae: 74.3646 - msle: 9.8932 - val_loss: 95754.9609 - val_mse: 95754.9609 - val_mae: 88.3959 - val_msle: 9.4737\n",
            "Epoch 20/265\n",
            "1341/1341 [==============================] - 8s 6ms/step - loss: 42906.5156 - mse: 42906.5156 - mae: 74.2315 - msle: 9.5032 - val_loss: 95731.4688 - val_mse: 95731.4688 - val_mae: 88.2629 - val_msle: 9.1059\n",
            "Epoch 21/265\n",
            "1341/1341 [==============================] - 8s 6ms/step - loss: 63851.3398 - mse: 63851.3398 - mae: 74.2734 - msle: 9.1460 - val_loss: 95707.9375 - val_mse: 95707.9375 - val_mae: 88.1297 - val_msle: 8.7674\n",
            "Epoch 22/265\n",
            "1341/1341 [==============================] - 8s 6ms/step - loss: 42867.0938 - mse: 42867.0938 - mae: 73.9660 - msle: 8.8173 - val_loss: 95684.6250 - val_mse: 95684.6250 - val_mae: 87.9973 - val_msle: 8.4566\n",
            "Epoch 23/265\n",
            "1341/1341 [==============================] - 8s 6ms/step - loss: 42847.4453 - mse: 42847.4453 - mae: 73.8335 - msle: 8.5134 - val_loss: 95661.2344 - val_mse: 95661.2344 - val_mae: 87.8647 - val_msle: 8.1683\n",
            "Epoch 24/265\n",
            "1341/1341 [==============================] - 8s 6ms/step - loss: 42827.8555 - mse: 42827.8555 - mae: 73.7008 - msle: 8.2312 - val_loss: 95637.8828 - val_mse: 95637.8828 - val_mae: 87.7321 - val_msle: 7.8999\n",
            "Epoch 25/265\n",
            "1341/1341 [==============================] - 8s 6ms/step - loss: 42808.2891 - mse: 42808.2891 - mae: 73.5682 - msle: 7.9679 - val_loss: 95614.5625 - val_mse: 95614.5625 - val_mae: 87.5998 - val_msle: 7.6498\n",
            "Epoch 26/265\n",
            "1341/1341 [==============================] - 8s 6ms/step - loss: 42788.6836 - mse: 42788.6836 - mae: 73.4360 - msle: 7.7225 - val_loss: 95591.2734 - val_mse: 95591.2734 - val_mae: 87.4674 - val_msle: 7.4155\n",
            "Epoch 27/265\n",
            "1341/1341 [==============================] - 8s 6ms/step - loss: 42769.1875 - mse: 42769.1875 - mae: 73.3040 - msle: 7.4922 - val_loss: 95568.0078 - val_mse: 95568.0078 - val_mae: 87.3353 - val_msle: 7.1956\n",
            "Epoch 28/265\n",
            "1341/1341 [==============================] - 8s 6ms/step - loss: 42749.7227 - mse: 42749.7227 - mae: 73.1723 - msle: 7.2754 - val_loss: 95544.8359 - val_mse: 95544.8359 - val_mae: 87.2038 - val_msle: 6.9893\n",
            "Epoch 29/265\n",
            "1341/1341 [==============================] - 8s 6ms/step - loss: 42730.2109 - mse: 42730.2109 - mae: 73.0416 - msle: 7.0722 - val_loss: 95521.5938 - val_mse: 95521.5938 - val_mae: 87.0721 - val_msle: 6.7941\n",
            "Epoch 30/265\n",
            "1341/1341 [==============================] - 8s 6ms/step - loss: 42710.8125 - mse: 42710.8125 - mae: 72.9108 - msle: 6.8795 - val_loss: 95498.4766 - val_mse: 95498.4766 - val_mae: 86.9412 - val_msle: 6.6104\n",
            "Epoch 31/265\n",
            "1341/1341 [==============================] - 8s 6ms/step - loss: 42691.4375 - mse: 42691.4375 - mae: 72.7811 - msle: 6.6979 - val_loss: 95475.3672 - val_mse: 95475.3672 - val_mae: 86.8105 - val_msle: 6.4364\n",
            "Epoch 32/265\n",
            "1341/1341 [==============================] - 8s 6ms/step - loss: 42672.0898 - mse: 42672.0898 - mae: 72.6516 - msle: 6.5256 - val_loss: 95452.3125 - val_mse: 95452.3125 - val_mae: 86.6803 - val_msle: 6.2714\n",
            "Epoch 33/265\n",
            "1341/1341 [==============================] - 8s 6ms/step - loss: 42652.8164 - mse: 42652.8164 - mae: 72.5227 - msle: 6.3619 - val_loss: 95429.2500 - val_mse: 95429.2500 - val_mae: 86.5504 - val_msle: 6.1148\n",
            "Epoch 34/265\n",
            "1341/1341 [==============================] - 8s 6ms/step - loss: 42633.5391 - mse: 42633.5391 - mae: 72.3943 - msle: 6.2066 - val_loss: 95406.2891 - val_mse: 95406.2891 - val_mae: 86.4209 - val_msle: 5.9659\n",
            "Epoch 35/265\n",
            "1341/1341 [==============================] - 8s 6ms/step - loss: 42614.2891 - mse: 42614.2891 - mae: 72.2663 - msle: 6.0587 - val_loss: 95383.3125 - val_mse: 95383.3125 - val_mae: 86.2913 - val_msle: 5.8238\n",
            "Epoch 36/265\n",
            "1341/1341 [==============================] - 8s 6ms/step - loss: 42595.1211 - mse: 42595.1211 - mae: 72.1384 - msle: 5.9176 - val_loss: 95360.3672 - val_mse: 95360.3672 - val_mae: 86.1620 - val_msle: 5.6885\n",
            "Epoch 37/265\n",
            "1341/1341 [==============================] - 8s 6ms/step - loss: 42575.9219 - mse: 42575.9219 - mae: 72.0106 - msle: 5.7830 - val_loss: 95337.4766 - val_mse: 95337.4766 - val_mae: 86.0331 - val_msle: 5.5593\n",
            "Epoch 38/265\n",
            "1341/1341 [==============================] - 8s 6ms/step - loss: 42556.8047 - mse: 42556.8047 - mae: 71.8832 - msle: 5.6543 - val_loss: 95314.6641 - val_mse: 95314.6641 - val_mae: 85.9046 - val_msle: 5.4360\n",
            "Epoch 39/265\n",
            "1341/1341 [==============================] - 8s 6ms/step - loss: 42537.7422 - mse: 42537.7422 - mae: 71.7562 - msle: 5.5313 - val_loss: 95291.8281 - val_mse: 95291.8281 - val_mae: 85.7763 - val_msle: 5.3178\n",
            "Epoch 40/265\n",
            "1341/1341 [==============================] - 8s 6ms/step - loss: 42518.6758 - mse: 42518.6758 - mae: 71.6298 - msle: 5.4135 - val_loss: 95269.0000 - val_mse: 95269.0000 - val_mae: 85.6484 - val_msle: 5.2044\n",
            "Epoch 41/265\n",
            "1341/1341 [==============================] - 8s 6ms/step - loss: 42499.6289 - mse: 42499.6289 - mae: 71.5037 - msle: 5.3003 - val_loss: 95246.2969 - val_mse: 95246.2969 - val_mae: 85.5214 - val_msle: 5.0959\n",
            "Epoch 42/265\n",
            "1341/1341 [==============================] - 8s 6ms/step - loss: 42480.6719 - mse: 42480.6719 - mae: 71.3786 - msle: 5.1919 - val_loss: 95223.5625 - val_mse: 95223.5625 - val_mae: 85.3946 - val_msle: 4.9915\n",
            "Epoch 43/265\n",
            "1341/1341 [==============================] - 8s 6ms/step - loss: 42461.7539 - mse: 42461.7539 - mae: 71.2537 - msle: 5.0875 - val_loss: 95200.9453 - val_mse: 95200.9453 - val_mae: 85.2688 - val_msle: 4.8915\n",
            "Epoch 44/265\n",
            "1341/1341 [==============================] - 8s 6ms/step - loss: 42442.8320 - mse: 42442.8320 - mae: 71.1301 - msle: 4.9875 - val_loss: 95178.2656 - val_mse: 95178.2656 - val_mae: 85.1432 - val_msle: 4.7950\n",
            "Epoch 45/265\n",
            "1341/1341 [==============================] - 8s 6ms/step - loss: 42423.9492 - mse: 42423.9492 - mae: 71.0067 - msle: 4.8911 - val_loss: 95155.6484 - val_mse: 95155.6484 - val_mae: 85.0181 - val_msle: 4.7023\n",
            "Epoch 46/265\n",
            "1341/1341 [==============================] - 8s 6ms/step - loss: 42405.1484 - mse: 42405.1484 - mae: 70.8838 - msle: 4.7982 - val_loss: 95133.0469 - val_mse: 95133.0469 - val_mae: 84.8934 - val_msle: 4.6129\n",
            "Epoch 47/265\n",
            "1341/1341 [==============================] - 8s 6ms/step - loss: 42386.3359 - mse: 42386.3359 - mae: 70.7610 - msle: 4.7087 - val_loss: 95110.5547 - val_mse: 95110.5547 - val_mae: 84.7694 - val_msle: 4.5269\n",
            "Epoch 48/265\n",
            "1341/1341 [==============================] - 8s 6ms/step - loss: 42367.5391 - mse: 42367.5391 - mae: 70.6390 - msle: 4.6225 - val_loss: 95088.0156 - val_mse: 95088.0156 - val_mae: 84.6455 - val_msle: 4.4438\n",
            "Epoch 49/265\n",
            "1341/1341 [==============================] - 8s 6ms/step - loss: 42348.8359 - mse: 42348.8359 - mae: 70.5170 - msle: 4.5391 - val_loss: 95065.5391 - val_mse: 95065.5391 - val_mae: 84.5223 - val_msle: 4.3636\n",
            "Epoch 50/265\n",
            "1341/1341 [==============================] - 8s 6ms/step - loss: 42330.1523 - mse: 42330.1523 - mae: 70.3955 - msle: 4.4586 - val_loss: 95043.1719 - val_mse: 95043.1719 - val_mae: 84.3998 - val_msle: 4.2864\n",
            "Epoch 51/265\n",
            "1341/1341 [==============================] - 8s 6ms/step - loss: 42311.5117 - mse: 42311.5117 - mae: 70.2748 - msle: 4.3810 - val_loss: 95020.7969 - val_mse: 95020.7969 - val_mae: 84.2778 - val_msle: 4.2117\n",
            "Epoch 52/265\n",
            "1341/1341 [==============================] - 8s 6ms/step - loss: 42292.8516 - mse: 42292.8516 - mae: 70.1547 - msle: 4.3058 - val_loss: 94998.4219 - val_mse: 94998.4219 - val_mae: 84.1562 - val_msle: 4.1393\n",
            "Epoch 53/265\n",
            "1341/1341 [==============================] - 8s 6ms/step - loss: 42274.2734 - mse: 42274.2734 - mae: 70.0349 - msle: 4.2331 - val_loss: 94976.1094 - val_mse: 94976.1094 - val_mae: 84.0352 - val_msle: 4.0693\n",
            "Epoch 54/265\n",
            "1341/1341 [==============================] - 8s 6ms/step - loss: 42255.6914 - mse: 42255.6914 - mae: 69.9156 - msle: 4.1626 - val_loss: 94953.8438 - val_mse: 94953.8438 - val_mae: 83.9150 - val_msle: 4.0017\n",
            "Epoch 55/265\n",
            "1341/1341 [==============================] - 8s 6ms/step - loss: 42237.1758 - mse: 42237.1758 - mae: 69.7972 - msle: 4.0946 - val_loss: 94931.5547 - val_mse: 94931.5547 - val_mae: 83.7949 - val_msle: 3.9360\n",
            "Epoch 56/265\n",
            "1341/1341 [==============================] - 8s 6ms/step - loss: 42218.7031 - mse: 42218.7031 - mae: 69.6792 - msle: 4.0285 - val_loss: 94909.3516 - val_mse: 94909.3516 - val_mae: 83.6758 - val_msle: 3.8725\n",
            "Epoch 57/265\n",
            "1341/1341 [==============================] - 8s 6ms/step - loss: 42200.2969 - mse: 42200.2969 - mae: 69.5620 - msle: 3.9645 - val_loss: 94887.2031 - val_mse: 94887.2031 - val_mae: 83.5574 - val_msle: 3.8109\n",
            "Epoch 58/265\n",
            "1341/1341 [==============================] - 8s 6ms/step - loss: 42181.8984 - mse: 42181.8984 - mae: 69.4453 - msle: 3.9024 - val_loss: 94865.0547 - val_mse: 94865.0547 - val_mae: 83.4395 - val_msle: 3.7512\n",
            "Epoch 59/265\n",
            "1341/1341 [==============================] - 8s 6ms/step - loss: 42163.4883 - mse: 42163.4883 - mae: 69.3293 - msle: 3.8421 - val_loss: 94842.9531 - val_mse: 94842.9531 - val_mae: 83.3222 - val_msle: 3.6933\n",
            "Epoch 60/265\n",
            "1341/1341 [==============================] - 8s 6ms/step - loss: 42145.1562 - mse: 42145.1562 - mae: 69.2142 - msle: 3.7838 - val_loss: 94820.8984 - val_mse: 94820.8984 - val_mae: 83.2055 - val_msle: 3.6370\n",
            "Epoch 61/265\n",
            "1341/1341 [==============================] - 8s 6ms/step - loss: 42126.9258 - mse: 42126.9258 - mae: 69.0993 - msle: 3.7269 - val_loss: 94798.8906 - val_mse: 94798.8906 - val_mae: 83.0894 - val_msle: 3.5825\n",
            "Epoch 62/265\n",
            "1341/1341 [==============================] - 8s 6ms/step - loss: 42108.6250 - mse: 42108.6250 - mae: 68.9854 - msle: 3.6718 - val_loss: 94776.8984 - val_mse: 94776.8984 - val_mae: 82.9740 - val_msle: 3.5295\n",
            "Epoch 63/265\n",
            "1341/1341 [==============================] - 8s 6ms/step - loss: 42090.4023 - mse: 42090.4023 - mae: 68.8721 - msle: 3.6182 - val_loss: 94754.9375 - val_mse: 94754.9375 - val_mae: 82.8591 - val_msle: 3.4779\n",
            "Epoch 64/265\n",
            "1341/1341 [==============================] - 8s 6ms/step - loss: 42072.1992 - mse: 42072.1992 - mae: 68.7595 - msle: 3.5660 - val_loss: 94733.0547 - val_mse: 94733.0547 - val_mae: 82.7452 - val_msle: 3.4278\n",
            "Epoch 65/265\n",
            "1341/1341 [==============================] - 8s 6ms/step - loss: 42054.0625 - mse: 42054.0625 - mae: 68.6480 - msle: 3.5154 - val_loss: 94711.1562 - val_mse: 94711.1562 - val_mae: 82.6318 - val_msle: 3.3790\n",
            "Epoch 66/265\n",
            "1341/1341 [==============================] - 8s 6ms/step - loss: 42035.9180 - mse: 42035.9180 - mae: 68.5371 - msle: 3.4661 - val_loss: 94689.2656 - val_mse: 94689.2656 - val_mae: 82.5191 - val_msle: 3.3316\n",
            "Epoch 67/265\n",
            "1341/1341 [==============================] - 8s 6ms/step - loss: 42017.8320 - mse: 42017.8320 - mae: 68.4268 - msle: 3.4180 - val_loss: 94667.4766 - val_mse: 94667.4766 - val_mae: 82.4074 - val_msle: 3.2855\n",
            "Epoch 68/265\n",
            "1341/1341 [==============================] - 8s 6ms/step - loss: 41999.8125 - mse: 41999.8125 - mae: 68.3174 - msle: 3.3714 - val_loss: 94645.7188 - val_mse: 94645.7188 - val_mae: 82.2962 - val_msle: 3.2406\n",
            "Epoch 69/265\n",
            "1341/1341 [==============================] - 8s 6ms/step - loss: 41981.7578 - mse: 41981.7578 - mae: 68.2086 - msle: 3.3259 - val_loss: 94623.9688 - val_mse: 94623.9688 - val_mae: 82.1857 - val_msle: 3.1969\n",
            "Epoch 70/265\n",
            "1341/1341 [==============================] - 8s 6ms/step - loss: 41963.8047 - mse: 41963.8047 - mae: 68.1007 - msle: 3.2816 - val_loss: 94602.2422 - val_mse: 94602.2422 - val_mae: 82.0756 - val_msle: 3.1543\n",
            "Epoch 71/265\n",
            "1341/1341 [==============================] - 8s 6ms/step - loss: 41945.8984 - mse: 41945.8984 - mae: 67.9930 - msle: 3.2383 - val_loss: 94580.6016 - val_mse: 94580.6016 - val_mae: 81.9665 - val_msle: 3.1129\n",
            "Epoch 72/265\n",
            "1341/1341 [==============================] - 8s 6ms/step - loss: 41928.0000 - mse: 41928.0000 - mae: 67.8864 - msle: 3.1963 - val_loss: 94558.9609 - val_mse: 94558.9609 - val_mae: 81.8579 - val_msle: 3.0725\n",
            "Epoch 73/265\n",
            "1341/1341 [==============================] - 8s 6ms/step - loss: 41910.1328 - mse: 41910.1328 - mae: 67.7803 - msle: 3.1553 - val_loss: 94537.4219 - val_mse: 94537.4219 - val_mae: 81.7499 - val_msle: 3.0331\n",
            "Epoch 74/265\n",
            "1341/1341 [==============================] - 8s 6ms/step - loss: 41892.2969 - mse: 41892.2969 - mae: 67.6749 - msle: 3.1153 - val_loss: 94515.8203 - val_mse: 94515.8203 - val_mae: 81.6426 - val_msle: 2.9947\n",
            "Epoch 75/265\n",
            "1341/1341 [==============================] - 8s 6ms/step - loss: 41874.5117 - mse: 41874.5117 - mae: 67.5703 - msle: 3.0763 - val_loss: 94494.3125 - val_mse: 94494.3125 - val_mae: 81.5362 - val_msle: 2.9572\n",
            "Epoch 76/265\n",
            "1341/1341 [==============================] - 8s 6ms/step - loss: 41856.7422 - mse: 41856.7422 - mae: 67.4665 - msle: 3.0382 - val_loss: 94472.8047 - val_mse: 94472.8047 - val_mae: 81.4302 - val_msle: 2.9207\n",
            "Epoch 77/265\n",
            "1341/1341 [==============================] - 8s 6ms/step - loss: 41838.9961 - mse: 41838.9961 - mae: 67.3634 - msle: 3.0011 - val_loss: 94451.3516 - val_mse: 94451.3516 - val_mae: 81.3251 - val_msle: 2.8850\n",
            "Epoch 78/265\n",
            "1341/1341 [==============================] - 8s 6ms/step - loss: 41821.2930 - mse: 41821.2930 - mae: 67.2608 - msle: 2.9647 - val_loss: 94429.9531 - val_mse: 94429.9531 - val_mae: 81.2208 - val_msle: 2.8502\n",
            "Epoch 79/265\n",
            "1341/1341 [==============================] - 8s 6ms/step - loss: 41803.6641 - mse: 41803.6641 - mae: 67.1591 - msle: 2.9293 - val_loss: 94408.5781 - val_mse: 94408.5781 - val_mae: 81.1172 - val_msle: 2.8163\n",
            "Epoch 80/265\n",
            "1341/1341 [==============================] - 8s 6ms/step - loss: 41786.0781 - mse: 41786.0781 - mae: 67.0582 - msle: 2.8948 - val_loss: 94387.2188 - val_mse: 94387.2188 - val_mae: 81.0142 - val_msle: 2.7831\n",
            "Epoch 81/265\n",
            "1341/1341 [==============================] - 8s 6ms/step - loss: 41768.4727 - mse: 41768.4727 - mae: 66.9581 - msle: 2.8610 - val_loss: 94365.8750 - val_mse: 94365.8750 - val_mae: 80.9120 - val_msle: 2.7507\n",
            "Epoch 82/265\n",
            "1341/1341 [==============================] - 8s 6ms/step - loss: 41750.9414 - mse: 41750.9414 - mae: 66.8585 - msle: 2.8280 - val_loss: 94344.6094 - val_mse: 94344.6094 - val_mae: 80.8104 - val_msle: 2.7191\n",
            "Epoch 83/265\n",
            "1341/1341 [==============================] - 8s 6ms/step - loss: 41733.3906 - mse: 41733.3906 - mae: 66.7596 - msle: 2.7958 - val_loss: 94323.3906 - val_mse: 94323.3906 - val_mae: 80.7095 - val_msle: 2.6882\n",
            "Epoch 84/265\n",
            "1341/1341 [==============================] - 8s 6ms/step - loss: 41715.9609 - mse: 41715.9609 - mae: 66.6612 - msle: 2.7643 - val_loss: 94302.1953 - val_mse: 94302.1953 - val_mae: 80.6093 - val_msle: 2.6580\n",
            "Epoch 85/265\n",
            "1341/1341 [==============================] - 8s 6ms/step - loss: 41698.5273 - mse: 41698.5273 - mae: 66.5635 - msle: 2.7335 - val_loss: 94281.0312 - val_mse: 94281.0312 - val_mae: 80.5094 - val_msle: 2.6285\n",
            "Epoch 86/265\n",
            "1341/1341 [==============================] - 8s 6ms/step - loss: 41681.0703 - mse: 41681.0703 - mae: 66.4663 - msle: 2.7034 - val_loss: 94259.9062 - val_mse: 94259.9062 - val_mae: 80.4100 - val_msle: 2.5996\n",
            "Epoch 87/265\n",
            "1341/1341 [==============================] - 8s 6ms/step - loss: 41663.6953 - mse: 41663.6953 - mae: 66.3694 - msle: 2.6739 - val_loss: 94238.8125 - val_mse: 94238.8125 - val_mae: 80.3117 - val_msle: 2.5715\n",
            "Epoch 88/265\n",
            "1341/1341 [==============================] - 8s 6ms/step - loss: 41646.4375 - mse: 41646.4375 - mae: 66.2737 - msle: 2.6451 - val_loss: 94217.8047 - val_mse: 94217.8047 - val_mae: 80.2142 - val_msle: 2.5439\n",
            "Epoch 89/265\n",
            "1341/1341 [==============================] - 8s 6ms/step - loss: 41629.0938 - mse: 41629.0938 - mae: 66.1785 - msle: 2.6170 - val_loss: 94196.7656 - val_mse: 94196.7656 - val_mae: 80.1173 - val_msle: 2.5170\n",
            "Epoch 90/265\n",
            "1341/1341 [==============================] - 8s 6ms/step - loss: 41611.8320 - mse: 41611.8320 - mae: 66.0840 - msle: 2.5894 - val_loss: 94175.7734 - val_mse: 94175.7734 - val_mae: 80.0210 - val_msle: 2.4906\n",
            "Epoch 91/265\n",
            "1341/1341 [==============================] - 8s 6ms/step - loss: 41594.6250 - mse: 41594.6250 - mae: 65.9900 - msle: 2.5624 - val_loss: 94154.8359 - val_mse: 94154.8359 - val_mae: 79.9254 - val_msle: 2.4648\n",
            "Epoch 92/265\n",
            "1341/1341 [==============================] - 8s 6ms/step - loss: 41577.4805 - mse: 41577.4805 - mae: 65.8966 - msle: 2.5361 - val_loss: 94133.9375 - val_mse: 94133.9375 - val_mae: 79.8305 - val_msle: 2.4396\n",
            "Epoch 93/265\n",
            "1341/1341 [==============================] - 8s 6ms/step - loss: 41560.3281 - mse: 41560.3281 - mae: 65.8039 - msle: 2.5103 - val_loss: 94113.0625 - val_mse: 94113.0625 - val_mae: 79.7361 - val_msle: 2.4149\n",
            "Epoch 94/265\n",
            "1341/1341 [==============================] - 8s 6ms/step - loss: 41543.1680 - mse: 41543.1680 - mae: 65.7118 - msle: 2.4850 - val_loss: 94092.1875 - val_mse: 94092.1875 - val_mae: 79.6423 - val_msle: 2.3907\n",
            "Epoch 95/265\n",
            "1341/1341 [==============================] - 8s 6ms/step - loss: 41526.1289 - mse: 41526.1289 - mae: 65.6203 - msle: 2.4602 - val_loss: 94071.4219 - val_mse: 94071.4219 - val_mae: 79.5494 - val_msle: 2.3671\n",
            "Epoch 96/265\n",
            "1341/1341 [==============================] - 8s 6ms/step - loss: 41509.0664 - mse: 41509.0664 - mae: 65.5295 - msle: 2.4360 - val_loss: 94050.7031 - val_mse: 94050.7031 - val_mae: 79.4572 - val_msle: 2.3440\n",
            "Epoch 97/265\n",
            "1341/1341 [==============================] - 8s 6ms/step - loss: 41492.0703 - mse: 41492.0703 - mae: 65.4398 - msle: 2.4123 - val_loss: 94029.9141 - val_mse: 94029.9141 - val_mae: 79.3656 - val_msle: 2.3213\n",
            "Epoch 98/265\n",
            "1341/1341 [==============================] - 8s 6ms/step - loss: 41475.1328 - mse: 41475.1328 - mae: 65.3505 - msle: 2.3890 - val_loss: 94009.2266 - val_mse: 94009.2266 - val_mae: 79.2747 - val_msle: 2.2991\n",
            "Epoch 99/265\n",
            "1341/1341 [==============================] - 8s 6ms/step - loss: 41458.1719 - mse: 41458.1719 - mae: 65.2620 - msle: 2.3663 - val_loss: 93988.5547 - val_mse: 93988.5547 - val_mae: 79.1846 - val_msle: 2.2773\n",
            "Epoch 100/265\n",
            "1341/1341 [==============================] - 8s 6ms/step - loss: 41441.2578 - mse: 41441.2578 - mae: 65.1741 - msle: 2.3439 - val_loss: 93967.9297 - val_mse: 93967.9297 - val_mae: 79.0952 - val_msle: 2.2560\n",
            "Epoch 101/265\n",
            "1341/1341 [==============================] - 8s 6ms/step - loss: 41424.4375 - mse: 41424.4375 - mae: 65.0867 - msle: 2.3220 - val_loss: 93947.3906 - val_mse: 93947.3906 - val_mae: 79.0067 - val_msle: 2.2353\n",
            "Epoch 102/265\n",
            "1341/1341 [==============================] - 8s 6ms/step - loss: 41407.5898 - mse: 41407.5898 - mae: 65.0005 - msle: 2.3007 - val_loss: 93926.7969 - val_mse: 93926.7969 - val_mae: 78.9184 - val_msle: 2.2148\n",
            "Epoch 103/265\n",
            "1341/1341 [==============================] - 8s 6ms/step - loss: 41390.7852 - mse: 41390.7852 - mae: 64.9143 - msle: 2.2797 - val_loss: 93906.3203 - val_mse: 93906.3203 - val_mae: 78.8311 - val_msle: 2.1948\n",
            "Epoch 104/265\n",
            "1341/1341 [==============================] - 8s 6ms/step - loss: 41374.0547 - mse: 41374.0547 - mae: 64.8289 - msle: 2.2591 - val_loss: 93885.8516 - val_mse: 93885.8516 - val_mae: 78.7444 - val_msle: 2.1752\n",
            "Epoch 105/265\n",
            "1341/1341 [==============================] - 8s 6ms/step - loss: 41357.3516 - mse: 41357.3516 - mae: 64.7445 - msle: 2.2390 - val_loss: 93865.3984 - val_mse: 93865.3984 - val_mae: 78.6583 - val_msle: 2.1560\n",
            "Epoch 106/265\n",
            "1341/1341 [==============================] - 8s 6ms/step - loss: 41340.6367 - mse: 41340.6367 - mae: 64.6605 - msle: 2.2192 - val_loss: 93844.9688 - val_mse: 93844.9688 - val_mae: 78.5730 - val_msle: 2.1372\n",
            "Epoch 107/265\n",
            "1341/1341 [==============================] - 8s 6ms/step - loss: 41323.9961 - mse: 41323.9961 - mae: 64.5774 - msle: 2.1998 - val_loss: 93824.5938 - val_mse: 93824.5938 - val_mae: 78.4886 - val_msle: 2.1187\n",
            "Epoch 108/265\n",
            "1341/1341 [==============================] - 8s 6ms/step - loss: 41307.3867 - mse: 41307.3867 - mae: 64.4951 - msle: 2.1808 - val_loss: 93804.2891 - val_mse: 93804.2891 - val_mae: 78.4047 - val_msle: 2.1007\n",
            "Epoch 109/265\n",
            "1341/1341 [==============================] - 8s 6ms/step - loss: 41290.8242 - mse: 41290.8242 - mae: 64.4133 - msle: 2.1622 - val_loss: 93784.0469 - val_mse: 93784.0469 - val_mae: 78.3214 - val_msle: 2.0830\n",
            "Epoch 110/265\n",
            "1341/1341 [==============================] - 8s 6ms/step - loss: 41274.3125 - mse: 41274.3125 - mae: 64.3320 - msle: 2.1439 - val_loss: 93763.7969 - val_mse: 93763.7969 - val_mae: 78.2387 - val_msle: 2.0656\n",
            "Epoch 111/265\n",
            "1341/1341 [==============================] - 8s 6ms/step - loss: 41257.7969 - mse: 41257.7969 - mae: 64.2515 - msle: 2.1260 - val_loss: 93743.5391 - val_mse: 93743.5391 - val_mae: 78.1565 - val_msle: 2.0485\n",
            "Epoch 112/265\n",
            "1341/1341 [==============================] - 8s 6ms/step - loss: 41241.3047 - mse: 41241.3047 - mae: 64.1717 - msle: 2.1084 - val_loss: 93723.3438 - val_mse: 93723.3438 - val_mae: 78.0751 - val_msle: 2.0318\n",
            "Epoch 113/265\n",
            "1341/1341 [==============================] - 8s 6ms/step - loss: 41224.8242 - mse: 41224.8242 - mae: 64.0924 - msle: 2.0912 - val_loss: 93703.1875 - val_mse: 93703.1875 - val_mae: 77.9943 - val_msle: 2.0154\n",
            "Epoch 114/265\n",
            "1341/1341 [==============================] - 8s 6ms/step - loss: 41208.4922 - mse: 41208.4922 - mae: 64.0137 - msle: 2.0742 - val_loss: 93683.1016 - val_mse: 93683.1016 - val_mae: 77.9145 - val_msle: 1.9994\n",
            "Epoch 115/265\n",
            "1341/1341 [==============================] - 8s 6ms/step - loss: 41192.1328 - mse: 41192.1328 - mae: 63.9362 - msle: 2.0576 - val_loss: 93662.9844 - val_mse: 93662.9844 - val_mae: 77.8353 - val_msle: 1.9836\n",
            "Epoch 116/265\n",
            "1341/1341 [==============================] - 8s 6ms/step - loss: 41175.8125 - mse: 41175.8125 - mae: 63.8591 - msle: 2.0413 - val_loss: 93642.9453 - val_mse: 93642.9453 - val_mae: 77.7569 - val_msle: 1.9682\n",
            "Epoch 117/265\n",
            "1341/1341 [==============================] - 8s 6ms/step - loss: 41159.5117 - mse: 41159.5117 - mae: 63.7828 - msle: 2.0254 - val_loss: 93622.8906 - val_mse: 93622.8906 - val_mae: 77.6790 - val_msle: 1.9530\n",
            "Epoch 118/265\n",
            "1341/1341 [==============================] - 8s 6ms/step - loss: 41143.2539 - mse: 41143.2539 - mae: 63.7069 - msle: 2.0097 - val_loss: 93602.9453 - val_mse: 93602.9453 - val_mae: 77.6020 - val_msle: 1.9381\n",
            "Epoch 119/265\n",
            "1341/1341 [==============================] - 8s 6ms/step - loss: 41127.0000 - mse: 41127.0000 - mae: 63.6320 - msle: 1.9943 - val_loss: 93582.9688 - val_mse: 93582.9688 - val_mae: 77.5257 - val_msle: 1.9236\n",
            "Epoch 120/265\n",
            "1341/1341 [==============================] - 8s 6ms/step - loss: 41110.8711 - mse: 41110.8711 - mae: 63.5576 - msle: 1.9792 - val_loss: 93563.0938 - val_mse: 93563.0938 - val_mae: 77.4502 - val_msle: 1.9093\n",
            "Epoch 121/265\n",
            "1341/1341 [==============================] - 8s 6ms/step - loss: 41094.6719 - mse: 41094.6719 - mae: 63.4843 - msle: 1.9644 - val_loss: 93543.2422 - val_mse: 93543.2422 - val_mae: 77.3754 - val_msle: 1.8952\n",
            "Epoch 122/265\n",
            "1341/1341 [==============================] - 8s 6ms/step - loss: 41078.6367 - mse: 41078.6367 - mae: 63.4113 - msle: 1.9498 - val_loss: 93523.4375 - val_mse: 93523.4375 - val_mae: 77.3016 - val_msle: 1.8815\n",
            "Epoch 123/265\n",
            "1341/1341 [==============================] - 8s 6ms/step - loss: 41062.5312 - mse: 41062.5312 - mae: 63.3393 - msle: 1.9355 - val_loss: 93503.6406 - val_mse: 93503.6406 - val_mae: 77.2283 - val_msle: 1.8680\n",
            "Epoch 124/265\n",
            "1341/1341 [==============================] - 8s 6ms/step - loss: 41046.4922 - mse: 41046.4922 - mae: 63.2680 - msle: 1.9215 - val_loss: 93483.8672 - val_mse: 93483.8672 - val_mae: 77.1560 - val_msle: 1.8547\n",
            "Epoch 125/265\n",
            "1341/1341 [==============================] - 8s 6ms/step - loss: 41030.5273 - mse: 41030.5273 - mae: 63.1976 - msle: 1.9078 - val_loss: 93464.1953 - val_mse: 93464.1953 - val_mae: 77.0846 - val_msle: 1.8417\n",
            "Epoch 126/265\n",
            "1341/1341 [==============================] - 8s 6ms/step - loss: 41014.5000 - mse: 41014.5000 - mae: 63.1280 - msle: 1.8942 - val_loss: 93444.4609 - val_mse: 93444.4609 - val_mae: 77.0138 - val_msle: 1.8289\n",
            "Epoch 127/265\n",
            "1341/1341 [==============================] - 8s 6ms/step - loss: 40998.6367 - mse: 40998.6367 - mae: 63.0590 - msle: 1.8810 - val_loss: 93424.8359 - val_mse: 93424.8359 - val_mae: 76.9441 - val_msle: 1.8164\n",
            "Epoch 128/265\n",
            "1341/1341 [==============================] - 8s 6ms/step - loss: 40982.7266 - mse: 40982.7266 - mae: 62.9911 - msle: 1.8679 - val_loss: 93405.1797 - val_mse: 93405.1797 - val_mae: 76.8752 - val_msle: 1.8041\n",
            "Epoch 129/265\n",
            "1341/1341 [==============================] - 8s 6ms/step - loss: 40966.8320 - mse: 40966.8320 - mae: 62.9239 - msle: 1.8551 - val_loss: 93385.6172 - val_mse: 93385.6172 - val_mae: 76.8072 - val_msle: 1.7921\n",
            "Epoch 130/265\n",
            "1341/1341 [==============================] - 8s 6ms/step - loss: 40951.0391 - mse: 40951.0391 - mae: 62.8573 - msle: 1.8426 - val_loss: 93366.0938 - val_mse: 93366.0938 - val_mae: 76.7401 - val_msle: 1.7802\n",
            "Epoch 131/265\n",
            "1341/1341 [==============================] - 8s 6ms/step - loss: 40935.3164 - mse: 40935.3164 - mae: 62.7915 - msle: 1.8302 - val_loss: 93346.6016 - val_mse: 93346.6016 - val_mae: 76.6738 - val_msle: 1.7686\n",
            "Epoch 132/265\n",
            "1341/1341 [==============================] - 8s 6ms/step - loss: 40919.4766 - mse: 40919.4766 - mae: 62.7267 - msle: 1.8181 - val_loss: 93327.0938 - val_mse: 93327.0938 - val_mae: 76.6081 - val_msle: 1.7572\n",
            "Epoch 133/265\n",
            "1341/1341 [==============================] - 8s 6ms/step - loss: 40903.7891 - mse: 40903.7891 - mae: 62.6622 - msle: 1.8062 - val_loss: 93307.6953 - val_mse: 93307.6953 - val_mae: 76.5435 - val_msle: 1.7460\n",
            "Epoch 134/265\n",
            "1341/1341 [==============================] - 8s 6ms/step - loss: 40888.1250 - mse: 40888.1250 - mae: 62.5985 - msle: 1.7946 - val_loss: 93288.2812 - val_mse: 93288.2812 - val_mae: 76.4794 - val_msle: 1.7350\n",
            "Epoch 135/265\n",
            "1341/1341 [==============================] - 8s 6ms/step - loss: 40872.4727 - mse: 40872.4727 - mae: 62.5355 - msle: 1.7831 - val_loss: 93268.9297 - val_mse: 93268.9297 - val_mae: 76.4162 - val_msle: 1.7242\n",
            "Epoch 136/265\n",
            "1341/1341 [==============================] - 8s 6ms/step - loss: 40856.8906 - mse: 40856.8906 - mae: 62.4732 - msle: 1.7718 - val_loss: 93249.5938 - val_mse: 93249.5938 - val_mae: 76.3538 - val_msle: 1.7136\n",
            "Epoch 137/265\n",
            "1341/1341 [==============================] - 8s 6ms/step - loss: 40841.2969 - mse: 40841.2969 - mae: 62.4114 - msle: 1.7607 - val_loss: 93230.3516 - val_mse: 93230.3516 - val_mae: 76.2923 - val_msle: 1.7033\n",
            "Epoch 138/265\n",
            "1341/1341 [==============================] - 8s 6ms/step - loss: 40825.7969 - mse: 40825.7969 - mae: 62.3503 - msle: 1.7499 - val_loss: 93211.0547 - val_mse: 93211.0547 - val_mae: 76.2313 - val_msle: 1.6930\n",
            "Epoch 139/265\n",
            "1341/1341 [==============================] - 8s 6ms/step - loss: 40810.2852 - mse: 40810.2852 - mae: 62.2899 - msle: 1.7392 - val_loss: 93191.8594 - val_mse: 93191.8594 - val_mae: 76.1714 - val_msle: 1.6830\n",
            "Epoch 140/265\n",
            "1341/1341 [==============================] - 9s 6ms/step - loss: 40794.8633 - mse: 40794.8633 - mae: 62.2302 - msle: 1.7287 - val_loss: 93172.6797 - val_mse: 93172.6797 - val_mae: 76.1121 - val_msle: 1.6732\n",
            "Epoch 141/265\n",
            "1341/1341 [==============================] - 8s 6ms/step - loss: 40779.3906 - mse: 40779.3906 - mae: 62.1712 - msle: 1.7184 - val_loss: 93153.5156 - val_mse: 93153.5156 - val_mae: 76.0535 - val_msle: 1.6635\n",
            "Epoch 142/265\n",
            "1341/1341 [==============================] - 8s 6ms/step - loss: 40763.9258 - mse: 40763.9258 - mae: 62.1127 - msle: 1.7083 - val_loss: 93134.3672 - val_mse: 93134.3672 - val_mae: 75.9957 - val_msle: 1.6540\n",
            "Epoch 143/265\n",
            "1341/1341 [==============================] - 8s 6ms/step - loss: 40748.6406 - mse: 40748.6406 - mae: 62.0550 - msle: 1.6983 - val_loss: 93115.3281 - val_mse: 93115.3281 - val_mae: 75.9389 - val_msle: 1.6447\n",
            "Epoch 144/265\n",
            "1341/1341 [==============================] - 8s 6ms/step - loss: 40733.2695 - mse: 40733.2695 - mae: 61.9979 - msle: 1.6886 - val_loss: 93096.2812 - val_mse: 93096.2812 - val_mae: 75.8826 - val_msle: 1.6356\n",
            "Epoch 145/265\n",
            "1341/1341 [==============================] - 8s 6ms/step - loss: 40717.9883 - mse: 40717.9883 - mae: 61.9412 - msle: 1.6789 - val_loss: 93077.3281 - val_mse: 93077.3281 - val_mae: 75.8271 - val_msle: 1.6266\n",
            "Epoch 146/265\n",
            "1341/1341 [==============================] - 8s 6ms/step - loss: 40702.7617 - mse: 40702.7617 - mae: 61.8854 - msle: 1.6695 - val_loss: 93058.3359 - val_mse: 93058.3359 - val_mae: 75.7719 - val_msle: 1.6178\n",
            "Epoch 147/265\n",
            "1341/1341 [==============================] - 8s 6ms/step - loss: 40687.5312 - mse: 40687.5312 - mae: 61.8298 - msle: 1.6603 - val_loss: 93039.4141 - val_mse: 93039.4141 - val_mae: 75.7177 - val_msle: 1.6092\n",
            "Epoch 148/265\n",
            "1341/1341 [==============================] - 8s 6ms/step - loss: 40672.3633 - mse: 40672.3633 - mae: 61.7750 - msle: 1.6512 - val_loss: 93020.5078 - val_mse: 93020.5078 - val_mae: 75.6638 - val_msle: 1.6007\n",
            "Epoch 149/265\n",
            "1341/1341 [==============================] - 8s 6ms/step - loss: 40657.2383 - mse: 40657.2383 - mae: 61.7206 - msle: 1.6422 - val_loss: 93001.6484 - val_mse: 93001.6484 - val_mae: 75.6105 - val_msle: 1.5923\n",
            "Epoch 150/265\n",
            "1341/1341 [==============================] - 9s 6ms/step - loss: 40642.1328 - mse: 40642.1328 - mae: 61.6665 - msle: 1.6334 - val_loss: 92982.8359 - val_mse: 92982.8359 - val_mae: 75.5580 - val_msle: 1.5842\n",
            "Epoch 151/265\n",
            "1341/1341 [==============================] - 8s 6ms/step - loss: 40627.0781 - mse: 40627.0781 - mae: 61.6131 - msle: 1.6248 - val_loss: 92964.0938 - val_mse: 92964.0938 - val_mae: 75.5059 - val_msle: 1.5761\n",
            "Epoch 152/265\n",
            "1341/1341 [==============================] - 8s 6ms/step - loss: 40612.0547 - mse: 40612.0547 - mae: 61.5600 - msle: 1.6163 - val_loss: 92945.3516 - val_mse: 92945.3516 - val_mae: 75.4543 - val_msle: 1.5682\n",
            "Epoch 153/265\n",
            "1341/1341 [==============================] - 8s 6ms/step - loss: 40597.0547 - mse: 40597.0547 - mae: 61.5073 - msle: 1.6080 - val_loss: 92926.6016 - val_mse: 92926.6016 - val_mae: 75.4031 - val_msle: 1.5605\n",
            "Epoch 154/265\n",
            "1341/1341 [==============================] - 8s 6ms/step - loss: 40582.0977 - mse: 40582.0977 - mae: 61.4548 - msle: 1.5998 - val_loss: 92907.9375 - val_mse: 92907.9375 - val_mae: 75.3525 - val_msle: 1.5529\n",
            "Epoch 155/265\n",
            "1341/1341 [==============================] - 8s 6ms/step - loss: 40567.1641 - mse: 40567.1641 - mae: 61.4032 - msle: 1.5918 - val_loss: 92889.2969 - val_mse: 92889.2969 - val_mae: 75.3024 - val_msle: 1.5454\n",
            "Epoch 156/265\n",
            "1341/1341 [==============================] - 8s 6ms/step - loss: 40552.3086 - mse: 40552.3086 - mae: 61.3517 - msle: 1.5839 - val_loss: 92870.7344 - val_mse: 92870.7344 - val_mae: 75.2530 - val_msle: 1.5381\n",
            "Epoch 157/265\n",
            "1341/1341 [==============================] - 9s 6ms/step - loss: 40537.4375 - mse: 40537.4375 - mae: 61.3007 - msle: 1.5761 - val_loss: 92852.1562 - val_mse: 92852.1562 - val_mae: 75.2039 - val_msle: 1.5309\n",
            "Epoch 158/265\n",
            "1341/1341 [==============================] - 8s 6ms/step - loss: 40522.6211 - mse: 40522.6211 - mae: 61.2502 - msle: 1.5685 - val_loss: 92833.6328 - val_mse: 92833.6328 - val_mae: 75.1556 - val_msle: 1.5239\n",
            "Epoch 159/265\n",
            "1341/1341 [==============================] - 9s 6ms/step - loss: 40507.8164 - mse: 40507.8164 - mae: 61.2003 - msle: 1.5610 - val_loss: 92815.1172 - val_mse: 92815.1172 - val_mae: 75.1077 - val_msle: 1.5169\n",
            "Epoch 160/265\n",
            "1341/1341 [==============================] - 9s 6ms/step - loss: 40493.0742 - mse: 40493.0742 - mae: 61.1506 - msle: 1.5537 - val_loss: 92796.6875 - val_mse: 92796.6875 - val_mae: 75.0603 - val_msle: 1.5101\n",
            "Epoch 161/265\n",
            "1341/1341 [==============================] - 9s 6ms/step - loss: 40478.3867 - mse: 40478.3867 - mae: 61.1016 - msle: 1.5464 - val_loss: 92778.2969 - val_mse: 92778.2969 - val_mae: 75.0136 - val_msle: 1.5035\n",
            "Epoch 162/265\n",
            "1341/1341 [==============================] - 9s 6ms/step - loss: 40463.7188 - mse: 40463.7188 - mae: 61.0529 - msle: 1.5393 - val_loss: 92759.8750 - val_mse: 92759.8750 - val_mae: 74.9672 - val_msle: 1.4969\n",
            "Epoch 163/265\n",
            "1341/1341 [==============================] - 8s 6ms/step - loss: 40449.0898 - mse: 40449.0898 - mae: 61.0048 - msle: 1.5324 - val_loss: 92741.4844 - val_mse: 92741.4844 - val_mae: 74.9214 - val_msle: 1.4905\n",
            "Epoch 164/265\n",
            "1341/1341 [==============================] - 8s 6ms/step - loss: 40434.4375 - mse: 40434.4375 - mae: 60.9572 - msle: 1.5255 - val_loss: 92723.1797 - val_mse: 92723.1797 - val_mae: 74.8762 - val_msle: 1.4841\n",
            "Epoch 165/265\n",
            "1341/1341 [==============================] - 9s 6ms/step - loss: 40419.8711 - mse: 40419.8711 - mae: 60.9099 - msle: 1.5188 - val_loss: 92704.8750 - val_mse: 92704.8750 - val_mae: 74.8314 - val_msle: 1.4779\n",
            "Epoch 166/265\n",
            "1341/1341 [==============================] - 9s 7ms/step - loss: 40405.3906 - mse: 40405.3906 - mae: 60.8632 - msle: 1.5122 - val_loss: 92686.6953 - val_mse: 92686.6953 - val_mae: 74.7874 - val_msle: 1.4719\n",
            "Epoch 167/265\n",
            "1341/1341 [==============================] - 8s 6ms/step - loss: 40390.9102 - mse: 40390.9102 - mae: 60.8171 - msle: 1.5057 - val_loss: 92668.5000 - val_mse: 92668.5000 - val_mae: 74.7437 - val_msle: 1.4659\n",
            "Epoch 168/265\n",
            "1341/1341 [==============================] - 9s 7ms/step - loss: 40376.4648 - mse: 40376.4648 - mae: 60.7712 - msle: 1.4993 - val_loss: 92650.3203 - val_mse: 92650.3203 - val_mae: 74.7005 - val_msle: 1.4600\n",
            "Epoch 169/265\n",
            "1341/1341 [==============================] - 8s 6ms/step - loss: 40362.0352 - mse: 40362.0352 - mae: 60.7259 - msle: 1.4930 - val_loss: 92632.2031 - val_mse: 92632.2031 - val_mae: 74.6578 - val_msle: 1.4543\n",
            "Epoch 170/265\n",
            "1341/1341 [==============================] - 9s 6ms/step - loss: 40347.6641 - mse: 40347.6641 - mae: 60.6812 - msle: 1.4869 - val_loss: 92614.0781 - val_mse: 92614.0781 - val_mae: 74.6156 - val_msle: 1.4487\n",
            "Epoch 171/265\n",
            "1341/1341 [==============================] - 9s 6ms/step - loss: 40333.3125 - mse: 40333.3125 - mae: 60.6368 - msle: 1.4808 - val_loss: 92596.0625 - val_mse: 92596.0625 - val_mae: 74.5739 - val_msle: 1.4431\n",
            "Epoch 172/265\n",
            "1341/1341 [==============================] - 9s 6ms/step - loss: 229219.4531 - mse: 229219.4531 - mae: 61.1174 - msle: 1.4749 - val_loss: 92577.9609 - val_mse: 92577.9609 - val_mae: 74.5324 - val_msle: 1.4377\n",
            "Epoch 173/265\n",
            "1341/1341 [==============================] - 8s 6ms/step - loss: 40305.0234 - mse: 40305.0234 - mae: 60.5502 - msle: 1.4692 - val_loss: 92560.7812 - val_mse: 92560.7812 - val_mae: 74.4934 - val_msle: 1.4326\n",
            "Epoch 174/265\n",
            "1341/1341 [==============================] - 9s 6ms/step - loss: 40291.1562 - mse: 40291.1562 - mae: 60.5081 - msle: 1.4636 - val_loss: 92543.0469 - val_mse: 92543.0469 - val_mae: 74.4535 - val_msle: 1.4274\n",
            "Epoch 175/265\n",
            "1341/1341 [==============================] - 9s 6ms/step - loss: 40277.0039 - mse: 40277.0039 - mae: 60.4656 - msle: 1.4580 - val_loss: 92525.2109 - val_mse: 92525.2109 - val_mae: 74.4136 - val_msle: 1.4223\n",
            "Epoch 176/265\n",
            "1341/1341 [==============================] - 8s 6ms/step - loss: 40262.9336 - mse: 40262.9336 - mae: 60.4233 - msle: 1.4525 - val_loss: 92507.3359 - val_mse: 92507.3359 - val_mae: 74.3741 - val_msle: 1.4173\n",
            "Epoch 177/265\n",
            "1341/1341 [==============================] - 9s 6ms/step - loss: 40248.7734 - mse: 40248.7734 - mae: 60.3812 - msle: 1.4471 - val_loss: 92489.4609 - val_mse: 92489.4609 - val_mae: 74.3349 - val_msle: 1.4123\n",
            "Epoch 178/265\n",
            "1341/1341 [==============================] - 9s 7ms/step - loss: 40234.6523 - mse: 40234.6523 - mae: 60.3397 - msle: 1.4417 - val_loss: 92471.6328 - val_mse: 92471.6328 - val_mae: 74.2962 - val_msle: 1.4075\n",
            "Epoch 179/265\n",
            "1341/1341 [==============================] - 9s 7ms/step - loss: 40220.5586 - mse: 40220.5586 - mae: 60.2984 - msle: 1.4365 - val_loss: 92453.8516 - val_mse: 92453.8516 - val_mae: 74.2579 - val_msle: 1.4027\n",
            "Epoch 180/265\n",
            "1341/1341 [==============================] - 11s 9ms/step - loss: 40206.5273 - mse: 40206.5273 - mae: 60.2575 - msle: 1.4314 - val_loss: 92436.0938 - val_mse: 92436.0938 - val_mae: 74.2199 - val_msle: 1.3981\n",
            "Epoch 181/265\n",
            "1341/1341 [==============================] - 8s 6ms/step - loss: 40192.5664 - mse: 40192.5664 - mae: 60.2168 - msle: 1.4263 - val_loss: 92418.4062 - val_mse: 92418.4062 - val_mae: 74.1824 - val_msle: 1.3935\n",
            "Epoch 182/265\n",
            "1341/1341 [==============================] - 8s 6ms/step - loss: 40178.6055 - mse: 40178.6055 - mae: 60.1766 - msle: 1.4214 - val_loss: 92400.7734 - val_mse: 92400.7734 - val_mae: 74.1453 - val_msle: 1.3890\n",
            "Epoch 183/265\n",
            "1341/1341 [==============================] - 9s 6ms/step - loss: 40164.7031 - mse: 40164.7031 - mae: 60.1368 - msle: 1.4165 - val_loss: 92383.2031 - val_mse: 92383.2031 - val_mae: 74.1086 - val_msle: 1.3846\n",
            "Epoch 184/265\n",
            "1341/1341 [==============================] - 9s 6ms/step - loss: 40150.8242 - mse: 40150.8242 - mae: 60.0974 - msle: 1.4117 - val_loss: 92365.5469 - val_mse: 92365.5469 - val_mae: 74.0723 - val_msle: 1.3803\n",
            "Epoch 185/265\n",
            "1341/1341 [==============================] - 9s 7ms/step - loss: 40136.9922 - mse: 40136.9922 - mae: 60.0582 - msle: 1.4071 - val_loss: 92348.0078 - val_mse: 92348.0078 - val_mae: 74.0364 - val_msle: 1.3761\n",
            "Epoch 186/265\n",
            "1341/1341 [==============================] - 9s 7ms/step - loss: 40123.1133 - mse: 40123.1133 - mae: 60.0196 - msle: 1.4025 - val_loss: 92330.5234 - val_mse: 92330.5234 - val_mae: 74.0010 - val_msle: 1.3720\n",
            "Epoch 187/265\n",
            "1341/1341 [==============================] - 9s 7ms/step - loss: 40109.3398 - mse: 40109.3398 - mae: 59.9811 - msle: 1.3979 - val_loss: 92313.0156 - val_mse: 92313.0156 - val_mae: 73.9659 - val_msle: 1.3679\n",
            "Epoch 188/265\n",
            "1341/1341 [==============================] - 9s 6ms/step - loss: 40095.5898 - mse: 40095.5898 - mae: 59.9431 - msle: 1.3935 - val_loss: 92295.5391 - val_mse: 92295.5391 - val_mae: 73.9311 - val_msle: 1.3639\n",
            "Epoch 189/265\n",
            "1341/1341 [==============================] - 9s 6ms/step - loss: 40081.9062 - mse: 40081.9062 - mae: 59.9053 - msle: 1.3892 - val_loss: 92278.1094 - val_mse: 92278.1094 - val_mae: 73.8969 - val_msle: 1.3601\n",
            "Epoch 190/265\n",
            "1341/1341 [==============================] - 10s 7ms/step - loss: 40068.2383 - mse: 40068.2383 - mae: 59.8680 - msle: 1.3849 - val_loss: 92260.7500 - val_mse: 92260.7500 - val_mae: 73.8630 - val_msle: 1.3562\n",
            "Epoch 191/265\n",
            "1341/1341 [==============================] - 9s 7ms/step - loss: 40054.6055 - mse: 40054.6055 - mae: 59.8311 - msle: 1.3807 - val_loss: 92243.3984 - val_mse: 92243.3984 - val_mae: 73.8296 - val_msle: 1.3525\n",
            "Epoch 192/265\n",
            "1341/1341 [==============================] - 9s 6ms/step - loss: 40040.9766 - mse: 40040.9766 - mae: 59.7945 - msle: 1.3766 - val_loss: 92226.1172 - val_mse: 92226.1172 - val_mae: 73.7966 - val_msle: 1.3488\n",
            "Epoch 193/265\n",
            "1341/1341 [==============================] - 9s 6ms/step - loss: 40027.3906 - mse: 40027.3906 - mae: 59.7585 - msle: 1.3726 - val_loss: 92208.8125 - val_mse: 92208.8125 - val_mae: 73.7642 - val_msle: 1.3453\n",
            "Epoch 194/265\n",
            "1341/1341 [==============================] - 9s 7ms/step - loss: 40013.8789 - mse: 40013.8789 - mae: 59.7229 - msle: 1.3686 - val_loss: 92191.5625 - val_mse: 92191.5625 - val_mae: 73.7322 - val_msle: 1.3418\n",
            "Epoch 195/265\n",
            "1341/1341 [==============================] - 9s 7ms/step - loss: 40000.3711 - mse: 40000.3711 - mae: 59.6878 - msle: 1.3648 - val_loss: 92174.3438 - val_mse: 92174.3438 - val_mae: 73.7006 - val_msle: 1.3383\n",
            "Epoch 196/265\n",
            "1341/1341 [==============================] - 9s 6ms/step - loss: 39986.9492 - mse: 39986.9492 - mae: 59.6530 - msle: 1.3610 - val_loss: 92157.1875 - val_mse: 92157.1875 - val_mae: 73.6696 - val_msle: 1.3350\n",
            "Epoch 197/265\n",
            "1341/1341 [==============================] - 9s 6ms/step - loss: 39973.5117 - mse: 39973.5117 - mae: 59.6187 - msle: 1.3572 - val_loss: 92140.1016 - val_mse: 92140.1016 - val_mae: 73.6391 - val_msle: 1.3317\n",
            "Epoch 198/265\n",
            "1341/1341 [==============================] - 9s 6ms/step - loss: 39960.1016 - mse: 39960.1016 - mae: 59.5850 - msle: 1.3536 - val_loss: 92122.9922 - val_mse: 92122.9922 - val_mae: 73.6090 - val_msle: 1.3284\n",
            "Epoch 199/265\n",
            "1341/1341 [==============================] - 9s 6ms/step - loss: 39946.7656 - mse: 39946.7656 - mae: 59.5516 - msle: 1.3500 - val_loss: 92105.9453 - val_mse: 92105.9453 - val_mae: 73.5795 - val_msle: 1.3253\n",
            "Epoch 200/265\n",
            "1341/1341 [==============================] - 9s 6ms/step - loss: 39933.4609 - mse: 39933.4609 - mae: 59.5187 - msle: 1.3465 - val_loss: 92088.8828 - val_mse: 92088.8828 - val_mae: 73.5504 - val_msle: 1.3222\n",
            "Epoch 201/265\n",
            "1341/1341 [==============================] - 9s 7ms/step - loss: 39920.1367 - mse: 39920.1367 - mae: 59.4862 - msle: 1.3431 - val_loss: 92071.8984 - val_mse: 92071.8984 - val_mae: 73.5218 - val_msle: 1.3192\n",
            "Epoch 202/265\n",
            "1341/1341 [==============================] - 9s 6ms/step - loss: 39906.9375 - mse: 39906.9375 - mae: 59.4543 - msle: 1.3397 - val_loss: 92054.9922 - val_mse: 92054.9922 - val_mae: 73.4937 - val_msle: 1.3162\n",
            "Epoch 203/265\n",
            "1341/1341 [==============================] - 9s 6ms/step - loss: 39893.7148 - mse: 39893.7148 - mae: 59.4228 - msle: 1.3364 - val_loss: 92038.0938 - val_mse: 92038.0938 - val_mae: 73.4662 - val_msle: 1.3134\n",
            "Epoch 204/265\n",
            "1341/1341 [==============================] - 9s 6ms/step - loss: 39880.5508 - mse: 39880.5508 - mae: 59.3919 - msle: 1.3332 - val_loss: 92021.1875 - val_mse: 92021.1875 - val_mae: 73.4390 - val_msle: 1.3105\n",
            "Epoch 205/265\n",
            "1341/1341 [==============================] - 9s 7ms/step - loss: 39867.3984 - mse: 39867.3984 - mae: 59.3614 - msle: 1.3300 - val_loss: 92004.3203 - val_mse: 92004.3203 - val_mae: 73.4124 - val_msle: 1.3078\n",
            "Epoch 206/265\n",
            "1341/1341 [==============================] - 9s 6ms/step - loss: 39854.2852 - mse: 39854.2852 - mae: 59.3314 - msle: 1.3269 - val_loss: 91987.5781 - val_mse: 91987.5781 - val_mae: 73.3863 - val_msle: 1.3051\n",
            "Epoch 207/265\n",
            "1341/1341 [==============================] - 9s 6ms/step - loss: 39841.2266 - mse: 39841.2266 - mae: 59.3019 - msle: 1.3239 - val_loss: 91970.7812 - val_mse: 91970.7812 - val_mae: 73.3607 - val_msle: 1.3025\n",
            "Epoch 208/265\n",
            "1341/1341 [==============================] - 9s 6ms/step - loss: 39828.2227 - mse: 39828.2227 - mae: 59.2727 - msle: 1.3209 - val_loss: 91954.0703 - val_mse: 91954.0703 - val_mae: 73.3356 - val_msle: 1.2999\n",
            "Epoch 209/265\n",
            "1341/1341 [==============================] - 9s 7ms/step - loss: 39815.2109 - mse: 39815.2109 - mae: 59.2441 - msle: 1.3180 - val_loss: 91937.3516 - val_mse: 91937.3516 - val_mae: 73.3109 - val_msle: 1.2974\n",
            "Epoch 210/265\n",
            "1341/1341 [==============================] - 9s 7ms/step - loss: 39802.2539 - mse: 39802.2539 - mae: 59.2160 - msle: 1.3151 - val_loss: 91920.7422 - val_mse: 91920.7422 - val_mae: 73.2868 - val_msle: 1.2949\n",
            "Epoch 211/265\n",
            "1341/1341 [==============================] - 9s 7ms/step - loss: 39789.3281 - mse: 39789.3281 - mae: 59.1884 - msle: 1.3123 - val_loss: 91904.0938 - val_mse: 91904.0938 - val_mae: 73.2631 - val_msle: 1.2925\n",
            "Epoch 212/265\n",
            "1341/1341 [==============================] - 9s 7ms/step - loss: 39776.4922 - mse: 39776.4922 - mae: 59.1612 - msle: 1.3096 - val_loss: 91887.5547 - val_mse: 91887.5547 - val_mae: 73.2400 - val_msle: 1.2902\n",
            "Epoch 213/265\n",
            "1341/1341 [==============================] - 9s 7ms/step - loss: 39763.6406 - mse: 39763.6406 - mae: 59.1347 - msle: 1.3069 - val_loss: 91871.0000 - val_mse: 91871.0000 - val_mae: 73.2174 - val_msle: 1.2879\n",
            "Epoch 214/265\n",
            "1341/1341 [==============================] - 9s 7ms/step - loss: 39750.8633 - mse: 39750.8633 - mae: 59.1085 - msle: 1.3043 - val_loss: 91854.4766 - val_mse: 91854.4766 - val_mae: 73.1952 - val_msle: 1.2857\n",
            "Epoch 215/265\n",
            "1341/1341 [==============================] - 9s 7ms/step - loss: 39738.0898 - mse: 39738.0898 - mae: 59.0830 - msle: 1.3018 - val_loss: 91838.0234 - val_mse: 91838.0234 - val_mae: 73.1735 - val_msle: 1.2835\n",
            "Epoch 216/265\n",
            "1341/1341 [==============================] - 9s 7ms/step - loss: 39725.3047 - mse: 39725.3047 - mae: 59.0578 - msle: 1.2993 - val_loss: 91821.5859 - val_mse: 91821.5859 - val_mae: 73.1524 - val_msle: 1.2814\n",
            "Epoch 217/265\n",
            "1341/1341 [==============================] - 9s 6ms/step - loss: 39712.6523 - mse: 39712.6523 - mae: 59.0333 - msle: 1.2968 - val_loss: 91805.2109 - val_mse: 91805.2109 - val_mae: 73.1317 - val_msle: 1.2794\n",
            "Epoch 218/265\n",
            "1341/1341 [==============================] - 9s 7ms/step - loss: 39699.9648 - mse: 39699.9648 - mae: 59.0092 - msle: 1.2945 - val_loss: 91788.8594 - val_mse: 91788.8594 - val_mae: 73.1114 - val_msle: 1.2774\n",
            "Epoch 219/265\n",
            "1341/1341 [==============================] - 9s 6ms/step - loss: 39687.3477 - mse: 39687.3477 - mae: 58.9854 - msle: 1.2921 - val_loss: 91772.5391 - val_mse: 91772.5391 - val_mae: 73.0916 - val_msle: 1.2754\n",
            "Epoch 220/265\n",
            "1341/1341 [==============================] - 9s 7ms/step - loss: 39674.7852 - mse: 39674.7852 - mae: 58.9622 - msle: 1.2899 - val_loss: 91756.2656 - val_mse: 91756.2656 - val_mae: 73.0722 - val_msle: 1.2735\n",
            "Epoch 221/265\n",
            "1341/1341 [==============================] - 9s 7ms/step - loss: 39662.2266 - mse: 39662.2266 - mae: 58.9394 - msle: 1.2876 - val_loss: 91740.0078 - val_mse: 91740.0078 - val_mae: 73.0533 - val_msle: 1.2717\n",
            "Epoch 222/265\n",
            "1341/1341 [==============================] - 9s 7ms/step - loss: 39649.6719 - mse: 39649.6719 - mae: 58.9172 - msle: 1.2855 - val_loss: 91723.7578 - val_mse: 91723.7578 - val_mae: 73.0348 - val_msle: 1.2699\n",
            "Epoch 223/265\n",
            "1341/1341 [==============================] - 9s 7ms/step - loss: 39637.1680 - mse: 39637.1680 - mae: 58.8955 - msle: 1.2833 - val_loss: 91707.5781 - val_mse: 91707.5781 - val_mae: 73.0168 - val_msle: 1.2681\n",
            "Epoch 224/265\n",
            "1341/1341 [==============================] - 9s 6ms/step - loss: 39624.7578 - mse: 39624.7578 - mae: 58.8743 - msle: 1.2813 - val_loss: 91691.4219 - val_mse: 91691.4219 - val_mae: 72.9993 - val_msle: 1.2664\n",
            "Epoch 225/265\n",
            "1341/1341 [==============================] - 9s 6ms/step - loss: 39612.2812 - mse: 39612.2812 - mae: 58.8535 - msle: 1.2792 - val_loss: 91675.3047 - val_mse: 91675.3047 - val_mae: 72.9823 - val_msle: 1.2648\n",
            "Epoch 226/265\n",
            "1341/1341 [==============================] - 9s 7ms/step - loss: 39599.9102 - mse: 39599.9102 - mae: 58.8332 - msle: 1.2773 - val_loss: 91659.2422 - val_mse: 91659.2422 - val_mae: 72.9658 - val_msle: 1.2632\n",
            "Epoch 227/265\n",
            "1341/1341 [==============================] - 9s 7ms/step - loss: 39587.6094 - mse: 39587.6094 - mae: 58.8135 - msle: 1.2754 - val_loss: 91643.2266 - val_mse: 91643.2266 - val_mae: 72.9499 - val_msle: 1.2616\n",
            "Epoch 228/265\n",
            "1341/1341 [==============================] - 9s 7ms/step - loss: 39575.3320 - mse: 39575.3320 - mae: 58.7944 - msle: 1.2735 - val_loss: 91627.2109 - val_mse: 91627.2109 - val_mae: 72.9343 - val_msle: 1.2601\n",
            "Epoch 229/265\n",
            "1341/1341 [==============================] - 9s 7ms/step - loss: 39562.9844 - mse: 39562.9844 - mae: 58.7755 - msle: 1.2717 - val_loss: 91611.2109 - val_mse: 91611.2109 - val_mae: 72.9193 - val_msle: 1.2587\n",
            "Epoch 230/265\n",
            "1341/1341 [==============================] - 9s 7ms/step - loss: 39550.7656 - mse: 39550.7656 - mae: 58.7572 - msle: 1.2699 - val_loss: 91595.3125 - val_mse: 91595.3125 - val_mae: 72.9048 - val_msle: 1.2572\n",
            "Epoch 231/265\n",
            "1341/1341 [==============================] - 9s 7ms/step - loss: 39538.5859 - mse: 39538.5859 - mae: 58.7396 - msle: 1.2682 - val_loss: 91579.4531 - val_mse: 91579.4531 - val_mae: 72.8908 - val_msle: 1.2559\n",
            "Epoch 232/265\n",
            "1341/1341 [==============================] - 9s 6ms/step - loss: 39526.4336 - mse: 39526.4336 - mae: 58.7223 - msle: 1.2665 - val_loss: 91563.5938 - val_mse: 91563.5938 - val_mae: 72.8773 - val_msle: 1.2545\n",
            "Epoch 233/265\n",
            "1341/1341 [==============================] - 9s 7ms/step - loss: 39514.2852 - mse: 39514.2852 - mae: 58.7055 - msle: 1.2648 - val_loss: 91547.7734 - val_mse: 91547.7734 - val_mae: 72.8643 - val_msle: 1.2533\n",
            "Epoch 234/265\n",
            "1341/1341 [==============================] - 9s 7ms/step - loss: 39502.2188 - mse: 39502.2188 - mae: 58.6893 - msle: 1.2632 - val_loss: 91531.9453 - val_mse: 91531.9453 - val_mae: 72.8517 - val_msle: 1.2520\n",
            "Epoch 235/265\n",
            "1341/1341 [==============================] - 9s 6ms/step - loss: 39490.1289 - mse: 39490.1289 - mae: 58.6733 - msle: 1.2617 - val_loss: 91516.2266 - val_mse: 91516.2266 - val_mae: 72.8396 - val_msle: 1.2508\n",
            "Epoch 236/265\n",
            "1341/1341 [==============================] - 9s 7ms/step - loss: 39478.1328 - mse: 39478.1328 - mae: 58.6581 - msle: 1.2602 - val_loss: 91500.5469 - val_mse: 91500.5469 - val_mae: 72.8280 - val_msle: 1.2497\n",
            "Epoch 237/265\n",
            "1341/1341 [==============================] - 9s 6ms/step - loss: 39466.1758 - mse: 39466.1758 - mae: 58.6429 - msle: 1.2587 - val_loss: 91484.8438 - val_mse: 91484.8438 - val_mae: 72.8167 - val_msle: 1.2486\n",
            "Epoch 238/265\n",
            "1341/1341 [==============================] - 9s 6ms/step - loss: 39454.2266 - mse: 39454.2266 - mae: 58.6283 - msle: 1.2573 - val_loss: 91469.2188 - val_mse: 91469.2188 - val_mae: 72.8059 - val_msle: 1.2475\n",
            "Epoch 239/265\n",
            "1341/1341 [==============================] - 9s 7ms/step - loss: 39442.2930 - mse: 39442.2930 - mae: 58.6139 - msle: 1.2559 - val_loss: 91453.6484 - val_mse: 91453.6484 - val_mae: 72.7956 - val_msle: 1.2464\n",
            "Epoch 240/265\n",
            "1341/1341 [==============================] - 9s 7ms/step - loss: 39430.4453 - mse: 39430.4453 - mae: 58.6000 - msle: 1.2546 - val_loss: 91438.0156 - val_mse: 91438.0156 - val_mae: 72.7856 - val_msle: 1.2455\n",
            "Epoch 241/265\n",
            "1341/1341 [==============================] - 9s 7ms/step - loss: 39418.6094 - mse: 39418.6094 - mae: 58.5865 - msle: 1.2533 - val_loss: 91422.5312 - val_mse: 91422.5312 - val_mae: 72.7761 - val_msle: 1.2445\n",
            "Epoch 242/265\n",
            "1341/1341 [==============================] - 9s 6ms/step - loss: 39406.7266 - mse: 39406.7266 - mae: 58.5734 - msle: 1.2521 - val_loss: 91406.9609 - val_mse: 91406.9609 - val_mae: 72.7669 - val_msle: 1.2436\n",
            "Epoch 243/265\n",
            "1341/1341 [==============================] - 9s 7ms/step - loss: 39394.9648 - mse: 39394.9648 - mae: 58.5606 - msle: 1.2508 - val_loss: 91391.5078 - val_mse: 91391.5078 - val_mae: 72.7583 - val_msle: 1.2427\n",
            "Epoch 244/265\n",
            "1341/1341 [==============================] - 9s 7ms/step - loss: 39383.1992 - mse: 39383.1992 - mae: 58.5484 - msle: 1.2497 - val_loss: 91376.0938 - val_mse: 91376.0938 - val_mae: 72.7501 - val_msle: 1.2419\n",
            "Epoch 245/265\n",
            "1341/1341 [==============================] - 9s 6ms/step - loss: 39371.5195 - mse: 39371.5195 - mae: 58.5366 - msle: 1.2485 - val_loss: 91360.7031 - val_mse: 91360.7031 - val_mae: 72.7423 - val_msle: 1.2411\n",
            "Epoch 246/265\n",
            "1341/1341 [==============================] - 9s 7ms/step - loss: 39359.8906 - mse: 39359.8906 - mae: 58.5253 - msle: 1.2474 - val_loss: 91345.3906 - val_mse: 91345.3906 - val_mae: 72.7349 - val_msle: 1.2403\n",
            "Epoch 247/265\n",
            "1341/1341 [==============================] - 9s 7ms/step - loss: 39348.3125 - mse: 39348.3125 - mae: 58.5143 - msle: 1.2464 - val_loss: 91330.1016 - val_mse: 91330.1016 - val_mae: 72.7280 - val_msle: 1.2396\n",
            "Epoch 248/265\n",
            "1341/1341 [==============================] - 9s 7ms/step - loss: 39336.7148 - mse: 39336.7148 - mae: 58.5038 - msle: 1.2454 - val_loss: 91314.8359 - val_mse: 91314.8359 - val_mae: 72.7214 - val_msle: 1.2389\n",
            "Epoch 249/265\n",
            "1341/1341 [==============================] - 9s 7ms/step - loss: 39325.1250 - mse: 39325.1250 - mae: 58.4936 - msle: 1.2444 - val_loss: 91299.5938 - val_mse: 91299.5938 - val_mae: 72.7153 - val_msle: 1.2383\n",
            "Epoch 250/265\n",
            "1341/1341 [==============================] - 9s 7ms/step - loss: 39313.6016 - mse: 39313.6016 - mae: 58.4841 - msle: 1.2435 - val_loss: 91284.3516 - val_mse: 91284.3516 - val_mae: 72.7096 - val_msle: 1.2376\n",
            "Epoch 251/265\n",
            "1341/1341 [==============================] - 9s 6ms/step - loss: 39302.1016 - mse: 39302.1016 - mae: 58.4748 - msle: 1.2426 - val_loss: 91269.2109 - val_mse: 91269.2109 - val_mae: 72.7043 - val_msle: 1.2371\n",
            "Epoch 252/265\n",
            "1341/1341 [==============================] - 9s 7ms/step - loss: 39290.6758 - mse: 39290.6758 - mae: 58.4661 - msle: 1.2417 - val_loss: 91254.0781 - val_mse: 91254.0781 - val_mae: 72.6994 - val_msle: 1.2365\n",
            "Epoch 253/265\n",
            "1341/1341 [==============================] - 9s 7ms/step - loss: 39279.2578 - mse: 39279.2578 - mae: 58.4578 - msle: 1.2408 - val_loss: 91239.0000 - val_mse: 91239.0000 - val_mae: 72.6949 - val_msle: 1.2360\n",
            "Epoch 254/265\n",
            "1341/1341 [==============================] - 9s 6ms/step - loss: 39267.8438 - mse: 39267.8438 - mae: 58.4499 - msle: 1.2400 - val_loss: 91223.8672 - val_mse: 91223.8672 - val_mae: 72.6909 - val_msle: 1.2355\n",
            "Epoch 255/265\n",
            "1341/1341 [==============================] - 9s 7ms/step - loss: 39256.5078 - mse: 39256.5078 - mae: 58.4426 - msle: 1.2393 - val_loss: 91208.8281 - val_mse: 91208.8281 - val_mae: 72.6873 - val_msle: 1.2351\n",
            "Epoch 256/265\n",
            "1341/1341 [==============================] - 9s 7ms/step - loss: 39245.2031 - mse: 39245.2031 - mae: 58.4358 - msle: 1.2385 - val_loss: 91193.8438 - val_mse: 91193.8438 - val_mae: 72.6842 - val_msle: 1.2347\n",
            "Epoch 257/265\n",
            "1341/1341 [==============================] - 9s 7ms/step - loss: 39233.9375 - mse: 39233.9375 - mae: 58.4294 - msle: 1.2378 - val_loss: 91178.9219 - val_mse: 91178.9219 - val_mae: 72.6816 - val_msle: 1.2343\n",
            "Epoch 258/265\n",
            "1341/1341 [==============================] - 9s 7ms/step - loss: 39222.6953 - mse: 39222.6953 - mae: 58.4234 - msle: 1.2372 - val_loss: 91164.0000 - val_mse: 91164.0000 - val_mae: 72.6792 - val_msle: 1.2339\n",
            "Epoch 259/265\n",
            "1341/1341 [==============================] - 9s 6ms/step - loss: 39211.4766 - mse: 39211.4766 - mae: 58.4179 - msle: 1.2366 - val_loss: 91149.1328 - val_mse: 91149.1328 - val_mae: 72.6773 - val_msle: 1.2336\n",
            "Epoch 260/265\n",
            "1341/1341 [==============================] - 9s 7ms/step - loss: 39200.3867 - mse: 39200.3867 - mae: 58.4127 - msle: 1.2360 - val_loss: 91134.3281 - val_mse: 91134.3281 - val_mae: 72.6758 - val_msle: 1.2333\n",
            "Epoch 261/265\n",
            "1341/1341 [==============================] - 9s 7ms/step - loss: 39189.2461 - mse: 39189.2461 - mae: 58.4081 - msle: 1.2354 - val_loss: 91119.5078 - val_mse: 91119.5078 - val_mae: 72.6747 - val_msle: 1.2331\n",
            "Epoch 262/265\n",
            "1341/1341 [==============================] - 9s 7ms/step - loss: 39178.1680 - mse: 39178.1680 - mae: 58.4037 - msle: 1.2349 - val_loss: 91104.7422 - val_mse: 91104.7422 - val_mae: 72.6740 - val_msle: 1.2328\n",
            "Epoch 263/265\n",
            "1341/1341 [==============================] - 9s 6ms/step - loss: 39167.1133 - mse: 39167.1133 - mae: 58.3998 - msle: 1.2344 - val_loss: 91090.0547 - val_mse: 91090.0547 - val_mae: 72.6736 - val_msle: 1.2327\n",
            "Epoch 264/265\n",
            "1341/1341 [==============================] - 9s 7ms/step - loss: 39156.0703 - mse: 39156.0703 - mae: 58.3961 - msle: 1.2339 - val_loss: 91075.3203 - val_mse: 91075.3203 - val_mae: 72.6736 - val_msle: 1.2325\n",
            "Epoch 265/265\n",
            "1341/1341 [==============================] - 9s 7ms/step - loss: 39145.1523 - mse: 39145.1523 - mae: 58.3932 - msle: 1.2335 - val_loss: 91060.6094 - val_mse: 91060.6094 - val_mae: 72.6741 - val_msle: 1.2324\n"
          ]
        }
      ]
    },
    {
      "cell_type": "code",
      "source": [
        "pyplot.plot(history.history['mse'])\n",
        "pyplot.show()"
      ],
      "metadata": {
        "colab": {
          "base_uri": "https://localhost:8080/",
          "height": 276
        },
        "id": "1Vgx16qbphYx",
        "outputId": "b28c5fe3-0aa9-4fe2-dc99-fc509aa9e437"
      },
      "execution_count": 19,
      "outputs": [
        {
          "output_type": "display_data",
          "data": {
            "image/png": "[encoded data removed]",
            "text/plain": [
              "<Figure size 432x288 with 1 Axes>"
            ]
          },
          "metadata": {
            "needs_background": "light"
          }
        }
      ]
    },
    {
      "cell_type": "code",
      "source": [
        "pyplot.plot(history.history['mae'])\n",
        "pyplot.show()"
      ],
      "metadata": {
        "colab": {
          "base_uri": "https://localhost:8080/",
          "height": 265
        },
        "id": "1GKQsX0ppRIB",
        "outputId": "bbebc87b-f921-495c-f925-76ef7816a64f"
      },
      "execution_count": 20,
      "outputs": [
        {
          "output_type": "display_data",
          "data": {
            "image/png": "[encoded data removed]",
            "text/plain": [
              "<Figure size 432x288 with 1 Axes>"
            ]
          },
          "metadata": {
            "needs_background": "light"
          }
        }
      ]
    },
    {
      "cell_type": "code",
      "source": [
        "pyplot.plot(history.history['msle'])\n",
        "pyplot.show()"
      ],
      "metadata": {
        "colab": {
          "base_uri": "https://localhost:8080/",
          "height": 265
        },
        "id": "CIxrxpZzpRGo",
        "outputId": "99143407-0958-45f1-ec29-f95e34a0701e"
      },
      "execution_count": 21,
      "outputs": [
        {
          "output_type": "display_data",
          "data": {
            "image/png": "[encoded data removed]",
            "text/plain": [
              "<Figure size 432x288 with 1 Axes>"
            ]
          },
          "metadata": {
            "needs_background": "light"
          }
        }
      ]
    },
    {
      "cell_type": "code",
      "source": [
        "with open(\"/content/drive/MyDrive/dataset-predict.json\") as json_file:\n",
        "    dataset_test = json.loads(json_file.read())"
      ],
      "metadata": {
        "id": "W0TxvHvgUi4k"
      },
      "execution_count": 22,
      "outputs": []
    },
    {
      "cell_type": "code",
      "source": [
        "test_arrayList = load_from_dictionary(dataset_test)"
      ],
      "metadata": {
        "colab": {
          "base_uri": "https://localhost:8080/"
        },
        "id": "mxt3QrA4W3oV",
        "outputId": "88c8d64d-9cca-4ae9-8025-4075479bb54e"
      },
      "execution_count": 23,
      "outputs": [
        {
          "output_type": "stream",
          "name": "stdout",
          "text": [
            "**************  IBM\n",
            "(5, 8)\n"
          ]
        }
      ]
    },
    {
      "cell_type": "code",
      "source": [
        "test_input, test_output = to_np_arr_for_N_days(test_arrayList)"
      ],
      "metadata": {
        "colab": {
          "base_uri": "https://localhost:8080/"
        },
        "id": "IyPBRPk8XCKC",
        "outputId": "a756d0f0-a9e7-429e-a897-816baa8b7044"
      },
      "execution_count": 24,
      "outputs": [
        {
          "output_type": "stream",
          "name": "stdout",
          "text": [
            "[1.11620e+02 1.11940e+02 1.07560e+02 1.09000e+02 1.25888e+07 5.87323e+01\n",
            " 5.96682e+01 6.00730e+01]\n"
          ]
        }
      ]
    },
    {
      "cell_type": "code",
      "source": [
        "print(test_input.shape)\n",
        "print(test_output.shape)\n",
        "print(test_input)\n",
        "print(test_output)"
      ],
      "metadata": {
        "colab": {
          "base_uri": "https://localhost:8080/"
        },
        "id": "e-QTn8ALXphl",
        "outputId": "96801652-0845-44e9-f258-bac3a22ae45e"
      },
      "execution_count": 25,
      "outputs": [
        {
          "output_type": "stream",
          "name": "stdout",
          "text": [
            "(1, 32)\n",
            "(1,)\n",
            "[[1.08120e+02 1.12750e+02 1.06560e+02 1.09700e+02 7.13520e+06 5.92444e+01\n",
            "  6.01216e+01 6.03414e+01 1.11620e+02 1.11940e+02 1.07560e+02 1.09000e+02\n",
            "  1.25888e+07 5.87323e+01 5.96682e+01 6.00730e+01 1.20500e+02 1.22120e+02\n",
            "  1.12250e+02 1.13370e+02 1.66430e+07 6.35152e+01 5.92612e+01 5.98159e+01\n",
            "  1.16250e+02 1.21000e+02 1.15500e+02 1.18280e+02 8.13980e+06 6.96315e+01\n",
            "  5.88181e+01 5.93264e+01]]\n",
            "[117.08333333]\n"
          ]
        }
      ]
    },
    {
      "cell_type": "code",
      "source": [
        "prediction = model.predict(test_input)\n",
        "print(prediction)\n",
        "print(test_output[0])"
      ],
      "metadata": {
        "colab": {
          "base_uri": "https://localhost:8080/"
        },
        "id": "gyYOvdXPZB9S",
        "outputId": "41fbb3ac-6d18-49d6-d2b9-b98f9367f89d"
      },
      "execution_count": 26,
      "outputs": [
        {
          "output_type": "stream",
          "name": "stdout",
          "text": [
            "[[33.53059]]\n",
            "117.08333333333333\n"
          ]
        }
      ]
    }
  ]
}