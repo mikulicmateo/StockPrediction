{
  "nbformat": 4,
  "nbformat_minor": 0,
  "metadata": {
    "colab": {
      "name": "StockPredict.ipynb",
      "provenance": [],
      "collapsed_sections": [],
      "mount_file_id": "1ie-Kv4b2wUgosfvoBqtOvBBpvoRQXTc4",
      "authorship_tag": "ABX9TyMeprPax5+LC+M+I7e+rms6",
      "include_colab_link": true
    },
    "kernelspec": {
      "name": "python3",
      "display_name": "Python 3"
    },
    "language_info": {
      "name": "python"
    }
  },
  "cells": [
    {
      "cell_type": "markdown",
      "metadata": {
        "id": "view-in-github",
        "colab_type": "text"
      },
      "source": [
        "<a href=\"https://colab.research.google.com/github/mikulicmateo/StockPrediction/blob/main/StockPredict.ipynb\" target=\"_parent\"><img src=\"https://colab.research.google.com/assets/colab-badge.svg\" alt=\"Open In Colab\"/></a>"
      ]
    },
    {
      "cell_type": "code",
      "execution_count": 8,
      "metadata": {
        "id": "FOXLfLrBWtCn"
      },
      "outputs": [],
      "source": [
        "import numpy as np\n",
        "import json\n",
        "from tensorflow.keras.models import Sequential\n",
        "from tensorflow.keras.optimizers import Adam\n",
        "from tensorflow.keras.layers import Dense\n",
        "from tensorflow.keras.layers import Input\n",
        "#from tensorflow.keras.callbacks import EarlyStopping\n",
        "from matplotlib import pyplot\n",
        "\n",
        "\n",
        "def create_model():\n",
        "    l_model = Sequential()\n",
        "    l_model.add(Input(32))\n",
        "    l_model.add(Dense(128, activation=\"linear\"))\n",
        "    l_model.add(Dense(128, activation=\"relu\"))\n",
        "    l_model.add(Dense(64, activation=\"linear\"))\n",
        "    l_model.add(Dense(32, activation=\"relu\"))\n",
        "    l_model.add(Dense(16, activation=\"linear\"))\n",
        "    l_model.add(Dense(8, activation=\"relu\"))\n",
        "    l_model.add(Dense(4, activation=\"linear\"))\n",
        "    l_model.add(Dense(2, activation=\"relu\"))\n",
        "    l_model.add(Dense(1, activation=\"linear\"))\n",
        "    l_model.compile(Adam(learning_rate=0.0001), loss=\"mean_squared_error\", metrics=['mse', 'mae','msle'])\n",
        "    l_model.summary()\n",
        "    return l_model\n",
        "\n",
        "\n",
        "def calculate_typical_price(row):\n",
        "    typical_price = (row[1] + row[2] + row[3])/3\n",
        "    return typical_price\n",
        "\n"
      ]
    },
    {
      "cell_type": "code",
      "source": [
        "with open(\"/content/drive/MyDrive/dataset.json\") as json_file:\n",
        "    dataset = json.loads(json_file.read())"
      ],
      "metadata": {
        "id": "YrgdJmmpN_hQ"
      },
      "execution_count": 2,
      "outputs": []
    },
    {
      "cell_type": "code",
      "source": [
        "print(type(dataset))\n",
        "numOfKey = 0\n",
        "for i in dataset.keys():\n",
        "    numOfKey += 1\n",
        "\n",
        "arr = []\n",
        "data = np.empty(shape=(0, 8))\n",
        "listOfArrays = []\n",
        "for j in dataset.keys():\n",
        "    print(\"************** \", str(j))\n",
        "    for i in dataset[j]:\n",
        "        arr = float(i.get('open')), float(i.get('high')), float(i.get('low')), float(i.get('close')), \\\n",
        "              float(i.get('volume')), float(i.get('rsi')), float(i.get('sma')), float(i.get('ema'))\n",
        "        data = np.append(data, [arr], axis=0)\n",
        "    print(data.shape)\n",
        "    listOfArrays.append(data)\n"
      ],
      "metadata": {
        "id": "LOzs24FtOAFD",
        "colab": {
          "base_uri": "https://localhost:8080/"
        },
        "outputId": "9297e4c5-58b6-498e-b77b-12463e33b811"
      },
      "execution_count": 3,
      "outputs": [
        {
          "output_type": "stream",
          "name": "stdout",
          "text": [
            "<class 'dict'>\n",
            "**************  IBM\n",
            "(5549, 8)\n",
            "**************  AMD\n",
            "(11098, 8)\n",
            "**************  TSLA\n",
            "(13967, 8)\n",
            "**************  PFE\n",
            "(19516, 8)\n",
            "**************  MRK\n",
            "(25065, 8)\n",
            "**************  F\n",
            "(30614, 8)\n",
            "**************  CROX\n",
            "(34587, 8)\n",
            "**************  DNA\n",
            "(34737, 8)\n",
            "**************  JD\n",
            "(36625, 8)\n",
            "**************  JBLU\n",
            "(41562, 8)\n",
            "**************  OXY\n",
            "(47111, 8)\n",
            "**************  X\n",
            "(52660, 8)\n",
            "**************  KO\n",
            "(58209, 8)\n",
            "**************  NCLH\n",
            "(60434, 8)\n",
            "**************  AMZN\n",
            "(65983, 8)\n",
            "**************  BBD\n",
            "(71015, 8)\n",
            "**************  BAC\n",
            "(76564, 8)\n",
            "**************  NIO\n",
            "(77367, 8)\n"
          ]
        }
      ]
    },
    {
      "cell_type": "code",
      "source": [
        "from tensorflow.python.ops.numpy_ops.np_array_ops import shape\n",
        "input_data = np.empty((0,32))\n",
        "output_data = np.empty((0,))\n",
        "for company in listOfArrays:\n",
        "    num_rows, _ = company.shape\n",
        "    for i in range(num_rows):\n",
        "        if i + 4 > num_rows-1:\n",
        "            print(company[i])\n",
        "            break\n",
        "        add = np.array([company[i], company[i + 1], company[i + 2], company[i + 3]]).reshape(1,32)\n",
        "        input_data=np.append(input_data, add, axis=0)\n",
        "        add = np.array([calculate_typical_price(company[i + 4])])\n",
        "        output_data=np.append(output_data, add, axis=0)"
      ],
      "metadata": {
        "id": "6PvkOJUxOMaV",
        "colab": {
          "base_uri": "https://localhost:8080/"
        },
        "outputId": "05653b5c-52fa-47c2-ec27-230b698d9833"
      },
      "execution_count": 4,
      "outputs": [
        {
          "output_type": "stream",
          "name": "stdout",
          "text": [
            "[1.11620e+02 1.11940e+02 1.07560e+02 1.09000e+02 1.25888e+07 5.87323e+01\n",
            " 5.96682e+01 6.00730e+01]\n",
            "[2.93800e+01 2.96300e+01 2.81300e+01 2.92500e+01 3.10280e+06 6.48830e+01\n",
            " 1.36140e+01 1.34457e+01]\n",
            "[1.99000e+01 1.99800e+01 1.94500e+01 1.96000e+01 8.12700e+05 4.08265e+01\n",
            " 3.94660e+00 4.01680e+00]\n",
            "[3.36300e+01 3.42500e+01 3.33800e+01 3.38800e+01 1.02609e+07 3.58435e+01\n",
            " 1.56701e+01 1.57471e+01]\n",
            "[7.16900e+01 7.26900e+01 7.08800e+01 7.14400e+01 5.28720e+06 3.64842e+01\n",
            " 3.24296e+01 3.22271e+01]\n",
            "[5.006000e+01 5.019000e+01 4.856000e+01 4.894000e+01 4.320687e+06\n",
            " 3.488940e+01 2.190790e+01 2.188320e+01]\n",
            "[2.30000e+01 2.32500e+01 2.20300e+01 2.20600e+01 8.90500e+05 3.09939e+01\n",
            " 1.30380e+01 1.29099e+01]\n",
            "[9.89000e+00 9.89000e+00 9.86000e+00 9.88000e+00 7.57434e+05 3.92852e+01\n",
            " 1.00256e+01 1.00225e+01]\n",
            "[3.04000e+01 3.04100e+01 2.85000e+01 2.89600e+01 6.10820e+06 6.72822e+01\n",
            " 2.69360e+01 2.66881e+01]\n",
            "[4.37000e+01 4.44900e+01 4.35500e+01 4.44000e+01 5.36300e+04 4.91709e+01\n",
            " 1.38475e+01 1.36840e+01]\n",
            "[1.96300e+01 2.00600e+01 1.94400e+01 1.99400e+01 9.43500e+05 3.76307e+01\n",
            " 5.38410e+00 5.30340e+00]\n",
            "[2.85000e+01 2.99400e+01 2.84400e+01 2.95000e+01 8.62900e+05 6.74340e+01\n",
            " 1.95255e+01 1.98262e+01]\n",
            "[6.25000e+01 6.33800e+01 6.21300e+01 6.32500e+01 5.85950e+06 5.64785e+01\n",
            " 1.70794e+01 1.68862e+01]\n",
            "[3.05000e+01 3.16800e+01 3.02600e+01 3.09900e+01 6.88200e+05 7.02469e+01\n",
            " 2.89211e+01 2.89315e+01]\n",
            "[1.11400e+02 1.12000e+02 1.04400e+02 1.06700e+02 1.49290e+07 7.01830e+01\n",
            " 8.27600e+01 8.31418e+01]\n",
            "[2.75400e+01 2.75400e+01 2.68000e+01 2.71000e+01 4.77000e+04 5.88445e+01\n",
            " 4.31100e-01 4.35800e-01]\n",
            "[5.20000e+01 5.45000e+01 5.20000e+01 5.36300e+01 8.03650e+06 3.69862e+01\n",
            " 1.63148e+01 1.60576e+01]\n",
            "[7.6800000e+00 7.6850000e+00 7.0000000e+00 7.0300000e+00 1.2758537e+07\n",
            " 5.1030900e+01 7.3252000e+00 7.5432000e+00]\n"
          ]
        }
      ]
    },
    {
      "cell_type": "code",
      "source": [
        "print(input_data.shape)\n",
        "print(output_data.shape)"
      ],
      "metadata": {
        "colab": {
          "base_uri": "https://localhost:8080/"
        },
        "id": "IKUPpHylPoFl",
        "outputId": "ba51f181-7308-4f7c-d560-9040975ea9e2"
      },
      "execution_count": 6,
      "outputs": [
        {
          "output_type": "stream",
          "name": "stdout",
          "text": [
            "(762591, 32)\n",
            "(762591,)\n"
          ]
        }
      ]
    },
    {
      "cell_type": "code",
      "source": [
        "model = create_model()\n",
        "history = model.fit(x=input_data, y=output_data, batch_size=256,validation_split=0.1, epochs=100, verbose=1, shuffle=True)#, callbacks=EarlyStopping(monitor='loss', patience=3))"
      ],
      "metadata": {
        "id": "y4rUpdOuE_kB",
        "colab": {
          "base_uri": "https://localhost:8080/"
        },
        "outputId": "fd13065b-4314-4894-fd04-2e8c58f7c623"
      },
      "execution_count": 24,
      "outputs": [
        {
          "output_type": "stream",
          "name": "stdout",
          "text": [
            "Model: \"sequential_9\"\n",
            "_________________________________________________________________\n",
            " Layer (type)                Output Shape              Param #   \n",
            "=================================================================\n",
            " dense_77 (Dense)            (None, 128)               4224      \n",
            "                                                                 \n",
            " dense_78 (Dense)            (None, 128)               16512     \n",
            "                                                                 \n",
            " dense_79 (Dense)            (None, 64)                8256      \n",
            "                                                                 \n",
            " dense_80 (Dense)            (None, 32)                2080      \n",
            "                                                                 \n",
            " dense_81 (Dense)            (None, 16)                528       \n",
            "                                                                 \n",
            " dense_82 (Dense)            (None, 8)                 136       \n",
            "                                                                 \n",
            " dense_83 (Dense)            (None, 4)                 36        \n",
            "                                                                 \n",
            " dense_84 (Dense)            (None, 2)                 10        \n",
            "                                                                 \n",
            " dense_85 (Dense)            (None, 1)                 3         \n",
            "                                                                 \n",
            "=================================================================\n",
            "Total params: 31,785\n",
            "Trainable params: 31,785\n",
            "Non-trainable params: 0\n",
            "_________________________________________________________________\n",
            "Epoch 1/100\n",
            "2681/2681 [==============================] - 16s 5ms/step - loss: 36009820.0000 - mse: 36009820.0000 - mae: 392.0303 - msle: 14.3464 - val_loss: 141506.8906 - val_mse: 141506.8906 - val_mae: 90.7847 - val_msle: 13.8316\n",
            "Epoch 2/100\n",
            "2681/2681 [==============================] - 14s 5ms/step - loss: 44334.6953 - mse: 44334.6953 - mae: 75.7003 - msle: 14.0024 - val_loss: 96290.4922 - val_mse: 96290.4922 - val_mae: 89.5853 - val_msle: 13.5802\n",
            "Epoch 3/100\n",
            "2681/2681 [==============================] - 17s 6ms/step - loss: 43135.3555 - mse: 43135.3555 - mae: 75.2635 - msle: 13.5199 - val_loss: 95949.7969 - val_mse: 95949.7969 - val_mae: 89.2580 - val_msle: 12.8222\n",
            "Epoch 4/100\n",
            "2681/2681 [==============================] - 16s 6ms/step - loss: 43042.0312 - mse: 43042.0312 - mae: 75.0295 - msle: 12.4840 - val_loss: 95870.0469 - val_mse: 95870.0469 - val_mae: 89.0018 - val_msle: 11.6273\n",
            "Epoch 5/100\n",
            "2681/2681 [==============================] - 20s 7ms/step - loss: 42987.5938 - mse: 42987.5938 - mae: 74.7670 - msle: 11.3104 - val_loss: 95813.6562 - val_mse: 95813.6562 - val_mae: 88.7280 - val_msle: 10.5504\n",
            "Epoch 6/100\n",
            "2681/2681 [==============================] - 14s 5ms/step - loss: 42945.8867 - mse: 42945.8867 - mae: 74.4974 - msle: 10.3225 - val_loss: 95766.5625 - val_mse: 95766.5625 - val_mae: 88.4614 - val_msle: 9.6685\n",
            "Epoch 7/100\n",
            "2681/2681 [==============================] - 15s 6ms/step - loss: 42906.3789 - mse: 42906.3789 - mae: 74.2312 - msle: 9.5085 - val_loss: 95719.8906 - val_mse: 95719.8906 - val_mae: 88.1972 - val_msle: 8.9372\n",
            "Epoch 8/100\n",
            "2681/2681 [==============================] - 15s 5ms/step - loss: 42867.3359 - mse: 42867.3359 - mae: 73.9674 - msle: 8.8255 - val_loss: 95673.4141 - val_mse: 95673.4141 - val_mae: 87.9341 - val_msle: 8.3164\n",
            "Epoch 9/100\n",
            "2681/2681 [==============================] - 14s 5ms/step - loss: 56140.9062 - mse: 56140.9062 - mae: 74.7589 - msle: 8.2501 - val_loss: 95629.1562 - val_mse: 95629.1562 - val_mae: 87.6826 - val_msle: 7.8043\n",
            "Epoch 10/100\n",
            "2681/2681 [==============================] - 19s 7ms/step - loss: 42791.9375 - mse: 42791.9375 - mae: 73.4575 - msle: 7.7631 - val_loss: 95583.8594 - val_mse: 95583.8594 - val_mae: 87.4254 - val_msle: 7.3441\n",
            "Epoch 11/100\n",
            "2681/2681 [==============================] - 16s 6ms/step - loss: 42753.4297 - mse: 42753.4297 - mae: 73.1977 - msle: 7.3178 - val_loss: 95537.8438 - val_mse: 95537.8438 - val_mae: 87.1642 - val_msle: 6.9294\n",
            "Epoch 12/100\n",
            "2681/2681 [==============================] - 14s 5ms/step - loss: 42714.8125 - mse: 42714.8125 - mae: 72.9379 - msle: 6.9198 - val_loss: 95491.8281 - val_mse: 95491.8281 - val_mae: 86.9036 - val_msle: 6.5594\n",
            "Epoch 13/100\n",
            "2681/2681 [==============================] - 14s 5ms/step - loss: 42676.3672 - mse: 42676.3672 - mae: 72.6802 - msle: 6.5639 - val_loss: 95446.0312 - val_mse: 95446.0312 - val_mae: 86.6448 - val_msle: 6.2279\n",
            "Epoch 14/100\n",
            "2681/2681 [==============================] - 14s 5ms/step - loss: 42638.1211 - mse: 42638.1211 - mae: 72.4246 - msle: 6.2433 - val_loss: 95400.3906 - val_mse: 95400.3906 - val_mae: 86.3875 - val_msle: 5.9287\n",
            "Epoch 15/100\n",
            "2681/2681 [==============================] - 13s 5ms/step - loss: 42599.9414 - mse: 42599.9414 - mae: 72.1702 - msle: 5.9529 - val_loss: 95354.8594 - val_mse: 95354.8594 - val_mae: 86.1311 - val_msle: 5.6570\n",
            "Epoch 16/100\n",
            "2681/2681 [==============================] - 13s 5ms/step - loss: 42561.8359 - mse: 42561.8359 - mae: 71.9170 - msle: 5.6886 - val_loss: 95309.4531 - val_mse: 95309.4531 - val_mae: 85.8754 - val_msle: 5.4086\n",
            "Epoch 17/100\n",
            "2681/2681 [==============================] - 15s 5ms/step - loss: 42524.0469 - mse: 42524.0469 - mae: 71.6651 - msle: 5.4465 - val_loss: 95264.1875 - val_mse: 95264.1875 - val_mae: 85.6213 - val_msle: 5.1808\n",
            "Epoch 18/100\n",
            "2681/2681 [==============================] - 13s 5ms/step - loss: 42486.1680 - mse: 42486.1680 - mae: 71.4156 - msle: 5.2239 - val_loss: 95218.9609 - val_mse: 95218.9609 - val_mae: 85.3690 - val_msle: 4.9708\n",
            "Epoch 19/100\n",
            "2681/2681 [==============================] - 13s 5ms/step - loss: 42448.6133 - mse: 42448.6133 - mae: 71.1682 - msle: 5.0184 - val_loss: 95174.0234 - val_mse: 95174.0234 - val_mae: 85.1199 - val_msle: 4.7775\n",
            "Epoch 20/100\n",
            "2681/2681 [==============================] - 13s 5ms/step - loss: 42411.1953 - mse: 42411.1953 - mae: 70.9234 - msle: 4.8283 - val_loss: 95129.2812 - val_mse: 95129.2812 - val_mae: 84.8726 - val_msle: 4.5983\n",
            "Epoch 21/100\n",
            "2681/2681 [==============================] - 13s 5ms/step - loss: 42373.9023 - mse: 42373.9023 - mae: 70.6802 - msle: 4.6517 - val_loss: 95084.5938 - val_mse: 95084.5938 - val_mae: 84.6267 - val_msle: 4.4314\n",
            "Epoch 22/100\n",
            "2681/2681 [==============================] - 13s 5ms/step - loss: 42336.6953 - mse: 42336.6953 - mae: 70.4386 - msle: 4.4871 - val_loss: 95040.0469 - val_mse: 95040.0469 - val_mae: 84.3827 - val_msle: 4.2758\n",
            "Epoch 23/100\n",
            "2681/2681 [==============================] - 13s 5ms/step - loss: 42299.6875 - mse: 42299.6875 - mae: 70.1990 - msle: 4.3335 - val_loss: 94995.6328 - val_mse: 94995.6328 - val_mae: 84.1411 - val_msle: 4.1304\n",
            "Epoch 24/100\n",
            "2681/2681 [==============================] - 13s 5ms/step - loss: 42262.8867 - mse: 42262.8867 - mae: 69.9615 - msle: 4.1898 - val_loss: 94951.4219 - val_mse: 94951.4219 - val_mae: 83.9019 - val_msle: 3.9945\n",
            "Epoch 25/100\n",
            "2681/2681 [==============================] - 13s 5ms/step - loss: 42226.1016 - mse: 42226.1016 - mae: 69.7265 - msle: 4.0550 - val_loss: 94907.3047 - val_mse: 94907.3047 - val_mae: 83.6650 - val_msle: 3.8668\n",
            "Epoch 26/100\n",
            "2681/2681 [==============================] - 13s 5ms/step - loss: 42189.5469 - mse: 42189.5469 - mae: 69.4939 - msle: 3.9282 - val_loss: 94863.3828 - val_mse: 94863.3828 - val_mae: 83.4306 - val_msle: 3.7468\n",
            "Epoch 27/100\n",
            "2681/2681 [==============================] - 13s 5ms/step - loss: 42153.1172 - mse: 42153.1172 - mae: 69.2638 - msle: 3.8090 - val_loss: 94819.6172 - val_mse: 94819.6172 - val_mae: 83.1987 - val_msle: 3.6338\n",
            "Epoch 28/100\n",
            "2681/2681 [==============================] - 13s 5ms/step - loss: 42116.7656 - mse: 42116.7656 - mae: 69.0366 - msle: 3.6965 - val_loss: 94775.9062 - val_mse: 94775.9062 - val_mae: 82.9687 - val_msle: 3.5271\n",
            "Epoch 29/100\n",
            "2681/2681 [==============================] - 13s 5ms/step - loss: 42080.6328 - mse: 42080.6328 - mae: 68.8118 - msle: 3.5902 - val_loss: 94732.3828 - val_mse: 94732.3828 - val_mae: 82.7416 - val_msle: 3.4263\n",
            "Epoch 30/100\n",
            "2681/2681 [==============================] - 13s 5ms/step - loss: 42044.6641 - mse: 42044.6641 - mae: 68.5902 - msle: 3.4897 - val_loss: 94689.0000 - val_mse: 94689.0000 - val_mae: 82.5179 - val_msle: 3.3311\n",
            "Epoch 31/100\n",
            "2681/2681 [==============================] - 13s 5ms/step - loss: 42008.7188 - mse: 42008.7188 - mae: 68.3715 - msle: 3.3945 - val_loss: 94645.8594 - val_mse: 94645.8594 - val_mae: 82.2971 - val_msle: 3.2410\n",
            "Epoch 32/100\n",
            "2681/2681 [==============================] - 13s 5ms/step - loss: 41973.0898 - mse: 41973.0898 - mae: 68.1559 - msle: 3.3043 - val_loss: 94602.7109 - val_mse: 94602.7109 - val_mae: 82.0781 - val_msle: 3.1553\n",
            "Epoch 33/100\n",
            "2681/2681 [==============================] - 14s 5ms/step - loss: 41937.4570 - mse: 41937.4570 - mae: 67.9427 - msle: 3.2185 - val_loss: 94559.7344 - val_mse: 94559.7344 - val_mae: 81.8616 - val_msle: 3.0739\n",
            "Epoch 34/100\n",
            "2681/2681 [==============================] - 14s 5ms/step - loss: 41901.9414 - mse: 41901.9414 - mae: 67.7322 - msle: 3.1370 - val_loss: 94516.9609 - val_mse: 94516.9609 - val_mae: 81.6483 - val_msle: 2.9967\n",
            "Epoch 35/100\n",
            "2681/2681 [==============================] - 14s 5ms/step - loss: 41866.6797 - mse: 41866.6797 - mae: 67.5247 - msle: 3.0595 - val_loss: 94474.2422 - val_mse: 94474.2422 - val_mae: 81.4374 - val_msle: 2.9231\n",
            "Epoch 36/100\n",
            "2681/2681 [==============================] - 13s 5ms/step - loss: 41831.4961 - mse: 41831.4961 - mae: 67.3198 - msle: 2.9857 - val_loss: 94431.7500 - val_mse: 94431.7500 - val_mae: 81.2296 - val_msle: 2.8532\n",
            "Epoch 37/100\n",
            "2681/2681 [==============================] - 13s 5ms/step - loss: 41796.4961 - mse: 41796.4961 - mae: 67.1182 - msle: 2.9153 - val_loss: 94389.4141 - val_mse: 94389.4141 - val_mae: 81.0249 - val_msle: 2.7865\n",
            "Epoch 38/100\n",
            "2681/2681 [==============================] - 13s 5ms/step - loss: 41761.6680 - mse: 41761.6680 - mae: 66.9195 - msle: 2.8482 - val_loss: 94347.1094 - val_mse: 94347.1094 - val_mae: 80.8223 - val_msle: 2.7228\n",
            "Epoch 39/100\n",
            "2681/2681 [==============================] - 13s 5ms/step - loss: 41726.9414 - mse: 41726.9414 - mae: 66.7231 - msle: 2.7841 - val_loss: 94305.1016 - val_mse: 94305.1016 - val_mae: 80.6230 - val_msle: 2.6621\n",
            "Epoch 40/100\n",
            "2681/2681 [==============================] - 13s 5ms/step - loss: 41692.3945 - mse: 41692.3945 - mae: 66.5290 - msle: 2.7229 - val_loss: 94263.2891 - val_mse: 94263.2891 - val_mae: 80.4261 - val_msle: 2.6043\n",
            "Epoch 41/100\n",
            "2681/2681 [==============================] - 13s 5ms/step - loss: 41657.9062 - mse: 41657.9062 - mae: 66.3377 - msle: 2.6643 - val_loss: 94221.4141 - val_mse: 94221.4141 - val_mae: 80.2309 - val_msle: 2.5486\n",
            "Epoch 42/100\n",
            "2681/2681 [==============================] - 13s 5ms/step - loss: 41623.6484 - mse: 41623.6484 - mae: 66.1484 - msle: 2.6082 - val_loss: 94179.8516 - val_mse: 94179.8516 - val_mae: 80.0398 - val_msle: 2.4957\n",
            "Epoch 43/100\n",
            "2681/2681 [==============================] - 13s 5ms/step - loss: 41589.5000 - mse: 41589.5000 - mae: 65.9621 - msle: 2.5546 - val_loss: 94138.3438 - val_mse: 94138.3438 - val_mae: 79.8504 - val_msle: 2.4449\n",
            "Epoch 44/100\n",
            "2681/2681 [==============================] - 17s 6ms/step - loss: 41555.4609 - mse: 41555.4609 - mae: 65.7781 - msle: 2.5032 - val_loss: 94096.9688 - val_mse: 94096.9688 - val_mae: 79.6637 - val_msle: 2.3962\n",
            "Epoch 45/100\n",
            "2681/2681 [==============================] - 14s 5ms/step - loss: 41521.6172 - mse: 41521.6172 - mae: 65.5963 - msle: 2.4538 - val_loss: 94055.6953 - val_mse: 94055.6953 - val_mae: 79.4795 - val_msle: 2.3495\n",
            "Epoch 46/100\n",
            "2681/2681 [==============================] - 14s 5ms/step - loss: 41487.8828 - mse: 41487.8828 - mae: 65.4175 - msle: 2.4065 - val_loss: 94014.6641 - val_mse: 94014.6641 - val_mae: 79.2984 - val_msle: 2.3048\n",
            "Epoch 47/100\n",
            "2681/2681 [==============================] - 13s 5ms/step - loss: 41454.3398 - mse: 41454.3398 - mae: 65.2419 - msle: 2.3611 - val_loss: 93973.7266 - val_mse: 93973.7266 - val_mae: 79.1203 - val_msle: 2.2620\n",
            "Epoch 48/100\n",
            "2681/2681 [==============================] - 14s 5ms/step - loss: 41420.8594 - mse: 41420.8594 - mae: 65.0687 - msle: 2.3176 - val_loss: 93932.8750 - val_mse: 93932.8750 - val_mae: 78.9445 - val_msle: 2.2208\n",
            "Epoch 49/100\n",
            "2681/2681 [==============================] - 14s 5ms/step - loss: 41387.4961 - mse: 41387.4961 - mae: 64.8978 - msle: 2.2757 - val_loss: 93892.2109 - val_mse: 93892.2109 - val_mae: 78.7713 - val_msle: 2.1813\n",
            "Epoch 50/100\n",
            "2681/2681 [==============================] - 14s 5ms/step - loss: 41354.3477 - mse: 41354.3477 - mae: 64.7294 - msle: 2.2354 - val_loss: 93851.8281 - val_mse: 93851.8281 - val_mae: 78.6015 - val_msle: 2.1434\n",
            "Epoch 51/100\n",
            "2681/2681 [==============================] - 14s 5ms/step - loss: 41321.3438 - mse: 41321.3438 - mae: 64.5647 - msle: 2.1968 - val_loss: 93811.3672 - val_mse: 93811.3672 - val_mae: 78.4338 - val_msle: 2.1069\n",
            "Epoch 52/100\n",
            "2681/2681 [==============================] - 13s 5ms/step - loss: 41288.5000 - mse: 41288.5000 - mae: 64.4015 - msle: 2.1596 - val_loss: 93771.2188 - val_mse: 93771.2188 - val_mae: 78.2689 - val_msle: 2.0719\n",
            "Epoch 53/100\n",
            "2681/2681 [==============================] - 14s 5ms/step - loss: 41255.7695 - mse: 41255.7695 - mae: 64.2417 - msle: 2.1238 - val_loss: 93731.1406 - val_mse: 93731.1406 - val_mae: 78.1065 - val_msle: 2.0382\n",
            "Epoch 54/100\n",
            "2681/2681 [==============================] - 14s 5ms/step - loss: 41223.1914 - mse: 41223.1914 - mae: 64.0842 - msle: 2.0894 - val_loss: 93691.2578 - val_mse: 93691.2578 - val_mae: 77.9470 - val_msle: 2.0059\n",
            "Epoch 55/100\n",
            "2681/2681 [==============================] - 14s 5ms/step - loss: 41190.7227 - mse: 41190.7227 - mae: 63.9297 - msle: 2.0563 - val_loss: 93651.3828 - val_mse: 93651.3828 - val_mae: 77.7898 - val_msle: 1.9747\n",
            "Epoch 56/100\n",
            "2681/2681 [==============================] - 14s 5ms/step - loss: 41158.4688 - mse: 41158.4688 - mae: 63.7776 - msle: 2.0243 - val_loss: 93611.8047 - val_mse: 93611.8047 - val_mae: 77.6362 - val_msle: 1.9447\n",
            "Epoch 57/100\n",
            "2681/2681 [==============================] - 13s 5ms/step - loss: 41126.3086 - mse: 41126.3086 - mae: 63.6285 - msle: 1.9936 - val_loss: 93572.3438 - val_mse: 93572.3438 - val_mae: 77.4852 - val_msle: 1.9159\n",
            "Epoch 58/100\n",
            "2681/2681 [==============================] - 13s 5ms/step - loss: 41094.3516 - mse: 41094.3516 - mae: 63.4824 - msle: 1.9640 - val_loss: 93533.0469 - val_mse: 93533.0469 - val_mae: 77.3374 - val_msle: 1.8881\n",
            "Epoch 59/100\n",
            "2681/2681 [==============================] - 13s 5ms/step - loss: 41062.4570 - mse: 41062.4570 - mae: 63.3389 - msle: 1.9355 - val_loss: 93493.8594 - val_mse: 93493.8594 - val_mae: 77.1925 - val_msle: 1.8614\n",
            "Epoch 60/100\n",
            "2681/2681 [==============================] - 13s 5ms/step - loss: 41030.7852 - mse: 41030.7852 - mae: 63.1986 - msle: 1.9080 - val_loss: 93454.7344 - val_mse: 93454.7344 - val_mae: 77.0506 - val_msle: 1.8356\n",
            "Epoch 61/100\n",
            "2681/2681 [==============================] - 13s 5ms/step - loss: 40999.1602 - mse: 40999.1602 - mae: 63.0614 - msle: 1.8814 - val_loss: 93415.8438 - val_mse: 93415.8438 - val_mae: 76.9125 - val_msle: 1.8108\n",
            "Epoch 62/100\n",
            "2681/2681 [==============================] - 14s 5ms/step - loss: 40967.7305 - mse: 40967.7305 - mae: 62.9275 - msle: 1.8558 - val_loss: 93377.1094 - val_mse: 93377.1094 - val_mae: 76.7779 - val_msle: 1.7869\n",
            "Epoch 63/100\n",
            "2681/2681 [==============================] - 14s 5ms/step - loss: 40936.4648 - mse: 40936.4648 - mae: 62.7964 - msle: 1.8312 - val_loss: 93338.5859 - val_mse: 93338.5859 - val_mae: 76.6466 - val_msle: 1.7639\n",
            "Epoch 64/100\n",
            "2681/2681 [==============================] - 13s 5ms/step - loss: 40905.3047 - mse: 40905.3047 - mae: 62.6686 - msle: 1.8074 - val_loss: 93300.0703 - val_mse: 93300.0703 - val_mae: 76.5182 - val_msle: 1.7417\n",
            "Epoch 65/100\n",
            "2681/2681 [==============================] - 13s 5ms/step - loss: 40874.3125 - mse: 40874.3125 - mae: 62.5429 - msle: 1.7844 - val_loss: 93261.7188 - val_mse: 93261.7188 - val_mae: 76.3929 - val_msle: 1.7203\n",
            "Epoch 66/100\n",
            "2681/2681 [==============================] - 13s 5ms/step - loss: 40843.4570 - mse: 40843.4570 - mae: 62.4201 - msle: 1.7623 - val_loss: 93223.6484 - val_mse: 93223.6484 - val_mae: 76.2709 - val_msle: 1.6997\n",
            "Epoch 67/100\n",
            "2681/2681 [==============================] - 13s 5ms/step - loss: 40812.8047 - mse: 40812.8047 - mae: 62.2998 - msle: 1.7409 - val_loss: 93185.5547 - val_mse: 93185.5547 - val_mae: 76.1519 - val_msle: 1.6798\n",
            "Epoch 68/100\n",
            "2681/2681 [==============================] - 13s 5ms/step - loss: 40782.2734 - mse: 40782.2734 - mae: 62.1820 - msle: 1.7203 - val_loss: 93147.6953 - val_mse: 93147.6953 - val_mae: 76.0359 - val_msle: 1.6606\n",
            "Epoch 69/100\n",
            "2681/2681 [==============================] - 13s 5ms/step - loss: 40751.7734 - mse: 40751.7734 - mae: 62.0666 - msle: 1.7003 - val_loss: 93109.9375 - val_mse: 93109.9375 - val_mae: 75.9230 - val_msle: 1.6421\n",
            "Epoch 70/100\n",
            "2681/2681 [==============================] - 13s 5ms/step - loss: 40721.5508 - mse: 40721.5508 - mae: 61.9541 - msle: 1.6811 - val_loss: 93072.3672 - val_mse: 93072.3672 - val_mae: 75.8126 - val_msle: 1.6243\n",
            "Epoch 71/100\n",
            "2681/2681 [==============================] - 13s 5ms/step - loss: 40691.3633 - mse: 40691.3633 - mae: 61.8435 - msle: 1.6625 - val_loss: 93034.8750 - val_mse: 93034.8750 - val_mae: 75.7046 - val_msle: 1.6071\n",
            "Epoch 72/100\n",
            "2681/2681 [==============================] - 13s 5ms/step - loss: 40661.3359 - mse: 40661.3359 - mae: 61.7353 - msle: 1.6446 - val_loss: 92997.5391 - val_mse: 92997.5391 - val_mae: 75.5990 - val_msle: 1.5905\n",
            "Epoch 73/100\n",
            "2681/2681 [==============================] - 12s 5ms/step - loss: 40631.4648 - mse: 40631.4648 - mae: 61.6286 - msle: 1.6273 - val_loss: 92960.3438 - val_mse: 92960.3438 - val_mae: 75.4956 - val_msle: 1.5746\n",
            "Epoch 74/100\n",
            "2681/2681 [==============================] - 12s 5ms/step - loss: 40601.7383 - mse: 40601.7383 - mae: 61.5239 - msle: 1.6106 - val_loss: 92923.3594 - val_mse: 92923.3594 - val_mae: 75.3943 - val_msle: 1.5592\n",
            "Epoch 75/100\n",
            "2681/2681 [==============================] - 12s 5ms/step - loss: 40572.2266 - mse: 40572.2266 - mae: 61.4205 - msle: 1.5945 - val_loss: 92886.4609 - val_mse: 92886.4609 - val_mae: 75.2949 - val_msle: 1.5443\n",
            "Epoch 76/100\n",
            "2681/2681 [==============================] - 12s 5ms/step - loss: 40542.7695 - mse: 40542.7695 - mae: 61.3189 - msle: 1.5789 - val_loss: 92849.7734 - val_mse: 92849.7734 - val_mae: 75.1977 - val_msle: 1.5300\n",
            "Epoch 77/100\n",
            "2681/2681 [==============================] - 13s 5ms/step - loss: 40513.4219 - mse: 40513.4219 - mae: 61.2194 - msle: 1.5639 - val_loss: 92813.1016 - val_mse: 92813.1016 - val_mae: 75.1024 - val_msle: 1.5162\n",
            "Epoch 78/100\n",
            "2681/2681 [==============================] - 13s 5ms/step - loss: 40484.3398 - mse: 40484.3398 - mae: 61.1214 - msle: 1.5493 - val_loss: 92776.7109 - val_mse: 92776.7109 - val_mae: 75.0096 - val_msle: 1.5029\n",
            "Epoch 79/100\n",
            "2681/2681 [==============================] - 14s 5ms/step - loss: 40455.3594 - mse: 40455.3594 - mae: 61.0253 - msle: 1.5353 - val_loss: 92740.4453 - val_mse: 92740.4453 - val_mae: 74.9189 - val_msle: 1.4901\n",
            "Epoch 80/100\n",
            "2681/2681 [==============================] - 13s 5ms/step - loss: 40426.5273 - mse: 40426.5273 - mae: 60.9312 - msle: 1.5218 - val_loss: 92704.3125 - val_mse: 92704.3125 - val_mae: 74.8302 - val_msle: 1.4778\n",
            "Epoch 81/100\n",
            "2681/2681 [==============================] - 13s 5ms/step - loss: 40397.8164 - mse: 40397.8164 - mae: 60.8391 - msle: 1.5088 - val_loss: 92668.2188 - val_mse: 92668.2188 - val_mae: 74.7430 - val_msle: 1.4658\n",
            "Epoch 82/100\n",
            "2681/2681 [==============================] - 13s 5ms/step - loss: 40369.1914 - mse: 40369.1914 - mae: 60.7484 - msle: 1.4961 - val_loss: 92632.4453 - val_mse: 92632.4453 - val_mae: 74.6584 - val_msle: 1.4544\n",
            "Epoch 83/100\n",
            "2681/2681 [==============================] - 13s 5ms/step - loss: 40340.7812 - mse: 40340.7812 - mae: 60.6603 - msle: 1.4840 - val_loss: 92596.7266 - val_mse: 92596.7266 - val_mae: 74.5754 - val_msle: 1.4433\n",
            "Epoch 84/100\n",
            "2681/2681 [==============================] - 13s 5ms/step - loss: 40312.5000 - mse: 40312.5000 - mae: 60.5733 - msle: 1.4723 - val_loss: 92561.1406 - val_mse: 92561.1406 - val_mae: 74.4942 - val_msle: 1.4327\n",
            "Epoch 85/100\n",
            "2681/2681 [==============================] - 13s 5ms/step - loss: 40284.5000 - mse: 40284.5000 - mae: 60.4878 - msle: 1.4609 - val_loss: 92525.7344 - val_mse: 92525.7344 - val_mae: 74.4149 - val_msle: 1.4225\n",
            "Epoch 86/100\n",
            "2681/2681 [==============================] - 13s 5ms/step - loss: 40256.3398 - mse: 40256.3398 - mae: 60.4041 - msle: 1.4500 - val_loss: 92490.3203 - val_mse: 92490.3203 - val_mae: 74.3368 - val_msle: 1.4126\n",
            "Epoch 87/100\n",
            "2681/2681 [==============================] - 13s 5ms/step - loss: 40228.5664 - mse: 40228.5664 - mae: 60.3217 - msle: 1.4395 - val_loss: 92455.3438 - val_mse: 92455.3438 - val_mae: 74.2610 - val_msle: 1.4031\n",
            "Epoch 88/100\n",
            "2681/2681 [==============================] - 13s 5ms/step - loss: 40200.7891 - mse: 40200.7891 - mae: 60.2409 - msle: 1.4293 - val_loss: 92420.3203 - val_mse: 92420.3203 - val_mae: 74.1864 - val_msle: 1.3940\n",
            "Epoch 89/100\n",
            "2681/2681 [==============================] - 13s 5ms/step - loss: 40173.3359 - mse: 40173.3359 - mae: 60.1615 - msle: 1.4195 - val_loss: 92385.5156 - val_mse: 92385.5156 - val_mae: 74.1134 - val_msle: 1.3852\n",
            "Epoch 90/100\n",
            "2681/2681 [==============================] - 13s 5ms/step - loss: 40145.8828 - mse: 40145.8828 - mae: 60.0836 - msle: 1.4101 - val_loss: 92350.7656 - val_mse: 92350.7656 - val_mae: 74.0420 - val_msle: 1.3768\n",
            "Epoch 91/100\n",
            "2681/2681 [==============================] - 13s 5ms/step - loss: 40118.5977 - mse: 40118.5977 - mae: 60.0068 - msle: 1.4010 - val_loss: 92316.1953 - val_mse: 92316.1953 - val_mae: 73.9723 - val_msle: 1.3687\n",
            "Epoch 92/100\n",
            "2681/2681 [==============================] - 13s 5ms/step - loss: 40091.4180 - mse: 40091.4180 - mae: 59.9317 - msle: 1.3922 - val_loss: 92281.7656 - val_mse: 92281.7656 - val_mae: 73.9039 - val_msle: 1.3609\n",
            "Epoch 93/100\n",
            "2681/2681 [==============================] - 13s 5ms/step - loss: 40064.5000 - mse: 40064.5000 - mae: 59.8578 - msle: 1.3838 - val_loss: 92247.5312 - val_mse: 92247.5312 - val_mae: 73.8374 - val_msle: 1.3534\n",
            "Epoch 94/100\n",
            "2681/2681 [==============================] - 13s 5ms/step - loss: 40037.5781 - mse: 40037.5781 - mae: 59.7857 - msle: 1.3756 - val_loss: 92213.4219 - val_mse: 92213.4219 - val_mae: 73.7728 - val_msle: 1.3462\n",
            "Epoch 95/100\n",
            "2681/2681 [==============================] - 13s 5ms/step - loss: 40010.9688 - mse: 40010.9688 - mae: 59.7152 - msle: 1.3678 - val_loss: 92179.5156 - val_mse: 92179.5156 - val_mae: 73.7101 - val_msle: 1.3393\n",
            "Epoch 96/100\n",
            "2681/2681 [==============================] - 13s 5ms/step - loss: 39984.3867 - mse: 39984.3867 - mae: 59.6466 - msle: 1.3603 - val_loss: 92145.6094 - val_mse: 92145.6094 - val_mae: 73.6489 - val_msle: 1.3327\n",
            "Epoch 97/100\n",
            "2681/2681 [==============================] - 13s 5ms/step - loss: 39957.9766 - mse: 39957.9766 - mae: 59.5793 - msle: 1.3530 - val_loss: 92111.9375 - val_mse: 92111.9375 - val_mae: 73.5898 - val_msle: 1.3264\n",
            "Epoch 98/100\n",
            "2681/2681 [==============================] - 14s 5ms/step - loss: 39931.6562 - mse: 39931.6562 - mae: 59.5144 - msle: 1.3461 - val_loss: 92078.4375 - val_mse: 92078.4375 - val_mae: 73.5327 - val_msle: 1.3203\n",
            "Epoch 99/100\n",
            "2681/2681 [==============================] - 13s 5ms/step - loss: 39905.5781 - mse: 39905.5781 - mae: 59.4511 - msle: 1.3394 - val_loss: 92045.0234 - val_mse: 92045.0234 - val_mae: 73.4774 - val_msle: 1.3145\n",
            "Epoch 100/100\n",
            "2681/2681 [==============================] - 13s 5ms/step - loss: 39879.5469 - mse: 39879.5469 - mae: 59.3896 - msle: 1.3329 - val_loss: 92011.7734 - val_mse: 92011.7734 - val_mae: 73.4240 - val_msle: 1.3090\n"
          ]
        }
      ]
    },
    {
      "cell_type": "code",
      "source": [
        "pyplot.plot(history.history['mse'])\n",
        "pyplot.show()"
      ],
      "metadata": {
        "colab": {
          "base_uri": "https://localhost:8080/",
          "height": 276
        },
        "id": "1Vgx16qbphYx",
        "outputId": "412aac12-ea60-43b5-c19e-c7e8c98078de"
      },
      "execution_count": 25,
      "outputs": [
        {
          "output_type": "display_data",
          "data": {
            "image/png": "[encoded data removed]",
            "text/plain": [
              "<Figure size 432x288 with 1 Axes>"
            ]
          },
          "metadata": {
            "needs_background": "light"
          }
        }
      ]
    },
    {
      "cell_type": "code",
      "source": [
        "pyplot.plot(history.history['mae'])\n",
        "pyplot.show()"
      ],
      "metadata": {
        "colab": {
          "base_uri": "https://localhost:8080/",
          "height": 265
        },
        "id": "1GKQsX0ppRIB",
        "outputId": "d0581c32-3045-4da0-eca5-3fc2be1296ce"
      },
      "execution_count": 26,
      "outputs": [
        {
          "output_type": "display_data",
          "data": {
            "image/png": "[encoded data removed]",
            "text/plain": [
              "<Figure size 432x288 with 1 Axes>"
            ]
          },
          "metadata": {
            "needs_background": "light"
          }
        }
      ]
    },
    {
      "cell_type": "code",
      "source": [
        "pyplot.plot(history.history['msle'])\n",
        "pyplot.show()"
      ],
      "metadata": {
        "colab": {
          "base_uri": "https://localhost:8080/",
          "height": 265
        },
        "id": "CIxrxpZzpRGo",
        "outputId": "06419f5c-57da-45fa-c39e-f7806cd7915d"
      },
      "execution_count": 27,
      "outputs": [
        {
          "output_type": "display_data",
          "data": {
            "image/png": "[encoded data removed]",
            "text/plain": [
              "<Figure size 432x288 with 1 Axes>"
            ]
          },
          "metadata": {
            "needs_background": "light"
          }
        }
      ]
    },
    {
      "cell_type": "code",
      "source": [
        "with open(\"/content/drive/MyDrive/dataset-predict.json\") as json_file:\n",
        "    dataset_test = json.loads(json_file.read())"
      ],
      "metadata": {
        "id": "W0TxvHvgUi4k"
      },
      "execution_count": 28,
      "outputs": []
    },
    {
      "cell_type": "code",
      "source": [
        "arr_test = []\n",
        "data_test = np.empty(shape=(0, 8))\n",
        "test_listOfArrays = []\n",
        "for j in dataset_test.keys():\n",
        "    print(\"************** \", str(j))\n",
        "    for i in dataset_test[j]:\n",
        "        arr_test = float(i.get('open')), float(i.get('high')), float(i.get('low')), float(i.get('close')), \\\n",
        "              float(i.get('volume')), float(i.get('rsi')), float(i.get('sma')), float(i.get('ema'))\n",
        "        data_test = np.append(data, [arr], axis=0)\n",
        "    print(data_test.shape)\n",
        "    test_listOfArrays.append(data)"
      ],
      "metadata": {
        "colab": {
          "base_uri": "https://localhost:8080/"
        },
        "id": "mxt3QrA4W3oV",
        "outputId": "30d78bf3-00d5-4bdc-8efd-03947c6c12d7"
      },
      "execution_count": 33,
      "outputs": [
        {
          "output_type": "stream",
          "name": "stdout",
          "text": [
            "<class 'dict'>\n",
            "**************  IBM\n",
            "(5, 8)\n"
          ]
        }
      ]
    },
    {
      "cell_type": "code",
      "source": [
        "test_input_data = np.empty((0,32))\n",
        "test_output_data = np.empty((0,))\n",
        "for company in test_listOfArrays:\n",
        "    num_rows, _ = company.shape\n",
        "    for i in range(num_rows):\n",
        "        if i + 4 > num_rows-1:\n",
        "            print(company[i])\n",
        "            break\n",
        "        add_test = np.array([company[i], company[i + 1], company[i + 2], company[i + 3]]).reshape(1,32)\n",
        "        test_input_data=np.append(test_input_data, add_test, axis=0)\n",
        "        add_test = np.array([calculate_typical_price(company[i + 4])])\n",
        "        test_output_data=np.append(test_output_data, add_test, axis=0)"
      ],
      "metadata": {
        "colab": {
          "base_uri": "https://localhost:8080/"
        },
        "id": "IyPBRPk8XCKC",
        "outputId": "adf54e22-fe64-4e00-959b-85e11734d99e"
      },
      "execution_count": 38,
      "outputs": [
        {
          "output_type": "stream",
          "name": "stdout",
          "text": [
            "[1.11620e+02 1.11940e+02 1.07560e+02 1.09000e+02 1.25888e+07 5.87323e+01\n",
            " 5.96682e+01 6.00730e+01]\n"
          ]
        }
      ]
    },
    {
      "cell_type": "code",
      "source": [
        "print(test_input_data.shape)\n",
        "print(test_output_data.shape)\n",
        "print(test_input_data)\n",
        "print(test_output_data)"
      ],
      "metadata": {
        "colab": {
          "base_uri": "https://localhost:8080/"
        },
        "id": "e-QTn8ALXphl",
        "outputId": "f283bee0-bf31-40a6-adeb-514862f409f5"
      },
      "execution_count": 46,
      "outputs": [
        {
          "output_type": "stream",
          "name": "stdout",
          "text": [
            "(1, 32)\n",
            "(1,)\n",
            "[[1.08120e+02 1.12750e+02 1.06560e+02 1.09700e+02 7.13520e+06 5.92444e+01\n",
            "  6.01216e+01 6.03414e+01 1.11620e+02 1.11940e+02 1.07560e+02 1.09000e+02\n",
            "  1.25888e+07 5.87323e+01 5.96682e+01 6.00730e+01 1.20500e+02 1.22120e+02\n",
            "  1.12250e+02 1.13370e+02 1.66430e+07 6.35152e+01 5.92612e+01 5.98159e+01\n",
            "  1.16250e+02 1.21000e+02 1.15500e+02 1.18280e+02 8.13980e+06 6.96315e+01\n",
            "  5.88181e+01 5.93264e+01]]\n",
            "[117.08333333]\n"
          ]
        }
      ]
    },
    {
      "cell_type": "code",
      "source": [
        "prediction = model.predict(test_input_data)\n",
        "print(prediction)\n",
        "print(test_output_data[0])"
      ],
      "metadata": {
        "colab": {
          "base_uri": "https://localhost:8080/"
        },
        "id": "gyYOvdXPZB9S",
        "outputId": "fc552f73-fbdd-41db-aeb5-fec4bfe25154"
      },
      "execution_count": 45,
      "outputs": [
        {
          "output_type": "stream",
          "name": "stdout",
          "text": [
            "[[25.581577]]\n",
            "117.08333333333333\n"
          ]
        }
      ]
    }
  ]
}